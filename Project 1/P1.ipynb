{
  "nbformat": 4,
  "nbformat_minor": 0,
  "metadata": {
    "kernelspec": {
      "name": "python3",
      "display_name": "Python 3",
      "language": "python"
    },
    "language_info": {
      "mimetype": "text/x-python",
      "nbconvert_exporter": "python",
      "name": "python",
      "pygments_lexer": "ipython3",
      "version": "3.5.4",
      "file_extension": ".py",
      "codemirror_mode": {
        "version": 3,
        "name": "ipython"
      }
    },
    "colab": {
      "name": "Εργασία_1η_Ομάδα_68_Datasets_ S05-B08.ipynb",
      "provenance": [],
      "collapsed_sections": [
        "EZdL8qa7iDjh"
      ],
      "toc_visible": true
    }
  },
  "cells": [
    {
      "cell_type": "markdown",
      "metadata": {
        "id": "bHNuaoEHjs_P"
      },
      "source": [
        "# Μικρό dataset (S05)\n"
      ]
    },
    {
      "cell_type": "markdown",
      "metadata": {
        "id": "HeGaiGUFkl7f"
      },
      "source": [
        "## Α. Βασικές πληροφορίες\n"
      ]
    },
    {
      "cell_type": "markdown",
      "metadata": {
        "id": "gGFs-Nw8G7Db"
      },
      "source": [
        "### 1.Παρουσίαση"
      ]
    },
    {
      "cell_type": "markdown",
      "metadata": {
        "id": "jnsX6J-RF6_0"
      },
      "source": [
        "![UCI ML Logo](http://archive.ics.uci.edu/ml/assets/logo.gif \"UCI Machine Learning Repository\")\n",
        "\n",
        "Το dataset δημιουργήθηκε σε ένα πανεπιστημιακό νοσοκομείο της Πορτογαλίας και περιέχει διάφορα δημογραφικά, εργαστηριακά και άλλα χαρακτηριστικά και ρίσκη σχετικά με την Ιατρική. Τα δεδομένα συλλέχθηκαν από 165 ασθενείς που είχαν διαγνωστεί με HCC. Σύμφωνα με το documentation, κάθε δείγμα περιέχει 49 χαρακτηριστικά, επιλεγμένα σύμφωνα με το *EASL-EORTC (European Association for the Study of the Liver - European Organisation for Research and Treatment of Cancer) Clinical Practice Guidelines*, που είναι το state-of-the-art στη διαχείριση του HCC. Περισσότερα στο *Santos et al. \"A new cluster-based oversampling method for improving survival prediction of hepatocellular carcinoma patients\", Journal of biomedical informatics, 58, 49-59, 2015*. Παρακάτω θα επιβεβαιώσουμε αυτά τα στοιχεία.<br/>\n"
      ]
    },
    {
      "cell_type": "code",
      "metadata": {
        "trusted": true,
        "id": "jFJVMD2nF6_5",
        "colab": {
          "base_uri": "https://localhost:8080/"
        },
        "outputId": "0693136b-8ff8-4436-cb11-4338415c30ee"
      },
      "source": [
        "!pip install --upgrade pip #upgrade pip package installer\n",
        "!pip install scikit-learn --upgrade #upgrade scikit-learn package\n",
        "!pip install numpy --upgrade #upgrade numpy package\n",
        "!pip install pandas --upgrade #upgrade pandas package\n",
        "!pip install -U imbalanced-learn #for imbalanced datasets"
      ],
      "execution_count": null,
      "outputs": [
        {
          "output_type": "stream",
          "text": [
            "Requirement already satisfied: pip in /usr/local/lib/python3.6/dist-packages (20.3)\n",
            "Requirement already satisfied: scikit-learn in /usr/local/lib/python3.6/dist-packages (0.23.2)\n",
            "Requirement already satisfied: scipy>=0.19.1 in /usr/local/lib/python3.6/dist-packages (from scikit-learn) (1.4.1)\n",
            "Requirement already satisfied: numpy>=1.13.3 in /usr/local/lib/python3.6/dist-packages (from scikit-learn) (1.19.4)\n",
            "Requirement already satisfied: joblib>=0.11 in /usr/local/lib/python3.6/dist-packages (from scikit-learn) (0.17.0)\n",
            "Requirement already satisfied: threadpoolctl>=2.0.0 in /usr/local/lib/python3.6/dist-packages (from scikit-learn) (2.1.0)\n",
            "Requirement already satisfied: numpy>=1.13.3 in /usr/local/lib/python3.6/dist-packages (from scikit-learn) (1.19.4)\n",
            "Requirement already satisfied: numpy in /usr/local/lib/python3.6/dist-packages (1.19.4)\n",
            "Requirement already satisfied: pandas in /usr/local/lib/python3.6/dist-packages (1.1.4)\n",
            "Requirement already satisfied: python-dateutil>=2.7.3 in /usr/local/lib/python3.6/dist-packages (from pandas) (2.8.1)\n",
            "Requirement already satisfied: pytz>=2017.2 in /usr/local/lib/python3.6/dist-packages (from pandas) (2018.9)\n",
            "Requirement already satisfied: numpy>=1.15.4 in /usr/local/lib/python3.6/dist-packages (from pandas) (1.19.4)\n",
            "Requirement already satisfied: six>=1.5 in /usr/local/lib/python3.6/dist-packages (from python-dateutil>=2.7.3->pandas) (1.15.0)\n",
            "Requirement already satisfied: imbalanced-learn in /usr/local/lib/python3.6/dist-packages (0.4.3)\n",
            "Collecting imbalanced-learn\n",
            "  Downloading imbalanced_learn-0.7.0-py3-none-any.whl (167 kB)\n",
            "\u001b[K     |████████████████████████████████| 167 kB 7.4 MB/s \n",
            "\u001b[?25hRequirement already satisfied: scipy>=0.19.1 in /usr/local/lib/python3.6/dist-packages (from imbalanced-learn) (1.4.1)\n",
            "Requirement already satisfied: scikit-learn>=0.23 in /usr/local/lib/python3.6/dist-packages (from imbalanced-learn) (0.23.2)\n",
            "Requirement already satisfied: joblib>=0.11 in /usr/local/lib/python3.6/dist-packages (from imbalanced-learn) (0.17.0)\n",
            "Requirement already satisfied: numpy>=1.13.3 in /usr/local/lib/python3.6/dist-packages (from imbalanced-learn) (1.19.4)\n",
            "Requirement already satisfied: scipy>=0.19.1 in /usr/local/lib/python3.6/dist-packages (from imbalanced-learn) (1.4.1)\n",
            "Requirement already satisfied: threadpoolctl>=2.0.0 in /usr/local/lib/python3.6/dist-packages (from scikit-learn>=0.23->imbalanced-learn) (2.1.0)\n",
            "Requirement already satisfied: joblib>=0.11 in /usr/local/lib/python3.6/dist-packages (from imbalanced-learn) (0.17.0)\n",
            "Requirement already satisfied: numpy>=1.13.3 in /usr/local/lib/python3.6/dist-packages (from imbalanced-learn) (1.19.4)\n",
            "Requirement already satisfied: numpy>=1.13.3 in /usr/local/lib/python3.6/dist-packages (from imbalanced-learn) (1.19.4)\n",
            "Installing collected packages: imbalanced-learn\n",
            "  Attempting uninstall: imbalanced-learn\n",
            "    Found existing installation: imbalanced-learn 0.4.3\n",
            "    Uninstalling imbalanced-learn-0.4.3:\n",
            "      Successfully uninstalled imbalanced-learn-0.4.3\n",
            "Successfully installed imbalanced-learn-0.7.0\n"
          ],
          "name": "stdout"
        }
      ]
    },
    {
      "cell_type": "code",
      "metadata": {
        "id": "z69KFl8lqWYE"
      },
      "source": [
        "# Μερικές απαραίτητες βιβλιοθήκες\n",
        "import time\n",
        "import pandas as pd\n",
        "import numpy as np\n",
        "import matplotlib.pyplot as plt\n",
        "from sklearn.svm import LinearSVC, SVC\n",
        "from sklearn.model_selection import GridSearchCV\n",
        "from sklearn.pipeline import make_pipeline\n",
        "from sklearn import preprocessing\n",
        "from sklearn.preprocessing import StandardScaler, MinMaxScaler\n",
        "from sklearn.metrics import plot_confusion_matrix, classification_report, precision_recall_fscore_support\n",
        "from sklearn.metrics import f1_score, confusion_matrix, accuracy_score\n",
        "from sklearn.feature_selection import VarianceThreshold\n",
        "from imblearn.over_sampling import SMOTE, RandomOverSampler\n",
        "from imblearn.pipeline import Pipeline\n",
        "from sklearn.decomposition import PCA"
      ],
      "execution_count": null,
      "outputs": []
    },
    {
      "cell_type": "code",
      "metadata": {
        "trusted": true,
        "id": "dr496q_dF7Aa"
      },
      "source": [
        "# Συνάρτηση για \"ομορφότερη\" εκτύπωση δισδιάστατων πινάκων, ώστε να μην παρουσιάζονται ως λίστα λιστών.\n",
        "# Εκτυπώνουμε τις 20 πρώτες σειρές για λόγους οικονομίας χώρου.\n",
        "def print_matrix(matrix):\n",
        "    print('\\n'.join(['\\t'.join([str(cell) for cell in row]) for row in matrix[0:20,:]]))\n",
        "    "
      ],
      "execution_count": null,
      "outputs": []
    },
    {
      "cell_type": "code",
      "metadata": {
        "id": "CJotuzirq717"
      },
      "source": [
        "# Αρχικά πρέπει να γίνει upload αρχείο \"hcc-data.txt\",το οποίο είναι το S05 dataset\n",
        "df = pd.read_csv(\"hcc-data.txt\", header=None)"
      ],
      "execution_count": null,
      "outputs": []
    },
    {
      "cell_type": "markdown",
      "metadata": {
        "id": "uEhYIq2XHE2t"
      },
      "source": [
        "### 2.Δείγματα & χαρακτηριστικά"
      ]
    },
    {
      "cell_type": "markdown",
      "metadata": {
        "id": "qlw1CB-ZqxqT"
      },
      "source": [
        "<h4>Αριθμός δειγμάτων και χαρακτηριστικών, είδος χαρακτηριστικών. Υπάρχουν μη διατεταγμένα χαρακτηριστικά και ποια είναι αυτά;</h4>\n"
      ]
    },
    {
      "cell_type": "code",
      "metadata": {
        "trusted": true,
        "id": "wsakioxwF7As",
        "colab": {
          "base_uri": "https://localhost:8080/"
        },
        "outputId": "70dfff80-a914-412e-dd1e-66e334087b7d"
      },
      "source": [
        "print (df.shape)\n",
        "print(\"To dataset έχει \",df.shape[0],\"δείγματα και \",df.shape[1]-1,\"χαρακτηριστικά\")"
      ],
      "execution_count": null,
      "outputs": [
        {
          "output_type": "stream",
          "text": [
            "(165, 50)\n",
            "To dataset έχει  165 δείγματα και  49 χαρακτηριστικά\n"
          ],
          "name": "stdout"
        }
      ]
    },
    {
      "cell_type": "markdown",
      "metadata": {
        "id": "93AjeOByiLYA"
      },
      "source": [
        "\n",
        "\n",
        "<STRONG><h5>Αριθμός δειγμάτων:</h5>   165  <br/>\n",
        "<h5>Αριθμός χαρακτηριστικών:</h5> &nbsp 49 <br/>\n",
        "<h5>Είδος χαρακτηριστικών:</h5></STRONG>  \n",
        "\n",
        " Πρόκειται για ένα ετερογενές σύνολο δεδομένων, με 26 ποσοτικές και 23 ποιοτικές(oνομαστικές) μεταβλητές. Στα ονομαστικά χαρακτηριστικά η τιμή 0 δηλώνει την απουσία/έλλειψη του εκάστοτε χαρακτηριστικού,ενώ η τιμή 1 πως το χακτηριστικό λαμβάνει χώρα στον συγκεκριμένο ασθενή.\n",
        "<br/> \n",
        "<br/> \n",
        "      <h4>  Ονομαστικά χαρακτηριστικά</h4> (τιμές 0 ή 1) <br/> <br/> \n",
        "\n",
        "<table class=\"tg\">\n",
        "<thead>\n",
        "  <tr>\n",
        "    <th class=\"tg-0pky\">ΑΑ</th>\n",
        "    <th class=\"tg-0pky\">Χαρακτηριστικό</th>\n",
        "  </tr>\n",
        "</thead>\n",
        "<tbody>\n",
        "  <tr>\n",
        "    <td class=\"tg-0pky\">1</td>\n",
        "    <td class=\"tg-0pky\">Φύλο</td>\n",
        "  </tr>\n",
        "  <tr>\n",
        "    <td class=\"tg-0pky\">2</td>\n",
        "    <td class=\"tg-0pky\">Συμπτώματα</td>\n",
        "  </tr>\n",
        "  <tr>\n",
        "    <td class=\"tg-0pky\">3</td>\n",
        "    <td class=\"tg-0pky\">Αλκοόλ</td>\n",
        "  </tr>\n",
        "  <tr>\n",
        "    <td class=\"tg-0pky\">4</td>\n",
        "    <td class=\"tg-0pky\">Επιφανειακό αντιγόνο ηπατίτιδας Β</td>\n",
        "  </tr>\n",
        "  <tr>\n",
        "    <td class=\"tg-0pky\">5</td>\n",
        "    <td class=\"tg-0pky\">Ηπατίτιδα Β και αντιγόνο</td>\n",
        "  </tr>\n",
        "  <tr>\n",
        "    <td class=\"tg-0pky\">6</td>\n",
        "    <td class=\"tg-0pky\">Αντίσωμα πυρήνα ηπατίτιδας Β</td>\n",
        "  </tr>\n",
        "  <tr>\n",
        "    <td class=\"tg-0pky\">7</td>\n",
        "    <td class=\"tg-0pky\">Αντίσωμα ιού της ηπατίτιδας C</td>\n",
        "  </tr>\n",
        "  <tr>\n",
        "    <td class=\"tg-0pky\">8</td>\n",
        "    <td class=\"tg-0pky\">Κίρρωση</td>\n",
        "  </tr>\n",
        "  <tr>\n",
        "    <td class=\"tg-0pky\">9</td>\n",
        "    <td class=\"tg-0pky\">Ενδημικές χώρες</td>\n",
        "  </tr>\n",
        "  <tr>\n",
        "    <td class=\"tg-0pky\">10</td>\n",
        "    <td class=\"tg-0pky\">Κάπνισμα</td>\n",
        "  </tr>\n",
        "  <tr>\n",
        "    <td class=\"tg-0pky\">11</td>\n",
        "    <td class=\"tg-0pky\">Διαβήτηςς</td>\n",
        "  </tr>\n",
        "  <tr>\n",
        "    <td class=\"tg-0pky\">12</td>\n",
        "    <td class=\"tg-0pky\">Παχυσαρκία</td>\n",
        "  </tr>\n",
        "  <tr>\n",
        "    <td class=\"tg-0pky\">13</td>\n",
        "    <td class=\"tg-0pky\">Αιμοχρωμάτωση</td>\n",
        "  </tr>\n",
        "  <tr>\n",
        "    <td class=\"tg-0pky\">14</td>\n",
        "    <td class=\"tg-0pky\">Αρτηριακή υπέρταση</td>\n",
        "  </tr>\n",
        "  <tr>\n",
        "    <td class=\"tg-0pky\">15</td>\n",
        "    <td class=\"tg-0pky\">Χρόνια νεφρική ανεπάρκεια</td>\n",
        "  </tr>\n",
        "  <tr>\n",
        "    <td class=\"tg-0pky\">16</td>\n",
        "    <td class=\"tg-0pky\">Ιός ανθρώπινης ανοσοανεπάρκειας</td>\n",
        "  </tr>\n",
        "  <tr>\n",
        "    <td class=\"tg-0pky\">17</td>\n",
        "    <td class=\"tg-0pky\">Μη αλκοολική στεατοπαπατίτιδα</td>\n",
        "  </tr>\n",
        "  <tr>\n",
        "    <td class=\"tg-0pky\">18</td>\n",
        "    <td class=\"tg-0pky\">Οισοφαγικές μεταβλητές</td>\n",
        "  </tr>\n",
        "  <tr>\n",
        "    <td class=\"tg-0pky\">19</td>\n",
        "    <td class=\"tg-0pky\">Σπληνομεγαλία</td>\n",
        "  </tr>\n",
        "  <tr>\n",
        "    <td class=\"tg-0pky\">20</td>\n",
        "    <td class=\"tg-0pky\">Υπέρταση πύλης</td>\n",
        "  </tr>\n",
        "  <tr>\n",
        "    <td class=\"tg-0pky\">21</td>\n",
        "    <td class=\"tg-0pky\">Θρόμβωση Portal Vein</td>\n",
        "  </tr>\n",
        "  <tr>\n",
        "    <td class=\"tg-0pky\">22</td>\n",
        "    <td class=\"tg-0pky\">Ηπατική μετάσταση</td>\n",
        "  </tr>\n",
        "  <tr>\n",
        "    <td class=\"tg-0pky\">23</td>\n",
        "    <td class=\"tg-0pky\">Ακτινολογικό χαρακτηριστικό</td>\n",
        "  </tr>\n",
        "</tbody>\n",
        "</table>\n",
        "\n",
        "<br/> \n",
        "<br/> \n",
        "\n",
        "<h4>  Αριθμητικά χαρακτηριστικά </h4> \n",
        "<br/> \n",
        "\n",
        "\n",
        "<table class=\"tg\">\n",
        "<thead>\n",
        "  <tr>\n",
        "    <th class=\"tg-0pky\">ΑΑ</th>\n",
        "    <th class=\"tg-0pky\">Χαρακτηριστικό</th>\n",
        "  </tr>\n",
        "</thead>\n",
        "<tbody>\n",
        "  <tr>\n",
        "    <td class=\"tg-0pky\">1</td>\n",
        "    <td class=\"tg-0pky\">Ηλικία διάγνωσης</td>\n",
        "  </tr>\n",
        "  <tr>\n",
        "    <td class=\"tg-0pky\">2</td>\n",
        "    <td class=\"tg-0pky\">Γραμμάρια αλκοόλ ανά ημέρα</td>\n",
        "  </tr>\n",
        "  <tr>\n",
        "    <td class=\"tg-0pky\">3</td>\n",
        "    <td class=\"tg-0pky\">Συσκευασίες τσιγάρων ανά έτος</td>\n",
        "  </tr>\n",
        "  <tr>\n",
        "    <td class=\"tg-0pky\">4</td>\n",
        "    <td class=\"tg-0pky\">Κατάσταση απόδοσης</td>\n",
        "  </tr>\n",
        "  <tr>\n",
        "    <td class=\"tg-0pky\">5</td>\n",
        "    <td class=\"tg-0pky\">Βαθμός εγκεφαλοπάθειας</td>\n",
        "  </tr>\n",
        "  <tr>\n",
        "    <td class=\"tg-0pky\">6</td>\n",
        "    <td class=\"tg-0pky\">Βαθμός ασκίτη</td>\n",
        "  </tr>\n",
        "  <tr>\n",
        "    <td class=\"tg-0pky\">7</td>\n",
        "    <td class=\"tg-0pky\">Διεθνής ομαλοποιημένη αναλογία</td>\n",
        "  </tr>\n",
        "  <tr>\n",
        "    <td class=\"tg-0pky\">8</td>\n",
        "    <td class=\"tg-0pky\">Alpha-Fetoprotein (ng / mL)</td>\n",
        "  </tr>\n",
        "  <tr>\n",
        "    <td class=\"tg-0pky\">9</td>\n",
        "    <td class=\"tg-0pky\">Αιμοσφαιρίνη (g / dL)</td>\n",
        "  </tr>\n",
        "  <tr>\n",
        "    <td class=\"tg-0pky\">10</td>\n",
        "    <td class=\"tg-0pky\">Μέσος όγκος όγκου (fl)</td>\n",
        "  </tr>\n",
        "  <tr>\n",
        "    <td class=\"tg-0pky\">11</td>\n",
        "    <td class=\"tg-0pky\">Λευκοκύτταρα (G / L)</td>\n",
        "  </tr>\n",
        "  <tr>\n",
        "    <td class=\"tg-0pky\">12</td>\n",
        "    <td class=\"tg-0pky\">Αιμοπετάλια (G / L)</td>\n",
        "  </tr>\n",
        "  <tr>\n",
        "    <td class=\"tg-0pky\">13</td>\n",
        "    <td class=\"tg-0pky\">Αλβουμίνη (mg / dL)</td>\n",
        "  </tr>\n",
        "  <tr>\n",
        "    <td class=\"tg-0pky\">14</td>\n",
        "    <td class=\"tg-0pky\">Ολική χολερυθρίνη (mg / dL)</td>\n",
        "  </tr>\n",
        "  <tr>\n",
        "    <td class=\"tg-0pky\">15</td>\n",
        "    <td class=\"tg-0pky\">Τρανσαμινάση αλανίνης (U / L)</td>\n",
        "  </tr>\n",
        "  <tr>\n",
        "    <td class=\"tg-0pky\">16</td>\n",
        "    <td class=\"tg-0pky\">Ασπαρτική τρανσαμινάση (U / L)</td>\n",
        "  </tr>\n",
        "  <tr>\n",
        "    <td class=\"tg-0pky\">17</td>\n",
        "    <td class=\"tg-0pky\">Γ-γλουταμυλ τρανσφεράση (U / L)</td>\n",
        "  </tr>\n",
        "  <tr>\n",
        "    <td class=\"tg-0pky\">18</td>\n",
        "    <td class=\"tg-0pky\">Αλκαλική φωσφατάση (U / L)</td>\n",
        "  </tr>\n",
        "  <tr>\n",
        "    <td class=\"tg-0pky\">19</td>\n",
        "    <td class=\"tg-0pky\">Σύνολο πρωτεϊνών (g / dL)</td>\n",
        "  </tr>\n",
        "  <tr>\n",
        "    <td class=\"tg-0pky\">20</td>\n",
        "    <td class=\"tg-0pky\">Κρεατινίνη (mg / dL)</td>\n",
        "  </tr>\n",
        "  <tr>\n",
        "    <td class=\"tg-0pky\">21</td>\n",
        "    <td class=\"tg-0pky\">Αριθμός κόμβων</td>\n",
        "  </tr>\n",
        "  <tr>\n",
        "    <td class=\"tg-0pky\">22</td>\n",
        "    <td class=\"tg-0pky\">Κύρια διάσταση του οζιδίου (cm)</td>\n",
        "  </tr>\n",
        "  <tr>\n",
        "    <td class=\"tg-0pky\">23</td>\n",
        "    <td class=\"tg-0pky\">Άμεση χολερυθρίνη (mg / dL)</td>\n",
        "  </tr>\n",
        "  <tr>\n",
        "    <td class=\"tg-0pky\">24</td>\n",
        "    <td class=\"tg-0pky\">Σίδηρος (mcg / dL)</td>\n",
        "  </tr>\n",
        "  <tr>\n",
        "    <td class=\"tg-0pky\">25</td>\n",
        "    <td class=\"tg-0pky\">Κορεσμός οξυγόνου (%)</td>\n",
        "  </tr>\n",
        "  <tr>\n",
        "    <td class=\"tg-0pky\">26</td>\n",
        "    <td class=\"tg-0pky\">Φερριτίνη (ng / mL)</td>\n",
        "  </tr>\n",
        "</tbody>\n",
        "</table>\n",
        "      \n",
        "<br/> <br/> \n",
        "\n",
        "\n",
        "Σημειώνεται πως όλες οι αριθμητικές είναι συνεχής εκτός από την \"Ηλικία διάγνωσης\",η οποία πρόκεται για ακέραια αριθμητική μεταβλητή."
      ]
    },
    {
      "cell_type": "markdown",
      "metadata": {
        "id": "vzgst-K7H3E9"
      },
      "source": [
        "### 3.Επικεφαλίδες & αρίθμηση"
      ]
    },
    {
      "cell_type": "markdown",
      "metadata": {
        "id": "mSC_4ccBiP7v"
      },
      "source": [
        "\n",
        "<h4> Υπάρχουν επικεφαλίδες; Αρίθμηση γραμμών;</h4>\n",
        "\n",
        "Δεν υπάρχουν επικεφαλίδες ούτε αρίθμηση γραμμών,όπως φαίνεται από τα αποτελέσματα της παρακάτω εντολής.\n"
      ]
    },
    {
      "cell_type": "code",
      "metadata": {
        "trusted": true,
        "id": "dlKldiqPF7Aj",
        "colab": {
          "base_uri": "https://localhost:8080/",
          "height": 224
        },
        "outputId": "9dc297ac-ad0a-4d52-c77c-5c05a2ad896c"
      },
      "source": [
        "df.head()"
      ],
      "execution_count": null,
      "outputs": [
        {
          "output_type": "execute_result",
          "data": {
            "text/html": [
              "<div>\n",
              "<style scoped>\n",
              "    .dataframe tbody tr th:only-of-type {\n",
              "        vertical-align: middle;\n",
              "    }\n",
              "\n",
              "    .dataframe tbody tr th {\n",
              "        vertical-align: top;\n",
              "    }\n",
              "\n",
              "    .dataframe thead th {\n",
              "        text-align: right;\n",
              "    }\n",
              "</style>\n",
              "<table border=\"1\" class=\"dataframe\">\n",
              "  <thead>\n",
              "    <tr style=\"text-align: right;\">\n",
              "      <th></th>\n",
              "      <th>0</th>\n",
              "      <th>1</th>\n",
              "      <th>2</th>\n",
              "      <th>3</th>\n",
              "      <th>4</th>\n",
              "      <th>5</th>\n",
              "      <th>6</th>\n",
              "      <th>7</th>\n",
              "      <th>8</th>\n",
              "      <th>9</th>\n",
              "      <th>10</th>\n",
              "      <th>11</th>\n",
              "      <th>12</th>\n",
              "      <th>13</th>\n",
              "      <th>14</th>\n",
              "      <th>15</th>\n",
              "      <th>16</th>\n",
              "      <th>17</th>\n",
              "      <th>18</th>\n",
              "      <th>19</th>\n",
              "      <th>20</th>\n",
              "      <th>21</th>\n",
              "      <th>22</th>\n",
              "      <th>23</th>\n",
              "      <th>24</th>\n",
              "      <th>25</th>\n",
              "      <th>26</th>\n",
              "      <th>27</th>\n",
              "      <th>28</th>\n",
              "      <th>29</th>\n",
              "      <th>30</th>\n",
              "      <th>31</th>\n",
              "      <th>32</th>\n",
              "      <th>33</th>\n",
              "      <th>34</th>\n",
              "      <th>35</th>\n",
              "      <th>36</th>\n",
              "      <th>37</th>\n",
              "      <th>38</th>\n",
              "      <th>39</th>\n",
              "      <th>40</th>\n",
              "      <th>41</th>\n",
              "      <th>42</th>\n",
              "      <th>43</th>\n",
              "      <th>44</th>\n",
              "      <th>45</th>\n",
              "      <th>46</th>\n",
              "      <th>47</th>\n",
              "      <th>48</th>\n",
              "      <th>49</th>\n",
              "    </tr>\n",
              "  </thead>\n",
              "  <tbody>\n",
              "    <tr>\n",
              "      <th>0</th>\n",
              "      <td>1</td>\n",
              "      <td>0</td>\n",
              "      <td>1</td>\n",
              "      <td>0</td>\n",
              "      <td>0</td>\n",
              "      <td>0</td>\n",
              "      <td>0</td>\n",
              "      <td>1</td>\n",
              "      <td>0</td>\n",
              "      <td>1</td>\n",
              "      <td>1</td>\n",
              "      <td>?</td>\n",
              "      <td>1</td>\n",
              "      <td>0</td>\n",
              "      <td>0</td>\n",
              "      <td>0</td>\n",
              "      <td>0</td>\n",
              "      <td>1</td>\n",
              "      <td>0</td>\n",
              "      <td>0</td>\n",
              "      <td>0</td>\n",
              "      <td>0</td>\n",
              "      <td>1</td>\n",
              "      <td>67</td>\n",
              "      <td>137</td>\n",
              "      <td>15</td>\n",
              "      <td>0</td>\n",
              "      <td>1</td>\n",
              "      <td>1</td>\n",
              "      <td>1.53</td>\n",
              "      <td>95</td>\n",
              "      <td>13.7</td>\n",
              "      <td>106.6</td>\n",
              "      <td>4.9</td>\n",
              "      <td>99</td>\n",
              "      <td>3.4</td>\n",
              "      <td>2.1</td>\n",
              "      <td>34</td>\n",
              "      <td>41</td>\n",
              "      <td>183</td>\n",
              "      <td>150</td>\n",
              "      <td>7.1</td>\n",
              "      <td>0.7</td>\n",
              "      <td>1</td>\n",
              "      <td>3.5</td>\n",
              "      <td>0.5</td>\n",
              "      <td>?</td>\n",
              "      <td>?</td>\n",
              "      <td>?</td>\n",
              "      <td>1</td>\n",
              "    </tr>\n",
              "    <tr>\n",
              "      <th>1</th>\n",
              "      <td>0</td>\n",
              "      <td>?</td>\n",
              "      <td>0</td>\n",
              "      <td>0</td>\n",
              "      <td>0</td>\n",
              "      <td>0</td>\n",
              "      <td>1</td>\n",
              "      <td>1</td>\n",
              "      <td>?</td>\n",
              "      <td>?</td>\n",
              "      <td>1</td>\n",
              "      <td>0</td>\n",
              "      <td>0</td>\n",
              "      <td>1</td>\n",
              "      <td>0</td>\n",
              "      <td>0</td>\n",
              "      <td>0</td>\n",
              "      <td>1</td>\n",
              "      <td>0</td>\n",
              "      <td>0</td>\n",
              "      <td>0</td>\n",
              "      <td>0</td>\n",
              "      <td>1</td>\n",
              "      <td>62</td>\n",
              "      <td>0</td>\n",
              "      <td>?</td>\n",
              "      <td>0</td>\n",
              "      <td>1</td>\n",
              "      <td>1</td>\n",
              "      <td>?</td>\n",
              "      <td>?</td>\n",
              "      <td>?</td>\n",
              "      <td>?</td>\n",
              "      <td>?</td>\n",
              "      <td>?</td>\n",
              "      <td>?</td>\n",
              "      <td>?</td>\n",
              "      <td>?</td>\n",
              "      <td>?</td>\n",
              "      <td>?</td>\n",
              "      <td>?</td>\n",
              "      <td>?</td>\n",
              "      <td>?</td>\n",
              "      <td>1</td>\n",
              "      <td>1.8</td>\n",
              "      <td>?</td>\n",
              "      <td>?</td>\n",
              "      <td>?</td>\n",
              "      <td>?</td>\n",
              "      <td>1</td>\n",
              "    </tr>\n",
              "    <tr>\n",
              "      <th>2</th>\n",
              "      <td>1</td>\n",
              "      <td>0</td>\n",
              "      <td>1</td>\n",
              "      <td>1</td>\n",
              "      <td>0</td>\n",
              "      <td>1</td>\n",
              "      <td>0</td>\n",
              "      <td>1</td>\n",
              "      <td>0</td>\n",
              "      <td>1</td>\n",
              "      <td>0</td>\n",
              "      <td>0</td>\n",
              "      <td>0</td>\n",
              "      <td>1</td>\n",
              "      <td>1</td>\n",
              "      <td>0</td>\n",
              "      <td>0</td>\n",
              "      <td>0</td>\n",
              "      <td>0</td>\n",
              "      <td>1</td>\n",
              "      <td>0</td>\n",
              "      <td>1</td>\n",
              "      <td>1</td>\n",
              "      <td>78</td>\n",
              "      <td>50</td>\n",
              "      <td>50</td>\n",
              "      <td>2</td>\n",
              "      <td>1</td>\n",
              "      <td>2</td>\n",
              "      <td>0.96</td>\n",
              "      <td>5.8</td>\n",
              "      <td>8.9</td>\n",
              "      <td>79.8</td>\n",
              "      <td>8.4</td>\n",
              "      <td>472</td>\n",
              "      <td>3.3</td>\n",
              "      <td>0.4</td>\n",
              "      <td>58</td>\n",
              "      <td>68</td>\n",
              "      <td>202</td>\n",
              "      <td>109</td>\n",
              "      <td>7</td>\n",
              "      <td>2.1</td>\n",
              "      <td>5</td>\n",
              "      <td>13</td>\n",
              "      <td>0.1</td>\n",
              "      <td>28</td>\n",
              "      <td>6</td>\n",
              "      <td>16</td>\n",
              "      <td>1</td>\n",
              "    </tr>\n",
              "    <tr>\n",
              "      <th>3</th>\n",
              "      <td>1</td>\n",
              "      <td>1</td>\n",
              "      <td>1</td>\n",
              "      <td>0</td>\n",
              "      <td>0</td>\n",
              "      <td>0</td>\n",
              "      <td>0</td>\n",
              "      <td>1</td>\n",
              "      <td>0</td>\n",
              "      <td>1</td>\n",
              "      <td>1</td>\n",
              "      <td>0</td>\n",
              "      <td>0</td>\n",
              "      <td>1</td>\n",
              "      <td>0</td>\n",
              "      <td>0</td>\n",
              "      <td>0</td>\n",
              "      <td>0</td>\n",
              "      <td>0</td>\n",
              "      <td>0</td>\n",
              "      <td>0</td>\n",
              "      <td>1</td>\n",
              "      <td>1</td>\n",
              "      <td>77</td>\n",
              "      <td>40</td>\n",
              "      <td>30</td>\n",
              "      <td>0</td>\n",
              "      <td>1</td>\n",
              "      <td>1</td>\n",
              "      <td>0.95</td>\n",
              "      <td>2440</td>\n",
              "      <td>13.4</td>\n",
              "      <td>97.1</td>\n",
              "      <td>9</td>\n",
              "      <td>279</td>\n",
              "      <td>3.7</td>\n",
              "      <td>0.4</td>\n",
              "      <td>16</td>\n",
              "      <td>64</td>\n",
              "      <td>94</td>\n",
              "      <td>174</td>\n",
              "      <td>8.1</td>\n",
              "      <td>1.11</td>\n",
              "      <td>2</td>\n",
              "      <td>15.7</td>\n",
              "      <td>0.2</td>\n",
              "      <td>?</td>\n",
              "      <td>?</td>\n",
              "      <td>?</td>\n",
              "      <td>0</td>\n",
              "    </tr>\n",
              "    <tr>\n",
              "      <th>4</th>\n",
              "      <td>1</td>\n",
              "      <td>1</td>\n",
              "      <td>1</td>\n",
              "      <td>1</td>\n",
              "      <td>0</td>\n",
              "      <td>1</td>\n",
              "      <td>0</td>\n",
              "      <td>1</td>\n",
              "      <td>0</td>\n",
              "      <td>1</td>\n",
              "      <td>0</td>\n",
              "      <td>0</td>\n",
              "      <td>0</td>\n",
              "      <td>1</td>\n",
              "      <td>1</td>\n",
              "      <td>0</td>\n",
              "      <td>0</td>\n",
              "      <td>0</td>\n",
              "      <td>0</td>\n",
              "      <td>0</td>\n",
              "      <td>0</td>\n",
              "      <td>0</td>\n",
              "      <td>1</td>\n",
              "      <td>76</td>\n",
              "      <td>100</td>\n",
              "      <td>30</td>\n",
              "      <td>0</td>\n",
              "      <td>1</td>\n",
              "      <td>1</td>\n",
              "      <td>0.94</td>\n",
              "      <td>49</td>\n",
              "      <td>14.3</td>\n",
              "      <td>95.1</td>\n",
              "      <td>6.4</td>\n",
              "      <td>199</td>\n",
              "      <td>4.1</td>\n",
              "      <td>0.7</td>\n",
              "      <td>147</td>\n",
              "      <td>306</td>\n",
              "      <td>173</td>\n",
              "      <td>109</td>\n",
              "      <td>6.9</td>\n",
              "      <td>1.8</td>\n",
              "      <td>1</td>\n",
              "      <td>9</td>\n",
              "      <td>?</td>\n",
              "      <td>59</td>\n",
              "      <td>15</td>\n",
              "      <td>22</td>\n",
              "      <td>1</td>\n",
              "    </tr>\n",
              "  </tbody>\n",
              "</table>\n",
              "</div>"
            ],
            "text/plain": [
              "   0  1   2  3  4  5  6   7  8   ...   41    42 43    44   45  46  47  48 49\n",
              "0   1  0   1  0  0  0  0   1  0  ...  7.1   0.7  1   3.5  0.5   ?   ?   ?  1\n",
              "1   0  ?   0  0  0  0  1   1  ?  ...    ?     ?  1   1.8    ?   ?   ?   ?  1\n",
              "2   1  0   1  1  0  1  0   1  0  ...    7   2.1  5    13  0.1  28   6  16  1\n",
              "3   1  1   1  0  0  0  0   1  0  ...  8.1  1.11  2  15.7  0.2   ?   ?   ?  0\n",
              "4   1  1   1  1  0  1  0   1  0  ...  6.9   1.8  1     9    ?  59  15  22  1\n",
              "\n",
              "[5 rows x 50 columns]"
            ]
          },
          "metadata": {
            "tags": []
          },
          "execution_count": 102
        }
      ]
    },
    {
      "cell_type": "markdown",
      "metadata": {
        "id": "k4CT3z0BHLEi"
      },
      "source": [
        "### 4.Κλάσεις"
      ]
    },
    {
      "cell_type": "markdown",
      "metadata": {
        "id": "MewTWbeJiVs2"
      },
      "source": [
        "\n",
        "<h4> Ποιες είναι οι ετικέτες των κλάσεων και σε ποια κολώνα βρίσκονται; </h4>\n",
        "Οι κλάσεις μας βρίσκονται στην τελευταία στήλη και πρόκειται για αριθμητικές τιμές 0 ή 1.Η τιμή 0 σηματοδοτεί πως ο ασθενής θα πεθάνει,ενώ το 1 πως θα επιβιώσει για διάστημα μέχρι ενός έτους. Υπάρχει σε ένα βαθμό class-imbalance (102 out of 165 cases alive).\n"
      ]
    },
    {
      "cell_type": "markdown",
      "metadata": {
        "id": "fqjz-yM7INYD"
      },
      "source": [
        "### 5.Μετατροπές"
      ]
    },
    {
      "cell_type": "markdown",
      "metadata": {
        "id": "NqfbzEpWiX3H"
      },
      "source": [
        "\n",
        "<h4> Χρειάστηκε να κάνετε μετατροπές στα αρχεία text και ποιες? </h4>\n",
        "\n",
        "Το Dataset μας δώθηκε σε ένα αρχείο και όλες οι μεταβλητές ήταν αριθμητικές,συνεπώς δε πραγματοποιήσαμε κάποια αλλαγή. \n"
      ]
    },
    {
      "cell_type": "markdown",
      "metadata": {
        "id": "rqH1HfqzISFS"
      },
      "source": [
        "### 6.Απουσιάζουσες τιμές"
      ]
    },
    {
      "cell_type": "markdown",
      "metadata": {
        "id": "Etd5MiqkiaTG"
      },
      "source": [
        "\n",
        "<h4> Υπάρχουν απουσιάζουσες τιμές; Πόσα είναι τα δείγματα με απουσιάζουσες τιμές και ποιο το ποσοστό τους επί του συνόλου; </h4>\n",
        "\n",
        "Συνολικά, οι απουσιάζουσες τιμές εκπροσωπούν το 10.22% του συνόλου των τιμών και μόνο 8 ασθενείς είχαν πλήρεις πληροφορίες (4.85%).\n"
      ]
    },
    {
      "cell_type": "code",
      "metadata": {
        "colab": {
          "base_uri": "https://localhost:8080/"
        },
        "id": "H-R1CpcFrk4r",
        "outputId": "cd9008b2-2c29-49c8-9480-bc3a32050d0d"
      },
      "source": [
        "data = df.to_numpy()\n",
        "# Bρίσκουμε τον αριθμό τον απουσιάζων τιμών\n",
        "cnt=0\n",
        "for x in df:\n",
        "  for attribute in df[x]:\n",
        "    if (attribute==\"?\"):\n",
        "      cnt+=1\n",
        "\n",
        "# Bρίσκουμε τους ασθενής με πλήρη δεδομένα\n",
        "full_patient = [item for item in range(len(data)) if '?' not in data[item]]\n",
        "\n",
        "\n",
        "# Υπολογίζουμε το επι της εκατό ποσοστό των απουσιάζων τιμών\n",
        "print(\"Οι απουσιάζουσες τιμές εκπροσωπούν το \",round(100*cnt/ (df.shape[0]*(df.shape[1]-1)), 2),\"% στο σύνολο όλων των χαρακτηριστικών\")\n",
        "print(\"Οι ασθενείς με πλήρης πληροφορίες είναι:\",len(full_patient))"
      ],
      "execution_count": null,
      "outputs": [
        {
          "output_type": "stream",
          "text": [
            "Οι απουσιάζουσες τιμές εκπροσωπούν το  10.22 % στο σύνολο όλων των χαρακτηριστικών\n",
            "Οι ασθενείς με πλήρης πληροφορίες είναι: 8\n"
          ],
          "name": "stdout"
        }
      ]
    },
    {
      "cell_type": "code",
      "metadata": {
        "id": "ANTzXe_tQL08"
      },
      "source": [
        "# Aντικαθιστούμε τα ερωτηματικά με \"ΝaN\",έτσι ώστε αργότερα να αντικαταστήσουμε\n",
        "# τις τιμές που λείπουν\n",
        "df.replace('?',np.NaN,inplace=True)"
      ],
      "execution_count": null,
      "outputs": []
    },
    {
      "cell_type": "markdown",
      "metadata": {
        "id": "hhTsDiY8JDny"
      },
      "source": [
        "### 7.Ισορροπία του Dataset"
      ]
    },
    {
      "cell_type": "markdown",
      "metadata": {
        "id": "pXnfohI-icTe"
      },
      "source": [
        "\n",
        "<h4> Ποιος είναι ο αριθμός των κλάσεων και τα ποσοστά δειγμάτων τους επί του συνόλου; Αν θεωρήσουμε ότι ένα dataset είναι μη ισορροπημένο αν μια οποιαδήποτε κλάση είναι 1.5 φορά πιο συχνή από κάποια άλλη (60%-40% σε binary datasets) εκτιμήστε την ισορροπία του dataset.</h4>\n",
        "</br>\n",
        "\n",
        "O αριθμός των δειγμάτων κάθε κλάσης είναι :\n",
        "</br>\n",
        "       1.  Θάνατος (\"0\") $\\to$165</br>\n",
        "       2.  Επιβίωση (\"1\")$\\to$ 34</br>\n",
        "       </br>\n",
        "\n",
        "Τα ποσοστά εμφάνισης αντίστοιχα για την κάθε κλάση είναι:<br>\n",
        "1. 38.1%  \n",
        "2. 61.9% \n",
        "\n",
        "<br>\n",
        "<br>\n",
        "\n",
        "Παρακάτω επιβεβαιώνονται τα νούμερα αφού πραγματοποιείται με λεπτομέρεια ο υπολογισμός των ποσοστών κάθε κλάσης καθώς και της καταμέτρησης των δειγμάτων με χρήση κώδικα.\n"
      ]
    },
    {
      "cell_type": "code",
      "metadata": {
        "trusted": true,
        "id": "KP9k8hHHF7A2",
        "colab": {
          "base_uri": "https://localhost:8080/"
        },
        "outputId": "e75668fe-a802-461f-c4f9-fcafce89a7ae"
      },
      "source": [
        "#Τα χαρακτηριστικά αποτελούνται από όλες τις κολόνες των δεδομένων εκτός της τελευταίας η οποία αποτελεί τις ετικέτες κάθε δείγματος. \n",
        "features_df = df.iloc[:, 0:49]\n",
        "# μετατρέπουμε τα dataframes σε numpy array\n",
        "features = features_df.values\n",
        "# ελέγχουμε αν τα χαρακτηριστικά έχουν τη μορφή που θέλουμε\n",
        "print (\"Features shape:\\n\",features.shape,\"\\n\")\n",
        "print(\"Features:\\n\")\n",
        "\n",
        "print_matrix(features)\n"
      ],
      "execution_count": null,
      "outputs": [
        {
          "output_type": "stream",
          "text": [
            "Features shape:\n",
            " (165, 49) \n",
            "\n",
            "Features:\n",
            "\n",
            "1\t0\t1\t0\t0\t0\t0\t1\t0\t1\t1\tnan\t1\t0\t0\t0\t0\t1\t0\t0\t0\t0\t1\t67\t137\t15\t0\t1\t1\t1.53\t95\t13.7\t106.6\t4.9\t99\t3.4\t2.1\t34\t41\t183\t150\t7.1\t0.7\t1\t3.5\t0.5\tnan\tnan\tnan\n",
            "0\tnan\t0\t0\t0\t0\t1\t1\tnan\tnan\t1\t0\t0\t1\t0\t0\t0\t1\t0\t0\t0\t0\t1\t62\t0\tnan\t0\t1\t1\tnan\tnan\tnan\tnan\tnan\tnan\tnan\tnan\tnan\tnan\tnan\tnan\tnan\tnan\t1\t1.8\tnan\tnan\tnan\tnan\n",
            "1\t0\t1\t1\t0\t1\t0\t1\t0\t1\t0\t0\t0\t1\t1\t0\t0\t0\t0\t1\t0\t1\t1\t78\t50\t50\t2\t1\t2\t0.96\t5.8\t8.9\t79.8\t8.4\t472\t3.3\t0.4\t58\t68\t202\t109\t7\t2.1\t5\t13\t0.1\t28\t6\t16\n",
            "1\t1\t1\t0\t0\t0\t0\t1\t0\t1\t1\t0\t0\t1\t0\t0\t0\t0\t0\t0\t0\t1\t1\t77\t40\t30\t0\t1\t1\t0.95\t2440\t13.4\t97.1\t9\t279\t3.7\t0.4\t16\t64\t94\t174\t8.1\t1.11\t2\t15.7\t0.2\tnan\tnan\tnan\n",
            "1\t1\t1\t1\t0\t1\t0\t1\t0\t1\t0\t0\t0\t1\t1\t0\t0\t0\t0\t0\t0\t0\t1\t76\t100\t30\t0\t1\t1\t0.94\t49\t14.3\t95.1\t6.4\t199\t4.1\t0.7\t147\t306\t173\t109\t6.9\t1.8\t1\t9\tnan\t59\t15\t22\n",
            "1\t0\t1\t0\tnan\t0\t0\t1\t0\tnan\t0\t1\t0\t0\t0\t0\t0\t1\t1\t1\t0\t0\t1\t75\tnan\tnan\t1\t1\t2\t1.58\t110\t13.4\t91.5\t5.4\t85\t3.4\t3.5\t91\t122\t242\t396\t5.6\t0.9\t1\t10\t1.4\t53\t22\t111\n",
            "1\t0\t0\t0\tnan\t1\t1\t1\t0\t0\t1\t0\tnan\t0\t0\t0\t0\t0\t0\t0\t0\t0\t1\t49\t0\t0\t0\t1\t1\t1.4\t138.9\t10.4\t102\t3.2\t42000\t2.35\t2.72\t119\t183\t143\t211\t7.3\t0.8\t5\t2.6\t2.19\t171\t126\t1452\n",
            "1\t1\t1\t0\tnan\t0\t0\t1\t0\t1\t1\tnan\t0\t0\t0\t0\t0\t0\t1\t1\t1\t0\t1\t61\tnan\t20\t3\t1\t1\t1.46\t9860\t10.8\t92\t3\t58\t3.1\t3.2\t79\t108\t184\t300\t7.1\t0.52\t2\t9\t1.3\t42\t25\t706\n",
            "1\t1\t1\t0\t0\t0\t0\t1\t0\t1\t1\t0\t0\t1\t0\t0\t0\tnan\t1\t1\t0\t0\t1\t50\t100\t32\t1\t1\t2\t3.14\t8.8\t11.9\t107.5\t4.9\t70\t1.9\t3.3\t26\t59\t115\t63\t6.1\t0.59\t1\t6.4\t1.2\t85\t73\t982\n",
            "1\t1\t1\t0\t0\t0\t0\t1\t0\t0\t0\t0\t1\t0\t0\t0\t0\t0\t1\t0\t0\t0\t0\t43\t100\t0\t0\t1\t1\t1.12\t1.8\t11.8\t87.8\t5100\t193000\t4.2\t0.5\t71\t45\t256\t303\t7.1\t0.59\t1\t9.3\t0.7\tnan\tnan\tnan\n",
            "1\t0\t1\t0\t0\t0\t1\t1\tnan\tnan\t0\t0\t0\t0\t0\t0\t0\tnan\t1\t1\t0\t0\t1\t41\tnan\tnan\t0\t1\t2\t1.05\t100809\t13\t94.2\t5.7\t196\t4.4\t3\t90\t334\t494\t236\t7.6\t0.8\t5\tnan\t1.1\tnan\tnan\tnan\n",
            "1\t0\t1\t0\t0\t0\t1\t1\t1\t0\t0\t0\t0\t1\t0\t0\t0\tnan\t0\t1\t0\t0\t1\t74\tnan\t0\t0\t1\t1\t1.33\t86\t15.7\t96.7\t4\t61\t3.7\t1.3\t132\t168\t113\t154\tnan\t7.6\t5\t1.9\t0.3\t144\t41\t277\n",
            "1\t0\t1\t0\t0\t0\t0\t1\t0\t1\t1\t0\t0\t1\t0\t0\tnan\tnan\t1\t1\t1\t0\t0\t66\tnan\t30\t0\t1\t1\t1.53\t60\t13.3\t90.1\t5.5\t207000\t4.4\t8.5\t25\t36\t35\t74\t8.5\t0.73\t1\t5\t0.8\tnan\tnan\tnan\n",
            "1\tnan\t0\t0\t0\t0\t1\t1\tnan\tnan\t0\t0\t0\t0\t0\t0\t0\t0\t0\t0\t0\t0\t1\t56\t0\tnan\t0\t1\t1\t1.2\t6.6\t13.7\t93.8\t4.1\t91000\t4.5\t1\t103\t96\t205\t70\t8.8\t0.88\t1\t22\tnan\t82\t24\tnan\n",
            "1\t0\t1\t0\t0\t0\t0\t1\t0\tnan\t1\t0\t0\t1\t0\t0\tnan\t1\t1\t1\t0\t0\t1\t63\tnan\tnan\t2\t2\t2\t1.25\t29\t13.5\t93\t6\t128\t3.15\t10.5\t76\t116\t165\t163\t7.3\t1.07\t4\t4.5\t4.5\t197\t84\t302\n",
            "0\t0\t1\t0\t0\t0\t0\t1\t0\t0\t0\t0\t0\t0\t0\t0\t0\t1\t1\t1\t1\t0\t1\t41\t100\t0\t1\t1\t2\t1.61\t4.6\t10.2\t89.6\t5.5\t161\t3.1\t3.1\t24\t57\t163\t176\t5\t0.8\t2\t2.6\t1.3\t25\t13\t60\n",
            "1\t0\t1\t0\t0\t0\t0\t1\tnan\t1\t1\tnan\t1\t0\t0\t0\tnan\tnan\t1\t1\t1\t0\t1\t72\tnan\tnan\t3\t2\t1\t2.14\t60\t12.1\t99.2\t5\t58\t2.4\t9.8\t69\t63\t201\t235\t6.2\t0.96\t2\t2\t2.9\t136\t95\t767\n",
            "1\t1\t1\t0\t0\t0\t0\t1\t0\t1\t0\t0\tnan\t0\t0\t0\tnan\t1\t1\t1\t1\t1\t1\t60\t100\t60\t2\t1\t1\t1.05\t9.2\t10.3\t103.7\t5.4\t159\t3.8\t0.5\t56\t91\t459\t146\t5.4\t1.23\t5\t13.5\t3.8\t187\t58\t443\n",
            "1\tnan\t1\t0\t0\t0\t0\t1\tnan\t1\t0\tnan\t0\t1\t1\t0\t0\t1\t0\t0\t0\t0\t1\t64\t200\t78\t1\t1\t1\t1.13\t8.8\t14.9\t94.8\t6.3\t137\t4.3\t0.9\t16\t23\t82\t180\t6.5\t4.95\t1\t5.4\t0.9\t144\t49\t295\n",
            "1\t1\t1\t0\t0\t0\t0\t1\tnan\tnan\t0\t0\t0\t1\t0\t0\t0\t1\t1\t1\t1\t0\t1\t75\t500\tnan\t0\t1\t3\t1.44\t34\t15.9\t103.4\t9600\t101000\t3.4\t3.4\t27\t87\t260\t147\t6.3\t0.9\t5\t2.3\t1.6\t67\t34\t774\n"
          ],
          "name": "stdout"
        }
      ]
    },
    {
      "cell_type": "markdown",
      "metadata": {
        "id": "GQWDX99vDL-8"
      },
      "source": [
        "Παρατηρούμε  πως το dataset δεν είναι ισορροπημένο"
      ]
    },
    {
      "cell_type": "code",
      "metadata": {
        "trusted": true,
        "id": "jRqgbB2wF7A8",
        "colab": {
          "base_uri": "https://localhost:8080/"
        },
        "outputId": "dfe4325f-1152-478f-9055-6a76bd41e6af"
      },
      "source": [
        "#----------------------------------------------------------------------------#\n",
        "#            Επαλήθευση των ποσοστών εμφάνισης κάθε κλάσης                   #\n",
        "#----------------------------------------------------------------------------#\n",
        "# Oι ταμπέλες βρίσκονται στη 50η στήλη \n",
        "target_df = df.iloc[:, [49]]\n",
        "\n",
        "# μετατρέπουμε το dataframe σε μονοδιάστατο numpy array\n",
        "target = target_df.values\n",
        "\n",
        "# Δημιουργούμε και εκτυπωνουμε ενα 2-D array με την 1η στήλη την κλάση και 2η στήλη την συχνότητα εμφάνισης\n",
        "label, frequencies = np.unique(target, return_counts=True)\n",
        "print (\"Frequencies:\\n\",np.asarray((label, frequencies)).T,\"\\n\")\n",
        "# Αριθμός όλων των δειγμάτων\n",
        "total_samples = features.shape[0]\n",
        "print(\"Τotal samples=\",total_samples,\"\\n\")\n",
        "\n",
        "# Εκτυπώνουμε ένα 2D array με 1η στήλη το όνομα της κλάσης και 2η στήλη το ποσοστό εμφάνισης της κάθε κλάσης\n",
        "percentage = (frequencies / total_samples) * 100\n",
        "print (\"Ρercentages\\n\",np.asarray((label, percentage)).T)"
      ],
      "execution_count": null,
      "outputs": [
        {
          "output_type": "stream",
          "text": [
            "Frequencies:\n",
            " [[  0  63]\n",
            " [  1 102]] \n",
            "\n",
            "Τotal samples= 165 \n",
            "\n",
            "Ρercentages\n",
            " [[ 0.         38.18181818]\n",
            " [ 1.         61.81818182]]\n"
          ],
          "name": "stdout"
        }
      ]
    },
    {
      "cell_type": "markdown",
      "metadata": {
        "id": "vSCM-ViIJPeQ"
      },
      "source": [
        "### 8.Train & test set"
      ]
    },
    {
      "cell_type": "markdown",
      "metadata": {
        "id": "hAaRJQyGiex-"
      },
      "source": [
        "<h4>Διαχωρίστε σε train και test set. Εάν υπάρχουν απουσιάζουσες τιμές και μη διατεταγμένα χαρακτηριστικά διαχειριστείτε τα και αιτιολογήστε τις επιλογές σας.</h4>\n",
        "\n"
      ]
    },
    {
      "cell_type": "markdown",
      "metadata": {
        "id": "Zkf8al7Vtvmr"
      },
      "source": [
        "Η πιο απλή τεχνική διαχείρισης αυτών των τιμών είναι η αγνόηση των αντίστοιχων δειγμάτων, ωστόσο στην περίπτωσή μας που η συντριπτική πλειοψηφία των δειγμάτων έχει απουσιάζουσες τιμές, η λύση αυτή δεν είναι λειτουργική. Μια άλλη τεχνική είναι η αγνόηση συγκεκριμένων features, που στα περισσότερα δείγματα απουσιάζουν και ως εκ τούτου δεν θα έχουν σημαντική συνεισφορά στο classification:"
      ]
    },
    {
      "cell_type": "code",
      "metadata": {
        "id": "ld9ypkaatvms",
        "colab": {
          "base_uri": "https://localhost:8080/"
        },
        "outputId": "8c800d02-6629-4586-80f6-501a3656f988"
      },
      "source": [
        "rub_feats = np.zeros((50,1))\n",
        "for feature in range(len(features[0])): rub_feats[feature] = sum(features[:,feature]==-1)\n",
        "print(rub_feats[rub_feats>len(features)/2])"
      ],
      "execution_count": null,
      "outputs": [
        {
          "output_type": "stream",
          "text": [
            "[]\n"
          ],
          "name": "stdout"
        }
      ]
    },
    {
      "cell_type": "markdown",
      "metadata": {
        "id": "6s4V8mDntvmv"
      },
      "source": [
        "Βλέπουμε πως κανένα χαρακτηριστικό δεν απουσιάζει σε πάνω από τα μισά δείγματα, επομένως αγνοώντας κάποιο, σίγουρα θα απωλέσουμε χρήσιμη πληροφορία. Εφόσον λοιπόν δε μπορούμε να αγνοήσουμε τις απουσιάζουσες τιμές, θα πρέπει να τις αντικαταστήσουμε κατάλληλα. Θα αξιοποιήσουμε τον Imputer της Scikit-learn προκειμένου να αντικατασταθούν οι απουσιάζουσες τιμές με τις μέσες τιμές που εμφανίζονται στο εκάστοτε feature, αφού όμως προηγηθεί ο διαχωρισμός σε train-test datasets. Κι αυτό γιατί, στην αντίθετη περίπτωση, θα υπήρχε η στρέβλωση του να επιδρούν στο train set τιμές από δείγματα που θα καταλήξουν εν τέλει στο test set."
      ]
    },
    {
      "cell_type": "code",
      "metadata": {
        "id": "-UalguI6_o0J"
      },
      "source": [
        "#Τα χαρακτηριστικά αποτελούνται από όλες τις κολόνες των δεδομένων εκτός της τελευταίας η οποία αποτελεί τις ετικέτες κάθε δείγματος. \n",
        "features_df = df.iloc[:, 0:49]\n",
        "# Mετατρέπουμε τα dataframes σε numpy array\n",
        "features = features_df.values\n",
        "# Oι ταμπέλες βρίσκονται στη 50η στήλη \n",
        "target_df = df.iloc[:, [49]]\n",
        "# Mετατρέπουμε το dataframe σε μονοδιάστατο numpy array\n",
        "target = target_df.values"
      ],
      "execution_count": null,
      "outputs": []
    },
    {
      "cell_type": "markdown",
      "metadata": {
        "id": "kfINX50z6Kb7"
      },
      "source": [
        "<h3>Χωρίζουμε σε train,test data</h3>"
      ]
    },
    {
      "cell_type": "code",
      "metadata": {
        "id": "ne0Ci7OUEFH6"
      },
      "source": [
        "from sklearn.model_selection import train_test_split\n",
        "train, test, train_labels, test_labels = train_test_split(features, target, test_size=0.2)"
      ],
      "execution_count": null,
      "outputs": []
    },
    {
      "cell_type": "markdown",
      "metadata": {
        "id": "UMSa7UXBF7Q8"
      },
      "source": [
        "<h4>Aντικαθιστούμε τις τιμές που απουσιάζουν με τη μέση τιμή</h4>"
      ]
    },
    {
      "cell_type": "code",
      "metadata": {
        "id": "Oz_tym9i8Dgo",
        "colab": {
          "base_uri": "https://localhost:8080/"
        },
        "outputId": "e42f52a5-c6f9-4de1-fefb-8340d6044659"
      },
      "source": [
        "#----------------------------------------------------------#\n",
        "# Αντικαθιστούμε με τη μέση τιμή τις απουσιάζουσες τιμές   #\n",
        "#----------------------------------------------------------#\n",
        "from sklearn.impute import SimpleImputer\n",
        "import numpy as np\n",
        "\n",
        "imp=SimpleImputer(missing_values=np.NaN,strategy='mean')\n",
        "\n",
        "train=imp.fit_transform(train)\n",
        "test =imp.fit_transform(test)\n",
        "\n",
        "# Eπισκόπηση dataset μετά την αντικατάσταση\n",
        "print(\"Επισκόπηση του train set\\n\")\n",
        "print_matrix(train)"
      ],
      "execution_count": null,
      "outputs": [
        {
          "output_type": "stream",
          "text": [
            "Επισκόπηση του train set\n",
            "\n",
            "1.0\t0.0\t1.0\t0.0\t0.010101010101010102\t0.0\t0.0\t1.0\t0.0\t0.46534653465346537\t1.0\t0.0\t0.0\t0.0\t0.0\t0.0\t0.0\t1.0\t1.0\t1.0\t0.0\t0.0\t1.0\t56.0\t100.0\t18.63586956521739\t1.0\t2.0\t1.0\t1.63\t5.04\t15.8\t99.0\t5.8\t75000.0\t3.5\t4.6\t93.0\t85.0\t193.0\t165.0\t6.6\t0.7\t1.0\t6.0\t1.7\t200.0\t87.0\t316.0\n",
            "1.0\t1.0\t1.0\t0.0\t0.0\t0.0\t0.0\t1.0\t0.07766990291262135\t1.0\t0.0\t0.0\t0.0\t1.0\t0.0\t0.0\t0.0\t0.5730337078651685\t1.0\t1.0\t1.0\t1.0\t0.0\t82.0\t50.0\t48.0\t2.0\t1.0\t2.0\t1.53\t33502.0\t14.4\t101.1\t11.6\t109.0\t3.1\t2.3\t27.0\t80.0\t177.0\t1.28\t6.7\t1.5\t5.0\t4.0\t0.8\t26.0\t15.0\t227.0\n",
            "0.0\t1.0\t1.0\t0.1111111111111111\t0.010101010101010102\t0.24778761061946902\t0.18253968253968253\t1.0\t0.0\t0.0\t1.0\t0.0\t0.0\t0.0\t0.0\t0.016666666666666666\t0.0\t0.0\t0.0\t1.0\t0.0\t0.0\t1.0\t77.0\t75.0\t0.0\t2.0\t2.0\t2.0\t1.07\t2.0\t11.6\t83.5\t9.0\t318000.0\t3.89\t0.9\t23.0\t48.0\t319.0\t171.0\t7.1\t0.66\t2.0\t5.8\t1.4972448979591835\t83.39285714285714\t36.42695652173913\t441.5705882352941\n",
            "1.0\t0.0\t1.0\t0.0\t0.0\t0.0\t0.0\t1.0\t0.07766990291262135\t1.0\t0.0\t1.0\t0.0\t0.0\t0.0\t0.0\t0.0\t1.0\t1.0\t1.0\t0.0\t0.0\t0.0\t71.0\t200.0\t60.0\t0.0\t1.0\t1.0\t1.29\t19.6\t11.7\t101.0\t2600.0\t109000.0\t3.6\t1.7\t13.0\t35.0\t23.0\t141.0\t7.3\t0.68\t1.0\t2.5\t0.7\t152.6\t36.42695652173913\t76.9\n",
            "1.0\t0.635593220338983\t1.0\t0.0\t0.0\t0.0\t0.0\t1.0\t0.0\t1.0\t1.0\t0.0\t0.0\t1.0\t0.0\t0.0\t0.0\t1.0\t0.0\t1.0\t0.0\t0.0\t1.0\t65.0\t100.0\t18.63586956521739\t0.0\t1.0\t1.0\t1.24\t2.6\t10.3\t83.0\t6.1\t1.71\t3.9\t0.8\t11.0\t28.0\t77.0\t120.0\t7.0\t0.58\t1.0\t4.7\t0.85\t32.0\t10.0\t18.0\n",
            "0.0\t1.0\t0.0\t0.0\t0.0\t0.0\t0.0\t0.0\t0.0\t0.0\t0.0\t0.0\t0.0\t0.0\t0.0\t0.0\t0.0\t0.0\t0.0\t0.0\t0.0\t0.0\t1.0\t78.0\t0.0\t0.0\t0.0\t2.0\t1.0\t1.03\t18.0\t13.2\t89.5\t2.6\t136000.0\t4.3\t0.8\t18.0\t29.0\t82.0\t141.0\t7.2\t0.85\t1.0\t9.5\t1.4972448979591835\t91.0\t31.0\t80.0\n",
            "0.0\t0.0\t0.0\t0.0\t0.0\t0.0\t1.0\t1.0\t0.07766990291262135\t0.0\t1.0\t0.0\t0.0\t0.0\t1.0\t0.0\t0.0\t0.5730337078651685\t1.0\t0.0\t0.0\t0.0\t0.0\t72.0\t0.0\t0.0\t0.0\t1.0\t1.0\t1.21\t152.0\t10.9\t99.6\t7.3\t93000.0\t3.2\t1.3\t82.0\t80.0\t427.0\t106.0\t7.1\t6.1\t2.0\t9.0\t0.7\t83.39285714285714\t36.42695652173913\t441.5705882352941\n",
            "1.0\t0.635593220338983\t0.0\t1.0\t0.010101010101010102\t1.0\t0.0\t1.0\t0.0\t0.0\t0.0\t0.0\t0.0\t0.0\t0.0\t0.0\t0.0\t0.0\t0.0\t0.0\t0.0\t1.0\t0.0\t76.0\t0.0\t0.0\t0.0\t1.0\t1.0\t0.96\t14.2\t14.8\t98.5\t4.95\t187.0\t4.2\t0.77\t43.0\t86.0\t89.0\t113.0\t6.7\t0.95\t3.0\t8.8\t0.37\t83.39285714285714\t36.42695652173913\t441.5705882352941\n",
            "1.0\t1.0\t1.0\t0.0\t0.0\t0.0\t0.0\t1.0\t0.07766990291262135\t1.0\t0.0\t1.0\t0.0\t1.0\t1.0\t0.0\t0.04310344827586207\t1.0\t0.0\t1.0\t1.0\t0.0\t0.0\t79.0\t100.0\t15.0\t2.0\t1.0\t3.0\t1.68\t92421.0\t14.3\t72.2\t13.3\t459000.0\t3.2\t1.6\t24.0\t76.0\t570.0\t472.0\t5.9\t2.02\t1.0\t7.168103448275862\t0.6\t29.0\t4.0\t14.0\n",
            "1.0\t1.0\t1.0\t1.0\t0.0\t1.0\t1.0\t1.0\t1.0\t0.0\t0.0\t0.0\t0.0\t1.0\t0.0\t0.0\t0.0\t0.5730337078651685\t0.0\t0.6967213114754098\t0.0\t1.0\t1.0\t59.0\t200.0\t0.0\t0.0\t1.0\t1.0\t1.42\t479.0\t11.3\t82.2\t9500.0\t160000.0\t3.1\t1.4\t113.0\t143.0\t924.0\t288.0\t7.9\t0.98\t5.0\t17.0\t0.6\t83.39285714285714\t36.42695652173913\t441.5705882352941\n",
            "1.0\t1.0\t1.0\t0.0\t0.010101010101010102\t0.0\t0.0\t1.0\t0.0\t1.0\t0.0\t0.0\t0.0\t1.0\t0.0\t0.0\t0.0\t1.0\t1.0\t1.0\t0.0\t0.0\t1.0\t61.0\t68.23913043478261\t15.0\t0.0\t1.0\t1.0\t1.15\t2.5\t14.9\t92.3\t6.0\t159000.0\t3.8\t1.0\t28.0\t38.0\t74.0\t101.0\t7.4\t1.1\t5.0\t7.5\t0.3\t61.0\t36.42695652173913\t255.0\n",
            "0.0\t1.0\t0.0\t0.0\t0.0\t0.0\t0.0\t0.0\t0.0\t0.0\t0.0\t0.0\t0.0\t0.0\t0.0\t0.0\t0.0\t0.5730337078651685\t0.0\t0.0\t0.0\t1.0\t1.0\t27.0\t0.0\t0.0\t2.0\t1.0\t1.0\t0.97\t46.0\t10.5\t78.7\t20.9\t251.0\t2.4\t0.3\t31.0\t185.0\t91.0\t539.0\t5.0\t0.38\t5.0\t20.0\t0.3\t83.39285714285714\t36.42695652173913\t441.5705882352941\n",
            "0.0\t0.0\t1.0\t0.0\t0.0\t0.0\t0.0\t1.0\t0.07766990291262135\t0.46534653465346537\t0.0\t0.0\t0.0\t0.0\t0.0\t0.0\t0.0\t1.0\t0.0\t1.0\t0.0\t0.0\t0.0\t62.0\t68.23913043478261\t18.63586956521739\t0.0\t1.0\t1.0\t1.54\t2.3\t12.1\t89.7\t4.5\t97000.0\t2.7\t1.4\t19.0\t27.0\t72.0\t120.0\t4.3\t0.61\t5.0\t4.0\t0.7\t83.39285714285714\t36.42695652173913\t441.5705882352941\n",
            "1.0\t1.0\t1.0\t0.0\t0.0\t0.0\t0.0\t1.0\t0.0\t0.0\t1.0\t0.0\t0.05172413793103448\t0.0\t1.0\t0.0\t0.0\t1.0\t1.0\t1.0\t0.0\t0.0\t1.0\t79.0\t75.0\t0.0\t3.0\t1.0\t2.0\t1.32\t7.6\t5.0\t69.5\t3800.0\t96000.0\t3.7\t0.5\t17.0\t69.0\t76.0\t86.0\t6.3\t2.68\t1.0\t10.0\t1.4972448979591835\t9.0\t3.0\t490.0\n",
            "1.0\t1.0\t1.0\t0.0\t0.0\t0.0\t0.0\t1.0\t0.07766990291262135\t1.0\t1.0\t0.0\t0.05172413793103448\t1.0\t0.0\t0.0\t0.04310344827586207\t0.5730337078651685\t0.0\t1.0\t0.0\t0.0\t1.0\t84.0\t200.0\t30.0\t1.0\t1.0\t2.0\t1.24\t633.0\t13.0\t96.5\t7200.0\t143000.0\t2.3\t1.1\t40.0\t58.0\t322.0\t209.0\t6.7\t1.4\t5.0\t4.9\t0.2\t57.0\t25.0\t134.0\n",
            "1.0\t1.0\t1.0\t0.1111111111111111\t0.010101010101010102\t0.24778761061946902\t1.0\t1.0\t0.0\t1.0\t0.0\t0.0\t0.05172413793103448\t0.0\t0.0\t0.016666666666666666\t0.0\t1.0\t1.0\t1.0\t1.0\t0.0\t1.0\t45.0\t50.0\t16.0\t1.0\t1.0\t3.0\t1.38\t22200.629370078746\t13.6\t98.4\t4.3\t99000.0\t3.3\t1.3\t178.0\t325.0\t252.0\t172.0\t8.1\t0.83\t1.0\t5.0\t0.7\t83.39285714285714\t36.42695652173913\t441.5705882352941\n",
            "1.0\t0.0\t1.0\t0.0\t0.010101010101010102\t0.0\t0.0\t1.0\t0.0\t0.46534653465346537\t1.0\t0.0\t0.0\t1.0\t0.0\t0.0\t0.0\t1.0\t1.0\t1.0\t0.2230769230769231\t0.2153846153846154\t0.6538461538461539\t65.0\t68.23913043478261\t18.63586956521739\t0.0\t1.0\t1.0\t1.22\t8.7\t14.6\t95.1\t6.7\t142000.0\t4.2\t1.3\t19.0\t33.0\t346.0\t120.0\t7.8\t0.83\t2.8153846153846156\t7.168103448275862\t0.3\t184.0\t65.0\t423.0\n",
            "1.0\t1.0\t1.0\t0.0\t0.010101010101010102\t0.0\t0.0\t1.0\t0.0\t1.0\t0.0\t0.0\t0.0\t0.0\t0.0\t0.0\t0.0\t0.0\t0.0\t0.0\t0.0\t0.0\t1.0\t20.0\t68.23913043478261\t2.0\t1.0\t1.0\t1.0\t1.21\t1.9\t9.9\t83.4\t8.1\t556.0\t3.2\t1.8\t150.0\t112.0\t599.0\t974.0\t7.7\t0.7\t5.0\t7.168103448275862\t1.1\t22.0\t7.0\t369.0\n",
            "1.0\t1.0\t1.0\t0.0\t0.0\t0.0\t0.0\t1.0\t0.0\t0.0\t1.0\t0.0\t0.0\t1.0\t0.0\t0.0\t0.0\t0.5730337078651685\t1.0\t1.0\t0.0\t0.0\t1.0\t73.0\t75.0\t0.0\t4.0\t1.0\t2.0\t2.0\t3.1\t13.1\t109.3\t44.6\t60.0\t2.3\t7.8\t38.0\t74.0\t180.0\t127.0\t5.6\t0.88\t5.0\t3.1\t3.3\t98.0\t89.0\t870.0\n",
            "1.0\t1.0\t1.0\t0.0\t0.0\t0.0\t0.0\t1.0\t0.07766990291262135\t0.0\t0.0\t0.0\t0.0\t1.0\t1.0\t0.0\t0.0\t1.0\t1.0\t1.0\t0.0\t0.0\t1.0\t67.0\t68.23913043478261\t0.0\t3.0\t1.0\t2.0\t1.48\t2.5\t14.3\t101.5\t5.0\t120.0\t2.2\t1.2\t34.0\t71.0\t222.0\t97.0\t5.2\t2.82\t3.0\t2.4\t0.3\t92.0\t56.0\t48.9\n"
          ],
          "name": "stdout"
        }
      ]
    },
    {
      "cell_type": "markdown",
      "metadata": {
        "id": "cRGPbwXPGI9E"
      },
      "source": [
        "Όπως βλέπουμε,δεν υπάρχουν πλέον απουσιάζουσες τιμές."
      ]
    },
    {
      "cell_type": "markdown",
      "metadata": {
        "id": "UXXV0F3AF7BH"
      },
      "source": [
        "## Β. Βaseline Classification\n",
        "\n",
        "Στο σημείο αυτό κάνουμε απλή εκπαίδευση στους γνωστούς μας classifiers, dummy, gaussian naive bayes, knn και mlp.\n",
        "\n",
        "Για κάθε classifier αποθηκεύουμε σε πίνακα τις τιμές f1_micro και f1_macro, ώστε να τα απεικονίσουμε σε bar plot, και τυπώνουμε confusion matrix, f1_micro, f1_macro αλλά και classification report για να πάρουμε τις τιμές precision και recall"
      ]
    },
    {
      "cell_type": "markdown",
      "metadata": {
        "id": "qBuB6zulF7BK"
      },
      "source": [
        "### Dummy Classifiers"
      ]
    },
    {
      "cell_type": "code",
      "metadata": {
        "id": "0qf3bBvrzwTB"
      },
      "source": [
        "# Απενεργοποιούμε τις προειδοποιήσεις \n",
        "import warnings\n",
        "warnings.filterwarnings(\"ignore\")"
      ],
      "execution_count": null,
      "outputs": []
    },
    {
      "cell_type": "code",
      "metadata": {
        "trusted": true,
        "id": "T4UJDDdWF7BO",
        "colab": {
          "base_uri": "https://localhost:8080/"
        },
        "outputId": "c509706e-70e3-4a35-d27c-6e724ec3dd0b"
      },
      "source": [
        "print(\"<------------------------------------------------------------------------------------->\")\n",
        "from sklearn.dummy   import DummyClassifier\n",
        "\n",
        "#πίνακες που θα χρησιμέυσουν για την εκτύπωση των γραφημάτων\n",
        "f1_micro = {}\n",
        "f1_macro = {}\n",
        "\n",
        "\n",
        "##############################################################\n",
        "# Για κάθε Dummy classifier αρχικά κάνουμε fit,στη συνέχεια #\n",
        "# υπολογίζουμε τα F1 micro,F1 macro scores,καθώς και τους    #\n",
        "# Confusion Matrixes.Στη συνέχεια εκτυπώνουμε στην οθόνη τα  #\n",
        "# αποτελέσματα.Την ίδια μεθολογία θα ακολουθήσουμε και στα   #\n",
        "# υπόλοιπα μοντέλα της άσκησης (knn,GNB,MLP)                 #\n",
        "##############################################################\n",
        "\n",
        "# Dummy Strategy: Uniform \n",
        "dc_uniform = DummyClassifier(strategy=\"uniform\")\n",
        "dc_uniform.fit(train,train_labels)\n",
        "\n",
        "preds = dc_uniform.predict(test)\n",
        "\n",
        "print('\\033[1m'+\" Strategy: uniform\"+'\\033[0m'+\"\\n\")\n",
        "print(classification_report(test_labels,preds),\"\\n\",\"\\n\")\n",
        "\n",
        "f1_micro['Unif']=f1_score(test_labels,preds,average='micro')\n",
        "f1_macro['Unif']=f1_score(test_labels,preds,average='macro')\n",
        "\n",
        "print(\"F1 micro \")\n",
        "print(f1_micro['Unif'],\"\\n\")\n",
        "print(\"F1 macro \")\n",
        "print(f1_macro['Unif'],\"\\n\")\n",
        "\n",
        "\n",
        "print('Confusion Matrix \\n')\n",
        "print(confusion_matrix(test_labels, preds))\n",
        "\n",
        "\n",
        "print(\"\\n\\n----------------------------------------------------------\\n\\n\")\n",
        "\n",
        "# Constant0\n",
        "dc_constant0 = DummyClassifier(strategy=\"constant\",constant=0)\n",
        "dc_constant0.fit(train,train_labels)\n",
        "\n",
        "pred_C0 = dc_constant0.predict(test)\n",
        "\n",
        "print('\\033[1m'+\"Strategy: constant=0\"+'\\033[0m'+\"\\n\")\n",
        "print(classification_report(test_labels,pred_C0),\"\\n\",\"\\n\")\n",
        "\n",
        "f1_micro['C0']=f1_score(test_labels,pred_C0,average='micro')\n",
        "f1_macro['C0']=f1_score(test_labels,pred_C0,average='macro')\n",
        "\n",
        "print(\"F1 micro \")\n",
        "print(f1_micro['C0'],\"\\n\")\n",
        "print(\"F1 macro \")\n",
        "print(f1_macro['C0'],\"\\n\")\n",
        "\n",
        "print('Confusion Matrix \\n')\n",
        "print(confusion_matrix(test_labels, pred_C0),\"\\n\")\n",
        "\n",
        "\n",
        "print(\"\\n\\n----------------------------------------------------------\\n\\n\")\n",
        "\n",
        "\n",
        "# Strategy: Constant=1\n",
        "dc_constant1 = DummyClassifier(strategy=\"constant\",constant=1)\n",
        "dc_constant1.fit(train,train_labels)\n",
        "\n",
        "pred_C1 = dc_constant1.predict(test)\n",
        "\n",
        "print('\\033[1m'+\"Strategy: constant=1\"+'\\033[0m')\n",
        "print(classification_report(test_labels,pred_C1),\"\\n\",\"\\n\")\n",
        "\n",
        "f1_micro['C1']=f1_score(test_labels,pred_C1,average='micro')\n",
        "f1_macro['C1']=f1_score(test_labels,pred_C1,average='macro')\n",
        "\n",
        "print(\"F1 micro \")\n",
        "print(f1_micro['C1'],\"\\n\")\n",
        "print(\"F1 macro \")\n",
        "print(f1_macro['C1'],\"\\n\")\n",
        "\n",
        "\n",
        "print('Confusion Matrix \\n')\n",
        "print(confusion_matrix(test_labels, pred_C1),\"\\n\")\n",
        "\n",
        "print(\"\\n\\n----------------------------------------------------------\\n\\n\")\n",
        "\n",
        "# Strategy: Most Frequent\n",
        "dc_most_frequent = DummyClassifier(strategy=\"most_frequent\")\n",
        "dc_most_frequent.fit(train,train_labels)\n",
        "\n",
        "pred_MF = dc_most_frequent.predict(test)\n",
        "\n",
        "print('\\033[1m'+\"Strategy: Most Frequent\"+'\\033[0m'+\"\\n\")\n",
        "print(classification_report(test_labels,pred_MF),\"\\n\",\"\\n\")\n",
        "\n",
        "f1_micro['MFreq']=f1_score(test_labels,pred_MF,average='micro')\n",
        "f1_macro['MFreq']=f1_score(test_labels,pred_MF,average='macro')\n",
        "\n",
        "print(\"F1 micro \")\n",
        "print(f1_micro['MFreq'],\"\\n\")\n",
        "print(\"F1 macro \")\n",
        "print(f1_macro['MFreq'],\"\\n\")\n",
        "\n",
        "\n",
        "print('Confusion Matrix \\n')\n",
        "print(confusion_matrix(test_labels, pred_MF),\"\\n\")\n",
        "\n",
        "\n",
        "print(\"\\n\\n----------------------------------------------------------\\n\\n\")\n",
        "\n",
        "\n",
        "# Strategy: Strafified\n",
        "dc_stratified = DummyClassifier(strategy=\"stratified\")\n",
        "dc_stratified.fit(train,train_labels)\n",
        "\n",
        "pred_Strat = dc_stratified.predict(test)\n",
        "\n",
        "print('\\033[1m'+\"Strategy: stratified\"+'\\033[0m'+\"\\n\")\n",
        "print(classification_report(test_labels,pred_Strat),\"\\n\",\"\\n\")\n",
        "\n",
        "\n",
        "f1_micro['Strat']=f1_score(test_labels,pred_Strat,average='micro')\n",
        "f1_macro['Strat']=f1_score(test_labels,pred_Strat,average='macro')\n",
        "\n",
        "print(\"F1 micro \")\n",
        "print(f1_micro['Strat'],\"\\n\")\n",
        "print(\"F1 macro \")\n",
        "print(f1_macro['Strat'],\"\\n\")\n",
        "\n",
        "\n",
        "print('Confusion Matrix \\n')\n",
        "print(confusion_matrix(test_labels, pred_Strat),\"\\n\")\n",
        "\n",
        "print(\"<------------------------------------------------------------------------------------->\")"
      ],
      "execution_count": null,
      "outputs": [
        {
          "output_type": "stream",
          "text": [
            "<------------------------------------------------------------------------------------->\n",
            "\u001b[1m Strategy: uniform\u001b[0m\n",
            "\n",
            "              precision    recall  f1-score   support\n",
            "\n",
            "           0       0.57      0.53      0.55        15\n",
            "           1       0.63      0.67      0.65        18\n",
            "\n",
            "    accuracy                           0.61        33\n",
            "   macro avg       0.60      0.60      0.60        33\n",
            "weighted avg       0.60      0.61      0.60        33\n",
            " \n",
            " \n",
            "\n",
            "F1 micro \n",
            "0.6060606060606061 \n",
            "\n",
            "F1 macro \n",
            "0.6001863932898415 \n",
            "\n",
            "Confusion Matrix \n",
            "\n",
            "[[ 8  7]\n",
            " [ 6 12]]\n",
            "\n",
            "\n",
            "----------------------------------------------------------\n",
            "\n",
            "\n",
            "\u001b[1mStrategy: constant=0\u001b[0m\n",
            "\n",
            "              precision    recall  f1-score   support\n",
            "\n",
            "           0       0.45      1.00      0.62        15\n",
            "           1       0.00      0.00      0.00        18\n",
            "\n",
            "    accuracy                           0.45        33\n",
            "   macro avg       0.23      0.50      0.31        33\n",
            "weighted avg       0.21      0.45      0.28        33\n",
            " \n",
            " \n",
            "\n",
            "F1 micro \n",
            "0.45454545454545453 \n",
            "\n",
            "F1 macro \n",
            "0.3125 \n",
            "\n",
            "Confusion Matrix \n",
            "\n",
            "[[15  0]\n",
            " [18  0]] \n",
            "\n",
            "\n",
            "\n",
            "----------------------------------------------------------\n",
            "\n",
            "\n",
            "\u001b[1mStrategy: constant=1\u001b[0m\n",
            "              precision    recall  f1-score   support\n",
            "\n",
            "           0       0.00      0.00      0.00        15\n",
            "           1       0.55      1.00      0.71        18\n",
            "\n",
            "    accuracy                           0.55        33\n",
            "   macro avg       0.27      0.50      0.35        33\n",
            "weighted avg       0.30      0.55      0.39        33\n",
            " \n",
            " \n",
            "\n",
            "F1 micro \n",
            "0.5454545454545454 \n",
            "\n",
            "F1 macro \n",
            "0.3529411764705882 \n",
            "\n",
            "Confusion Matrix \n",
            "\n",
            "[[ 0 15]\n",
            " [ 0 18]] \n",
            "\n",
            "\n",
            "\n",
            "----------------------------------------------------------\n",
            "\n",
            "\n",
            "\u001b[1mStrategy: Most Frequent\u001b[0m\n",
            "\n",
            "              precision    recall  f1-score   support\n",
            "\n",
            "           0       0.00      0.00      0.00        15\n",
            "           1       0.55      1.00      0.71        18\n",
            "\n",
            "    accuracy                           0.55        33\n",
            "   macro avg       0.27      0.50      0.35        33\n",
            "weighted avg       0.30      0.55      0.39        33\n",
            " \n",
            " \n",
            "\n",
            "F1 micro \n",
            "0.5454545454545454 \n",
            "\n",
            "F1 macro \n",
            "0.3529411764705882 \n",
            "\n",
            "Confusion Matrix \n",
            "\n",
            "[[ 0 15]\n",
            " [ 0 18]] \n",
            "\n",
            "\n",
            "\n",
            "----------------------------------------------------------\n",
            "\n",
            "\n",
            "\u001b[1mStrategy: stratified\u001b[0m\n",
            "\n",
            "              precision    recall  f1-score   support\n",
            "\n",
            "           0       0.62      0.33      0.43        15\n",
            "           1       0.60      0.83      0.70        18\n",
            "\n",
            "    accuracy                           0.61        33\n",
            "   macro avg       0.61      0.58      0.57        33\n",
            "weighted avg       0.61      0.61      0.58        33\n",
            " \n",
            " \n",
            "\n",
            "F1 micro \n",
            "0.6060606060606061 \n",
            "\n",
            "F1 macro \n",
            "0.5662285136501517 \n",
            "\n",
            "Confusion Matrix \n",
            "\n",
            "[[ 5 10]\n",
            " [ 3 15]] \n",
            "\n",
            "<------------------------------------------------------------------------------------->\n"
          ],
          "name": "stdout"
        }
      ]
    },
    {
      "cell_type": "markdown",
      "metadata": {
        "id": "sSPvPpFlF7Bj"
      },
      "source": [
        "### Gaussian Naive Bayes\n"
      ]
    },
    {
      "cell_type": "code",
      "metadata": {
        "colab": {
          "base_uri": "https://localhost:8080/",
          "height": 832
        },
        "id": "sXICSzWdOTW2",
        "outputId": "08b18104-1cb0-4d95-ff53-7db80c3e9ba9"
      },
      "source": [
        "print(\"--------------------------------------------------------------------------\")\n",
        "\n",
        "from sklearn.naive_bayes import GaussianNB\n",
        "\n",
        "\n",
        "gnb = GaussianNB()\n",
        "gnb.fit(train,train_labels)\n",
        "\n",
        "gnb_pred = gnb.predict(test)\n",
        "\n",
        "print('\\033[1m'+\"Gaussian Naive Bayes\"+'\\033[0m'+\"\\n\\n\")\n",
        "print(classification_report(test_labels,gnb_pred),\"\\n\\n\")\n",
        "# Uncomment to print CR in a fancy way\n",
        "# plot_classification_report(test_labels,gnb_pred)\n",
        "\n",
        "f1_micro['GNB']=f1_score(test_labels,gnb_pred,average='micro')\n",
        "f1_macro['GNB']=f1_score(test_labels,gnb_pred,average='macro')\n",
        "\n",
        "print(\"F1 micro\")\n",
        "print(f1_micro['GNB'],\"\\n\")\n",
        "print(\"F1 macro\")\n",
        "print(f1_macro['GNB'],\"\\n\")\n",
        "\n",
        "plot_confusion_matrix(gnb, test, test_labels)  \n",
        "plt.title('Confusion matrix for the GNB')\n",
        "plt.xlabel('Predicted')\n",
        "plt.ylabel('Actual')\n",
        "plt.show()  \n",
        "print(\"----------------------------------------------------------------------------------\")"
      ],
      "execution_count": null,
      "outputs": [
        {
          "output_type": "stream",
          "text": [
            "--------------------------------------------------------------------------\n",
            "\u001b[1mGaussian Naive Bayes\u001b[0m\n",
            "\n",
            "\n",
            "              precision    recall  f1-score   support\n",
            "\n",
            "           0       0.80      0.53      0.64        15\n",
            "           1       0.70      0.89      0.78        18\n",
            "\n",
            "    accuracy                           0.73        33\n",
            "   macro avg       0.75      0.71      0.71        33\n",
            "weighted avg       0.74      0.73      0.72        33\n",
            " \n",
            "\n",
            "\n",
            "F1 micro\n",
            "0.7272727272727273 \n",
            "\n",
            "F1 macro\n",
            "0.7102439024390244 \n",
            "\n"
          ],
          "name": "stdout"
        },
        {
          "output_type": "display_data",
          "data": {
            "image/png": "[encoded data removed]",
            "text/plain": [
              "<Figure size 720x504 with 2 Axes>"
            ]
          },
          "metadata": {
            "tags": [],
            "needs_background": "light"
          }
        },
        {
          "output_type": "stream",
          "text": [
            "----------------------------------------------------------------------------------\n"
          ],
          "name": "stdout"
        }
      ]
    },
    {
      "cell_type": "markdown",
      "metadata": {
        "id": "s8dURZFvF7BV"
      },
      "source": [
        "### k-Nearest Neighbors Classifier (kNN)"
      ]
    },
    {
      "cell_type": "code",
      "metadata": {
        "trusted": true,
        "id": "inPfStEXF7BZ",
        "colab": {
          "base_uri": "https://localhost:8080/",
          "height": 798
        },
        "outputId": "37728c9e-7cf9-488c-c4d7-fe9fe33b2b64"
      },
      "source": [
        "print(\"--------------------------------------------------------------------------\")\n",
        "from sklearn import neighbors\n",
        "\n",
        "clf = neighbors.KNeighborsClassifier() \n",
        "clf.fit(train, train_labels)\n",
        "\n",
        "knn_pred = clf.predict(test)\n",
        "\n",
        "\n",
        "print('\\033[1m'+\"k Nearest Neighbors Model\"+'\\033[0m'+\"\\n\\n\")\n",
        "print(classification_report(test_labels,knn_pred))\n",
        "\n",
        "f1_micro['kΝΝ']=f1_score(test_labels,knn_pred,average='micro')\n",
        "f1_macro['kΝΝ']=f1_score(test_labels,knn_pred,average='macro')\n",
        "\n",
        "\n",
        "print(\"F1 micro\")\n",
        "print(f1_micro['kΝΝ'],\"\\n\")\n",
        "print(\"F1 macro\")\n",
        "print(f1_macro['kΝΝ'],\"\\n\")\n",
        "\n",
        "plot_confusion_matrix(clf, test, test_labels)  \n",
        "plt.title('Confusion matrix for the kNN')\n",
        "plt.xlabel('Predicted')\n",
        "plt.ylabel('Actual')\n",
        "plt.show()  \n",
        "print(\"--------------------------------------------------------------------------\")                           "
      ],
      "execution_count": null,
      "outputs": [
        {
          "output_type": "stream",
          "text": [
            "--------------------------------------------------------------------------\n",
            "\u001b[1mk Nearest Neighbors Model\u001b[0m\n",
            "\n",
            "\n",
            "              precision    recall  f1-score   support\n",
            "\n",
            "           0       0.67      0.40      0.50        15\n",
            "           1       0.62      0.83      0.71        18\n",
            "\n",
            "    accuracy                           0.64        33\n",
            "   macro avg       0.65      0.62      0.61        33\n",
            "weighted avg       0.64      0.64      0.62        33\n",
            "\n",
            "F1 micro\n",
            "0.6363636363636364 \n",
            "\n",
            "F1 macro\n",
            "0.6071428571428572 \n",
            "\n"
          ],
          "name": "stdout"
        },
        {
          "output_type": "display_data",
          "data": {
            "image/png": "[encoded data removed]",
            "text/plain": [
              "<Figure size 720x504 with 2 Axes>"
            ]
          },
          "metadata": {
            "tags": [],
            "needs_background": "light"
          }
        },
        {
          "output_type": "stream",
          "text": [
            "--------------------------------------------------------------------------\n"
          ],
          "name": "stdout"
        }
      ]
    },
    {
      "cell_type": "markdown",
      "metadata": {
        "id": "CduTCjnCF7B2"
      },
      "source": [
        "### Γραφικές παραστάσεις"
      ]
    },
    {
      "cell_type": "code",
      "metadata": {
        "trusted": true,
        "id": "WXX6KNPDF7B4",
        "colab": {
          "base_uri": "https://localhost:8080/",
          "height": 871
        },
        "outputId": "49f4e85d-08b0-4cc5-e16f-2db2b09d6d33"
      },
      "source": [
        "plt.rcParams[\"figure.figsize\"] = (10,7)\n",
        "\n",
        "\n",
        "plt.title('F1_micro scores')\n",
        "plt.bar(range(len(f1_micro)), list(f1_micro.values()), align='center')\n",
        "plt.xticks(range(len(f1_micro)), list(f1_micro.keys()))\n",
        "plt.grid(True)\n",
        "\n",
        "plt.show()\n",
        "\n",
        "plt.title('F1_macro scores')\n",
        "plt.bar(range(len(f1_macro)), list(f1_macro.values()), align='center')\n",
        "plt.xticks(range(len(f1_macro)), list(f1_macro.keys()))\n",
        "plt.grid(True)\n",
        "\n",
        "plt.show()\n",
        "\n"
      ],
      "execution_count": null,
      "outputs": [
        {
          "output_type": "display_data",
          "data": {
            "image/png": "[encoded data removed]",
            "text/plain": [
              "<Figure size 720x504 with 1 Axes>"
            ]
          },
          "metadata": {
            "tags": [],
            "needs_background": "light"
          }
        },
        {
          "output_type": "display_data",
          "data": {
            "image/png": "[encoded data removed]",
            "text/plain": [
              "<Figure size 720x504 with 1 Axes>"
            ]
          },
          "metadata": {
            "tags": [],
            "needs_background": "light"
          }
        }
      ]
    },
    {
      "cell_type": "markdown",
      "metadata": {
        "id": "lZHC-fzJF7CR"
      },
      "source": [
        "### Σχολιασμός Αποτελεσμάτων\n",
        "Παρατηρούμε πως οι Dummy classifiers  με constant τιμές έχουν πάρα πολύ χαμηλή αποτελεσματικότητα,πράγμα που περιμέναμε μιας και κάνουμε multiclass classification.Στην καλύτερη περίπτωση φτάνουν σε αποτελεσματικότητα ίση με αυτή της συχνότερα εμφανιζόμενης κλάσης\n",
        "<br/>\n",
        "\n",
        "Ο ταξινομητής με την υψηλότερα ακρίβεια είναι ο GNB ταξινομητής και ύστερα ο kNN .<br/>\n",
        "\n",
        "Σε αυτήν την άσκηση δε δίνουμε σημασία στο precision και στο recall,καθώς θεωρούμε πως και οι 2 κλάσεις είναι εξίσου σημαντικές.</br>\n",
        "\n",
        "Οι constant classifiers είχαν καλύτερη απόδοση στο f1-micro score,συγκριτικά με το f1-macro.Αυτό συμβαίνει διότι το macro score συνυπολογίζei κάθε κλάση ισάξια,ενώ στο micro score κάθε κλάση συνεισφέρει στο αποτέλεσμα σύμφωνα με το ποσοστό εμφάνισής της κάθε κλάσης.\n",
        "\n",
        "O GNB δίνει τα καλύτερα αποτελέσματα καθώς το κάθε χαρακτηριστικό είναι ανεξάρτητο (εάν υπάρχει εξάρτηση μεταξύ κάποιων κλάσεων δεν είναι προφανής και ίσως δεν μπορούμε καν να το γνωρίζουμε).Επιπλέον,έχουμε μεγάλο αριθμό χαρακτηριστικών,πράγμα που δυσκολεύει τον kNN.\n",
        "\n",
        "Τα αποτελέσματά μας,μας δείχνουν πως το συγκεκριμένο dataset είναι σχετικά δύσκολο στην ταξινόμηση.Λόγω του ελάχιστου αριθμού δειγμάτων που έχουμε στη διάθεση μας ένα μεγάλο νευρωνικό δίκτυο είναι πιθανό να παρουσιάσει φαινόμενα οverfitting και να παρέχει μειωμένη αποτελεσματικότητα σε καινούργια δεδομένα.Γι αυτό το λόγο δε θα ήταν έξυπνη η χρήση του χωρίς να έχει προηγηθέι επαύξηση δεδομένων.\n",
        "\n",
        "\n",
        "\n",
        "Προσπαθώντας να επιτύχουμε καλύτερα αποτελέσματα στα μοντέλα που ήδη χρησιμοποιήσαμε προχωρούμε σε προεπεξεργασία των δεδομένων αλλά και βελτιστοποίηση των παραμέτρων των ταξινομητών.\n",
        "\n"
      ]
    },
    {
      "cell_type": "markdown",
      "metadata": {
        "id": "eP0N8q5rF7CU"
      },
      "source": [
        "## Γ. Βελτιστοποίηση ταξινομητών"
      ]
    },
    {
      "cell_type": "markdown",
      "metadata": {
        "id": "v6LpeT23F7CW"
      },
      "source": [
        "### Προεπεξεργασία δεδομένων\n",
        "\n",
        "Απουσιάζουσες τιμές χαρακτηριστικών $\\to$ Δεν έχουμε πλέον απουσιάζουσες τιμές χαρακτηριστικών, άρα δεν υπάρχει κάποια βελτιστοποίηση να πραγματοποιηθεί στο συγκεκριμένο κομμάτι. <br/>\n",
        "\n",
        "Αριθμητικά και κατηγορικά χαρακτηριστικά $\\to$ Όλα μας τα χαρακτηριστικά είναι αριθμητικά, κι έτσι δεν υπάρχει κάποια τροποποίηση που πρέπει να γίνει στα δεδομένα μας.\n",
        "\n",
        "Εξισορρόπηση του dataset $\\to$ είναι απαραίτητο εφαρμόσουμε oversampling ούτως ώστε να εξισορροπήσουμε το dataset. Η έννοια του oversampling ειναι πρακτικά η επανάληψη samples από τις υπολείπουσες κλάσεις, ώστε ο λόγος τους να τείνει προς το ιδανικό 1/Ν%,όπου Ν ο αριθμός των κλάσεων.\n",
        "\n",
        "Eπιλογή χαρακτηριστικών $\\to$  μπορούμε να μειώσουμε τα χαρακτηριστικά εισόδου απορρίπτοντας χαρακτηριστικά με πολύ μικρή διακύμανση.Για να το πετύχουμε αυτό ορίζουμε ένα κατώφλι,όπου γίνονται αποδεκτά χαρακτηριστικά όπου έχουν μεγαλύτερη διακύμανση από αυτό.\n",
        "\n",
        "Η κατάρα της διαστατικότητας (Curse of dimensionality) $\\to$ Mπορούμε να κάνουμε εξαγωγή νέων χαρακτηριστικών σε ένα χώρο μικρότερων διαστάσεων. Η βασικότερη τεχνική feature extraction είναι η ανάλυση σε κύριες συνιστώσες (PCA) όπου αναλύουμε τα δεδομένα σε κύριες συνιστώσες και δουλέυουμε με τελείως νέες, γραμμικά ασυσχέτιστες μεταβλητές μικρότερης διαστατικότητας.Η τεχνική PCA χρησιμοποιείται ως αντικατάσταση στο μέθοδο επιλογής χαρακτηριστικών με κατώφλι.\n",
        "\n",
        "Κανονικοποιηση $\\to$ Θα εφαρμόσουμε κανονικοποίηση στα δεδομένα μας \n",
        "\n",
        "Ξεκινάμε με τη μείωση των διαστάσεων εισόδου."
      ]
    },
    {
      "cell_type": "markdown",
      "metadata": {
        "id": "sPb6c3S4P_Tf"
      },
      "source": [
        "#### Επιλογή Χαρακτηριστικών -Selector\n"
      ]
    },
    {
      "cell_type": "code",
      "metadata": {
        "trusted": true,
        "id": "u6_UVKXpF7CY",
        "colab": {
          "base_uri": "https://localhost:8080/"
        },
        "outputId": "ba3a8d56-1bac-49d8-f27a-3da3eda8f2c2"
      },
      "source": [
        "from sklearn.feature_selection import VarianceThreshold\n",
        "\n",
        "train_variance = train.var(axis=0)\n",
        "print(\"Train variance: (sorted)\\n\",sorted(train_variance),\"\\n\")\n",
        "print(\"Max variance of a label:\\n\",np.max(train_variance),\"\\n\")\n",
        "print(\"Mean:\\n\",train_variance.mean(),\"\\n\")"
      ],
      "execution_count": null,
      "outputs": [
        {
          "output_type": "stream",
          "text": [
            "Train variance: (sorted)\n",
            " [0.007499234771962056, 0.014898989898989934, 0.03624608150470224, 0.04310344827586211, 0.055898793762871365, 0.08754208754208737, 0.08878558310376501, 0.09989002932551332, 0.11207494795281069, 0.14243626743626742, 0.14792967846402968, 0.15956020380799116, 0.1649642492339121, 0.16643356643356672, 0.1671258034894402, 0.17068764568764577, 0.1875, 0.19036903690369034, 0.19529309488325852, 0.19896204755244765, 0.207049306625578, 0.22051282051282098, 0.22290209790209836, 0.22670454545454602, 0.23236178579690103, 0.40645354521780314, 0.41660839160839175, 0.8704853835978841, 1.393939393939394, 3.0573426573426588, 4.160490093240093, 7.15326481910946, 18.445975941051145, 23.825848354231976, 70.555386946387, 157.92980205278593, 195.49173553719007, 439.8485019762846, 1509.3952002164503, 2133.9246335638995, 2759.126811594205, 3182.8653981677207, 5850.516083916087, 27092.431589370633, 64107.77599067595, 114798.2127361854, 7485851.867760766, 10335534995.490507, 26129475722.179943] \n",
            "\n",
            "Max variance of a label:\n",
            " 26129475722.179943 \n",
            "\n",
            "Mean:\n",
            " 744341202.6712086 \n",
            "\n"
          ],
          "name": "stdout"
        }
      ]
    },
    {
      "cell_type": "markdown",
      "metadata": {
        "id": "z6r1K7qeqY8j"
      },
      "source": [
        "Παρατηρούμε πως η τιμή της διακύμανσης των χαρακτηριστικών  παρουσιάζει μεγάλες διαφορές,\n",
        "καθώς ξεκινάει από 0.0075 και αυξάνεται εκθετικά μέχρι την τιμή 26.166.976.836\n",
        "Θα πειραματιστούμε παρακάτω με σχετικές τιμές στη μέθοδο GridSearchCV"
      ]
    },
    {
      "cell_type": "markdown",
      "metadata": {
        "id": "2ooX7KVuFvPr"
      },
      "source": [
        "#### Εξισορρόπηση του dataset"
      ]
    },
    {
      "cell_type": "markdown",
      "metadata": {
        "id": "ZNUmDZ9Vr6eq"
      },
      "source": [
        "Έχουμε δύο βασικούς τρόπους για να εξισσοροπούμε ένα dataset, την υποδειγματοληψία (undersampling) και την υπερδειγματοληψία (oversampling). Εν ολίγοις, στο undersampling απλά αφαιρούμε δείγματα από όλες τις κατηγορίες που έχουν μεγαλύτερο πλήθος από τη μικρότερη, ενώ στο oversampling επιλέγουμε ορισμένα παραδείγματα ή όμοια με αυτά από τις λιγότερο συχνές κατηγορίες και τα επαναλαμβάνουμε. Στην πρώτη δηλαδή αφαιρούμε δεδομένα ενώ στην άλλη προσθέτουμε.\n",
        "\n",
        "Γενικά το oversampling ενδείκνυται περισσότερο στην περίπτωσή μας, καθώς ο αριθμός των δειγμάτων είναι μικρός.\n",
        "\n",
        "Έχουμε ήδη εγκαταστήσει (στο 1ο κελί του notebook) τη βιβλιοθήκη imbalanced-learn (ή imblearn),η οποία προσφέρει μεθόδους εξισορρόπησης datasets. \n",
        "\n",
        "Οι πιο συνηθισμένες μέθοδοι είναι το Random oversampling και το SMOTE oversampling.Στο Random oversampling, δείγματα της μειοψηφίας με τυχαίο τρόπο επιλέγονται και γίνονται duplicates έως ότου, η ισορροπία του dataset φθάσει στα επιθυμητά επιπέδα ισορροπίας. Η μέθοδος αυτή έχει το κακό ότι δημιουργεί ήδη υπάρχοντα δείγματα, με αποτέλεσμα να αυξάνεται ο κίνδυνος του overfitting.Το SMOTE oversampling προσθέτει samples, αλλά όχι ήδη υπάρχοντα. Χρησιμοποιεί για κάθε δείγμα της μειοψηφίας τον kΝΝ και βρίσκει τα k πιο κοντινά του δείγματα. Αναλόγως το sampling_strategy που έχουμε θέσει, για κάθε δείγμα της μειοψηφίας, επιλέγει μερικά από αυτά τα k κοντινά δείγματα για να δημιουργήσει νέα, επιλέγοντας για καθένα ένα τυχαίο σημείο πάνω στην ευθεία που το συνδέει με αυτό που του ασκήθηκε ο kNN.\n",
        "Επιλέγουμε τη μέθοδο SMOTE oversampling, καθώς σε δοκιμές που επενεργήσαμε καταλήγει,κατά γενική ομολογία, σε καλύτερο αποτελέσμα."
      ]
    },
    {
      "cell_type": "code",
      "metadata": {
        "id": "IXUxdfdkLdf8"
      },
      "source": [
        "from imblearn.over_sampling import SMOTE \n",
        "from imblearn.over_sampling import RandomOverSampler"
      ],
      "execution_count": null,
      "outputs": []
    },
    {
      "cell_type": "code",
      "metadata": {
        "id": "sRn0ZzL-F2rL",
        "colab": {
          "base_uri": "https://localhost:8080/"
        },
        "outputId": "dec95154-cbe8-4d96-c721-20b2660f60c1"
      },
      "source": [
        "unique, counts = np.unique(train_labels, return_counts=True)\n",
        "print(\"Before oversampling:\",dict(zip(unique, counts)))\n",
        "\n",
        "\n",
        "smote = SMOTE()\n",
        "train_sampled, train_labels_sampled = smote.fit_sample(train,train_labels)\n",
        "\n",
        "# Eπιβεβαιώνουμε ότι το training set έχει εξισορροπηθεί με oversampling\n",
        "unique_after, counts_after = np.unique(train_labels_sampled, return_counts=True)\n",
        "print(\"After oversampling:\",dict(zip(unique_after, counts_after)))"
      ],
      "execution_count": null,
      "outputs": [
        {
          "output_type": "stream",
          "text": [
            "Before oversampling: {0: 48, 1: 84}\n",
            "After oversampling: {0: 84, 1: 84}\n"
          ],
          "name": "stdout"
        }
      ]
    },
    {
      "cell_type": "markdown",
      "metadata": {
        "id": "jWJb5PjwF7Cl"
      },
      "source": [
        "#### Kανονικοποίηση χαρακτηριστικών."
      ]
    },
    {
      "cell_type": "markdown",
      "metadata": {
        "id": "ve_i-MuPj-T3"
      },
      "source": [
        "Χαρακτηριστικά με πολύ μεγάλες διαφορές στις τιμές τους μπορούν να προκαλέσουν προβλήματα στην εκπαίδευση.Η κανονικοποίηση μετασχηματίζει τις τιμές των χαρακτηριστικών ώστε να αμβλυνθούν αυτές οι διαφορές και μπορεί να γίνει με 2 τρόπους: Διαιρώντας με τη διαφορά μεγίστου-ελαχίστου (feature scaling) οπότε οι τιμές όλων των χαρακτηριστικών κλιμακώνονται γραμμικά στο διάστημα [0,1] ή με το standard score του κάθε χαρακτηριστικού, που κάνει το χαρακτηριστικό να έχει μέση τιμή μηδέν και διακύμανση μονάδα. H μετατροπή σε standard score είναι απαραίτητη σε πολλούς ταξινομητές για να συμπεριφερθούν σωστά. Επίσης είναι πιο ανθεκτική από την min-max σε σποραδικές τιμές που είναι πολύ μακριά απο τη μέση τιμή και τις υπόλοιπες τιμές του χαρακτηριστικού. Από την άλλη, η κλιμάκωση στο [0,1] είναι λιγότερο ευαίσθητη σε μικρές αποκλίσεις και επίσης σε αραιά διανύσματα διατηρεί τις μηδενικές τιμές.\n",
        "\n",
        "Πειραματιζόμενοι με τις 2 μεθόδους καταλήξαμε πως το standard score δίνει καλύτερα αποτελέσματα. "
      ]
    },
    {
      "cell_type": "code",
      "metadata": {
        "trusted": true,
        "id": "WkpZhrHOF7Cn"
      },
      "source": [
        "scaler = StandardScaler()\n",
        "#scaler = MinMaxScaler()\n",
        "\n",
        "#X_train_scaled = preprocessing.scale(train_reduced) #Εναλλακτικός τρόπος να κανονικοποιήσουμε τα δεδομένα train \n",
        "\n",
        "scaler = preprocessing.StandardScaler().fit(train_sampled)\n",
        "train_scaled = scaler.transform(train_sampled)\n",
        "test_scaled = scaler.transform(test)\n",
        "\n",
        "#Υπάρχει και η επιλογή του min max scaler εκτός του z-score που χρησιμοποιήθηκε παραπάνω\n",
        "# το ίδιο με  min max scaling\n",
        "#min_max_scaler = preprocessing.MinMaxScaler()\n",
        "#train_minmax = min_max_scaler.fit_transform(train_reduced)\n",
        "#test_minmax = min_max_scaler.transform(test_reduced)"
      ],
      "execution_count": null,
      "outputs": []
    },
    {
      "cell_type": "code",
      "metadata": {
        "id": "_yi9ArVj7WS8",
        "colab": {
          "base_uri": "https://localhost:8080/"
        },
        "outputId": "b7afb336-21cb-44c8-f46c-f3e8f5516bd0"
      },
      "source": [
        "clf.fit(train_scaled, train_labels_sampled)\n",
        "\n",
        "knn_pred_scaled = clf.predict(test_scaled)\n",
        "\n",
        "\n",
        "print('\\033[1m'+\"kNN Before\"+'\\033[0m'+\"\\n\\n\")\n",
        "print(classification_report(test_labels,knn_pred))\n",
        "\n",
        "print('\\033[1m'+\"kNN After sampling and Normalization\"+'\\033[0m'+\"\\n\\n\")\n",
        "print(classification_report(test_labels,knn_pred_scaled))"
      ],
      "execution_count": null,
      "outputs": [
        {
          "output_type": "stream",
          "text": [
            "\u001b[1mkNN Before\u001b[0m\n",
            "\n",
            "\n",
            "              precision    recall  f1-score   support\n",
            "\n",
            "           0       0.67      0.40      0.50        15\n",
            "           1       0.62      0.83      0.71        18\n",
            "\n",
            "    accuracy                           0.64        33\n",
            "   macro avg       0.65      0.62      0.61        33\n",
            "weighted avg       0.64      0.64      0.62        33\n",
            "\n",
            "\u001b[1mkNN After sampling and Normalization\u001b[0m\n",
            "\n",
            "\n",
            "              precision    recall  f1-score   support\n",
            "\n",
            "           0       0.64      0.60      0.62        15\n",
            "           1       0.68      0.72      0.70        18\n",
            "\n",
            "    accuracy                           0.67        33\n",
            "   macro avg       0.66      0.66      0.66        33\n",
            "weighted avg       0.67      0.67      0.67        33\n",
            "\n"
          ],
          "name": "stdout"
        }
      ]
    },
    {
      "cell_type": "markdown",
      "metadata": {
        "id": "1tQ5sfFa73EM"
      },
      "source": [
        "Παρατηρούμε πως πριν καν εφαρμόσουμε GridSearchCV για εύρεση των βέλτιστων υπερ-παραμέτρων του k,του αριθμού μείωσης των χαρακτηριστικών και της μείωσης της διαστατικότητας έχουμε ήδη πετύχει καταφέρει να βελτιώσουμε την απόδοση του ταξινομητή kNN."
      ]
    },
    {
      "cell_type": "markdown",
      "metadata": {
        "id": "bCdG5_FuF7DD"
      },
      "source": [
        "#### Μείωση της διαστατικότητας με εξαγωγή χαρακτηριστικών \n"
      ]
    },
    {
      "cell_type": "markdown",
      "metadata": {
        "id": "AW5JBDWZY6OP"
      },
      "source": [
        "Θα εφαρμόσυμε την τεχνική Principal Components Analysis (PCA) για μείωση των διαστάσεων των δεδομένων μας."
      ]
    },
    {
      "cell_type": "code",
      "metadata": {
        "id": "hGbRE6SDKI69"
      },
      "source": [
        "from sklearn.decomposition import PCA"
      ],
      "execution_count": null,
      "outputs": []
    },
    {
      "cell_type": "code",
      "metadata": {
        "trusted": true,
        "id": "YRISpj2BF7DG",
        "colab": {
          "base_uri": "https://localhost:8080/"
        },
        "outputId": "c4021ff1-22d8-45cf-a2a5-737ee4c6f93a"
      },
      "source": [
        "n = 25\n",
        "pca = PCA(n_components=n)\n",
        "\n",
        "trainPCA = pca.fit_transform(train_scaled)\n",
        "testPCA = pca.transform(test_scaled)\n",
        "\n",
        "print(trainPCA.shape)"
      ],
      "execution_count": null,
      "outputs": [
        {
          "output_type": "stream",
          "text": [
            "(160, 25)\n"
          ],
          "name": "stdout"
        }
      ]
    },
    {
      "cell_type": "code",
      "metadata": {
        "trusted": true,
        "id": "flMN7wq0F7DM",
        "colab": {
          "base_uri": "https://localhost:8080/",
          "height": 473
        },
        "outputId": "46c86da4-e9f4-42fc-ee77-5345d41957b7"
      },
      "source": [
        "evar = pca.explained_variance_ratio_\n",
        "cum_evar = np.cumsum(evar)\n",
        "print(cum_evar)\n",
        "plt.figure(1, figsize=(6, 6))\n",
        "plt.xlabel(\"Principal Component number\")\n",
        "plt.ylabel('Cumulative Variance')\n",
        "plt.plot(cum_evar, linewidth=2)\n",
        "plt.show()"
      ],
      "execution_count": null,
      "outputs": [
        {
          "output_type": "stream",
          "text": [
            "[0.1001925  0.17667449 0.24353621 0.2996459  0.35387757 0.39841789\n",
            " 0.44012219 0.4781174  0.51211197 0.54298176 0.57293776 0.60077553\n",
            " 0.62692381 0.6527907  0.67663546 0.69892129 0.71967044 0.73996666\n",
            " 0.75960452 0.77836162 0.79599561 0.81165494 0.82677083 0.84153848\n",
            " 0.854968  ]\n"
          ],
          "name": "stdout"
        },
        {
          "output_type": "display_data",
          "data": {
            "image/png": "[encoded data removed]",
            "text/plain": [
              "<Figure size 432x432 with 1 Axes>"
            ]
          },
          "metadata": {
            "tags": [],
            "needs_background": "light"
          }
        }
      ]
    },
    {
      "cell_type": "markdown",
      "metadata": {
        "id": "slCTETK1F7DT"
      },
      "source": [
        "Από το γράφημα παρατηρούμε πως με μόλις 25 συνιστώσες περιγράφουμε σχεδόν το 100% της διακύμανσης του dataset και με μόλις 17 περιγράφουμε και πάλι ένα πολύ μεγάλο ποσοστό (~70%). Μπορούμε λοιπόν να μειώσουμε το n και στην τιμή 17 χωρίς να χάσουμε σημαντική πληροφορία. "
      ]
    },
    {
      "cell_type": "markdown",
      "metadata": {
        "id": "YuOQ8ayOaFUT"
      },
      "source": [
        "**Σημέιωση**</br>\n",
        "Ο αριθμός των χαρακτηριστικών που θα κρατήσουμε τελικά αποτελεί μια υπερπαράμετρο.Παρακάτω θα αναζητήσουμε τη βέλτιστη τιμή της χρησιμοποιώντας 10-fold cross validation και GridSearch."
      ]
    },
    {
      "cell_type": "markdown",
      "metadata": {
        "id": "3hu5ddaXXy7s"
      },
      "source": [
        "### **Hyperparameter tuning**"
      ]
    },
    {
      "cell_type": "markdown",
      "metadata": {
        "id": "WdZxsKCto6W3"
      },
      "source": [
        "Για το κούρδισμα υπερπαραμέτρων θα εφαρμόσουμε 10-fold cross validation με τη μέθοδο gridsearchCV που κάνει μαζί και GridSearch μαζί.Στη συνέχεια πειραματιζόμαστε με την αρχιτεκτονική του pipeline και τέλος συγκρίνουμε τα καλύτερα αποτελέσματα με αυτά που είχαμε πριν τη βελτιστοποίηση."
      ]
    },
    {
      "cell_type": "markdown",
      "metadata": {
        "id": "kP3JawayF7Di"
      },
      "source": [
        "#### **GrindSearchCV για τον kNN** "
      ]
    },
    {
      "cell_type": "code",
      "metadata": {
        "id": "6HVBuct9MIu9"
      },
      "source": [
        "import time\n",
        "from imblearn.pipeline import Pipeline\n",
        "from sklearn.model_selection import GridSearchCV"
      ],
      "execution_count": null,
      "outputs": []
    },
    {
      "cell_type": "code",
      "metadata": {
        "trusted": true,
        "id": "4vMRU8BNriF8"
      },
      "source": [
        "# Αρχικοποιούμε τους εκτιμητές (μετασχηματιστές και ταξινομητή) χωρείς παραμέτρους\n",
        "selector = VarianceThreshold()\n",
        "scaler = StandardScaler()\n",
        "sm = SMOTE()\n",
        "pca = PCA()\n",
        "clf = neighbors.KNeighborsClassifier(n_jobs=-1) # η παράμετρος n_jobs = 1 χρησιμοποιεί όλους τους πυρήνες του υπολογιστή\n",
        "\n",
        "pipe = Pipeline(steps=[('selector', selector), ('scaler', scaler), ('sampler', sm), \n",
        "                       ('pca', pca), ('kNN', clf)])\n"
      ],
      "execution_count": null,
      "outputs": []
    },
    {
      "cell_type": "markdown",
      "metadata": {
        "id": "ejIQ7VZ3ahIV"
      },
      "source": [
        "##### **1o Search**"
      ]
    },
    {
      "cell_type": "code",
      "metadata": {
        "id": "cht_NcAZv8jK"
      },
      "source": [
        "vthreshold = [ 0.1, 0.2, 1, 5, 20, 500, 10000 ] #προσαρμόζουμε τις τιμές μας στο variance που παρατηρήσαμε\n",
        "n_components = [7, 15, 20, 25]\n",
        "k = [1, 3, 5, 7, 9, 11] # η υπερπαράμετρος του ταξινομητή\n",
        "\n",
        "estimator = GridSearchCV(pipe, dict(selector__threshold=vthreshold, \n",
        "                                    pca__n_components=n_components, \n",
        "                                    kNN__n_neighbors=k), \n",
        "                                    cv=10, \n",
        "                                    scoring='f1_macro', \n",
        "                                    n_jobs=-1,\n",
        "                                    verbose=1\n",
        "                                )"
      ],
      "execution_count": null,
      "outputs": []
    },
    {
      "cell_type": "code",
      "metadata": {
        "trusted": true,
        "id": "_Z9OX36Trhsw",
        "colab": {
          "base_uri": "https://localhost:8080/"
        },
        "outputId": "8eb8d7e1-f7cc-4316-92a6-b577dbe5fc0e"
      },
      "source": [
        "start_time = time.time()\n",
        "estimator.fit(train, train_labels)\n",
        "preds = estimator.predict(test)\n",
        "print(\"Συνολικός χρόνος fit και predict: %s seconds\" % (time.time() - start_time))\n",
        "print(classification_report(test_labels, preds))"
      ],
      "execution_count": null,
      "outputs": [
        {
          "output_type": "stream",
          "text": [
            "Fitting 10 folds for each of 168 candidates, totalling 1680 fits\n"
          ],
          "name": "stdout"
        },
        {
          "output_type": "stream",
          "text": [
            "[Parallel(n_jobs=-1)]: Using backend LokyBackend with 2 concurrent workers.\n",
            "[Parallel(n_jobs=-1)]: Done  46 tasks      | elapsed:    4.3s\n",
            "[Parallel(n_jobs=-1)]: Done 938 tasks      | elapsed:   35.0s\n"
          ],
          "name": "stderr"
        },
        {
          "output_type": "stream",
          "text": [
            "Συνολικός χρόνος fit και predict: 57.63417983055115 seconds\n",
            "              precision    recall  f1-score   support\n",
            "\n",
            "           0       0.50      0.73      0.59        11\n",
            "           1       0.82      0.64      0.72        22\n",
            "\n",
            "    accuracy                           0.67        33\n",
            "   macro avg       0.66      0.68      0.66        33\n",
            "weighted avg       0.72      0.67      0.68        33\n",
            "\n"
          ],
          "name": "stdout"
        },
        {
          "output_type": "stream",
          "text": [
            "[Parallel(n_jobs=-1)]: Done 1680 out of 1680 | elapsed:   57.5s finished\n"
          ],
          "name": "stderr"
        }
      ]
    },
    {
      "cell_type": "markdown",
      "metadata": {
        "id": "6C_hn0Jn22_5"
      },
      "source": [
        "Εκτυπώνουμε τον καλύτερο συνδυασμό από αυτούς που δοκιμάσαμε"
      ]
    },
    {
      "cell_type": "code",
      "metadata": {
        "id": "gmqGfdOA2yQN",
        "colab": {
          "base_uri": "https://localhost:8080/"
        },
        "outputId": "a73b2339-9eac-48da-a83d-d41be12e68da"
      },
      "source": [
        "# Best combination\n",
        "print(estimator.best_estimator_)\n",
        "print(estimator.best_params_)"
      ],
      "execution_count": null,
      "outputs": [
        {
          "output_type": "stream",
          "text": [
            "Pipeline(steps=[('selector', VarianceThreshold(threshold=1)),\n",
            "                ('scaler', StandardScaler()), ('sampler', SMOTE()),\n",
            "                ('pca', PCA(n_components=15)),\n",
            "                ('kNN', KNeighborsClassifier(n_jobs=-1, n_neighbors=1))])\n",
            "{'kNN__n_neighbors': 1, 'pca__n_components': 15, 'selector__threshold': 1}\n"
          ],
          "name": "stdout"
        }
      ]
    },
    {
      "cell_type": "markdown",
      "metadata": {
        "id": "TaQh52RzamvP"
      },
      "source": [
        "##### **2o Search (Progressive**)"
      ]
    },
    {
      "cell_type": "code",
      "metadata": {
        "id": "1ZZ_nl5PauQL"
      },
      "source": [
        "vthreshold = [ 0.8, 0.9, 1, 1.1, 1.2, 1.3, 1.4 ] #προσαρμόζουμε τις τιμές μας στο variance που παρατηρήσαμε\n",
        "n_components = [13, 14, 15, 16, 17]\n",
        "k = [1, 2, 3] # η υπερπαράμετρος του ταξινομητή"
      ],
      "execution_count": null,
      "outputs": []
    },
    {
      "cell_type": "code",
      "metadata": {
        "trusted": true,
        "colab": {
          "base_uri": "https://localhost:8080/"
        },
        "id": "WHVYHjLaauQM",
        "outputId": "496014a6-7838-463d-9560-30c87da22b74"
      },
      "source": [
        "start_time = time.time()\n",
        "estimator.fit(train, train_labels)\n",
        "preds = estimator.predict(test)\n",
        "print(\"Συνολικός χρόνος fit και predict: %s seconds\" % (time.time() - start_time))\n",
        "print(classification_report(test_labels, preds))"
      ],
      "execution_count": null,
      "outputs": [
        {
          "output_type": "stream",
          "text": [
            "Fitting 10 folds for each of 105 candidates, totalling 1050 fits\n"
          ],
          "name": "stdout"
        },
        {
          "output_type": "stream",
          "text": [
            "[Parallel(n_jobs=-1)]: Using backend LokyBackend with 2 concurrent workers.\n",
            "[Parallel(n_jobs=-1)]: Done  46 tasks      | elapsed:    3.9s\n",
            "[Parallel(n_jobs=-1)]: Done 196 tasks      | elapsed:   12.6s\n",
            "[Parallel(n_jobs=-1)]: Done 446 tasks      | elapsed:   27.1s\n",
            "[Parallel(n_jobs=-1)]: Done 796 tasks      | elapsed:   47.3s\n"
          ],
          "name": "stderr"
        },
        {
          "output_type": "stream",
          "text": [
            "Συνολικός χρόνος fit και predict: 62.11964559555054 seconds\n",
            "              precision    recall  f1-score   support\n",
            "\n",
            "           0       0.56      0.82      0.67        11\n",
            "           1       0.88      0.68      0.77        22\n",
            "\n",
            "    accuracy                           0.73        33\n",
            "   macro avg       0.72      0.75      0.72        33\n",
            "weighted avg       0.78      0.73      0.74        33\n",
            "\n"
          ],
          "name": "stdout"
        },
        {
          "output_type": "stream",
          "text": [
            "[Parallel(n_jobs=-1)]: Done 1050 out of 1050 | elapsed:  1.0min finished\n"
          ],
          "name": "stderr"
        }
      ]
    },
    {
      "cell_type": "code",
      "metadata": {
        "colab": {
          "base_uri": "https://localhost:8080/"
        },
        "id": "Thh4O2hWbtem",
        "outputId": "09ff64cd-4555-4022-d90a-eecddd6b4704"
      },
      "source": [
        "# Best combination\n",
        "print(estimator.best_estimator_)\n",
        "print(estimator.best_params_)"
      ],
      "execution_count": null,
      "outputs": [
        {
          "output_type": "stream",
          "text": [
            "Pipeline(steps=[('selector', VarianceThreshold(threshold=1.1)),\n",
            "                ('scaler', StandardScaler()), ('sampler', SMOTE()),\n",
            "                ('pca', PCA(n_components=14)),\n",
            "                ('kNN', KNeighborsClassifier(n_jobs=-1, n_neighbors=1))])\n",
            "{'kNN__n_neighbors': 1, 'pca__n_components': 14, 'selector__threshold': 1.1}\n"
          ],
          "name": "stdout"
        }
      ]
    },
    {
      "cell_type": "markdown",
      "metadata": {
        "id": "W3ejq3dpNEGZ"
      },
      "source": [
        "### Αποτελέσματα"
      ]
    },
    {
      "cell_type": "markdown",
      "metadata": {
        "id": "zXFQZbLhF7D4"
      },
      "source": [
        "Καναμε μερικές δοκιμές χωρίς τη χρήση των διάφορων μέσων προεπεξεργασίας δεδομένων χρησιμοποιώντας στα αντίστοιχα πεδία τις βέλτιστες τιμές που προέκυψαν από το cross validation. Από τις τιμές των f1 όπου προέκυψαν καταλήγουμε στα εξής συμπεράσματα: Η χρήση selector βελτιώνει τα αποτελέματα όπως αναφέρθηκε και νωρίτερα, όμοια και η χρήση PCA, μιας και με 14 συνιστώσες κρατάμε πιθανότατα όλο το ποσοστό πληροφορίας που απαιτείται για να έχουμε βέλτιστα αποτελέσματα. Σημαντική διαφορά παρατηρείται με τη χρήση και με scaler, ενώ και η χρήση του oversampling δίνει καλύτερο αποτέλεσμα της μετρικής f1 macro και ίδιο αποτέλεσμα στη μετρική f1 micro. "
      ]
    },
    {
      "cell_type": "markdown",
      "metadata": {
        "id": "Tg5SBeFbNJjV"
      },
      "source": [
        "Τα νούμερα από το τελικό μοντέλο kNN κρίνονται ικανοποιητικά,καθώς σε [σχετική δημοσίευση](https://www.sciencedirect.com/science/article/pii/S1532046415002063)[1] που χρησιμοποιήθηκε το ίδιο dataset η αποτελεσματικότητα ενός απλού MLP και της γραμμικής παλινδρόμησης που χρησιμοποίησαν οι ερευνητές είναι συγκρίσιμα με αυτά που πετύχαμε εμείς."
      ]
    },
    {
      "cell_type": "markdown",
      "metadata": {
        "trusted": true,
        "id": "w9Q7ILbGF7EO"
      },
      "source": [
        "Μετά την προεπεξεργασία και τη βελτιστοποίηση παραμέτρων παρατηρούμε σημαντική βελτίωση των f1 micro και f1 macro μετρικών του ταξινομητή kNN. Αντίστοιχα για τους dummy ταξινομητές constant δεν υπάρχει καμία αλλαγή στις f1 μετρικές τους ενώ έχουμε μικρή βελτίωση για τον uniform και πολύ χειρότερες τιμές για τους most frequent το οποίο πιθανότατα οφείλεται στην εξισορρόπηση των δεδομένων."
      ]
    },
    {
      "cell_type": "markdown",
      "metadata": {
        "id": "PWT3y9PdF7EQ"
      },
      "source": [
        "Σχετικά με τους χρόνους εκπαίδευσης και πρόβλεψης παρατηρούμε το εξής \"παράδοξο\": ο χρόνος εκπαίδευσης του kNN ταξινομητή σε ορισμένα τρεξίματα μεγαλώνει με τα τελικά δεδομένα παρά τη σημαντική μείωση της διαστατικότητας, ενώ πολλοί θα περίμεναν λόγω του μικρότερου πλήθους χαρακτηριστικών να έχουμε και πολύ μικρότερο χρόνο εκπαίδευσης. Αυτό όμως πιθανόν να οφείλεται στο γεγονός ότι αν και μειώθηκαν σημαντικά τα χαρακτηριστικά, αυξήθηκαν τα δείγματα μέσω της εξισορρόπησης του δείγματος με αποτέλεσμα τον μεγαλύτερο χρόνο εκπαίδευσης. Σε γενικότερο πλαίσιο όμως οι χρόνο τόσο εκπαίδευσης (train) όσο και πρόβλεψης (test) δεν είχαν σημαντικές διαφορές."
      ]
    },
    {
      "cell_type": "markdown",
      "metadata": {
        "id": "EXzHwEwLNnk6"
      },
      "source": [
        "[1] [Miriam Seoane Santos, Pedro Henriques Abreu, Pedro J Garcia-Laencina, Adelia Simao, Armando Carvalho, A new cluster-based oversampling method for improving survival prediction of hepatocellular carcinoma patients, Journal of biomedical informatics, 58, 49-59, 2015.](https://www.sciencedirect.com/science/article/pii/S1532046415002063)"
      ]
    },
    {
      "cell_type": "markdown",
      "metadata": {
        "id": "18FvFVKXd3NC"
      },
      "source": [
        "# Μεγάλο Dataset (B08)"
      ]
    },
    {
      "cell_type": "markdown",
      "metadata": {
        "id": "EZdL8qa7iDjh"
      },
      "source": [
        "## Α. Βασικές πληροφορίες\n"
      ]
    },
    {
      "cell_type": "markdown",
      "metadata": {
        "id": "CIBSUwWZiDju"
      },
      "source": [
        "![UCI ML Logo](http://archive.ics.uci.edu/ml/assets/logo.gif \"UCI Machine Learning Repository\")\n",
        "<h3>1. Συνοπτική παρουσίαση του dataset</h3>\n",
        "\n",
        "Το dataset περιέχει 1080 έγγραφα ελεύθερου κειμένου που αφορούν περιγραφές βραζιλιάνικων εταιρειών κατηγοριοποιημένων σε 9 κατηγορίες.Κάθε κατηγορία καταγράφεται σε έναν πίνακα που ονομάζεται Εθνική Ταξινόμηση των Οικονομικών Δραστηριοτήτων (Classificação Nacional de\n",
        "Atividade Econômicas - CNAE). Τα αρχικά κείμενα υποβλήθηκαν σε προεπεξεργασία για τη δημιουργία του dataset: αρχικά, κρατήθηκαν μόνο τα \n",
        "γράμματα και στη συνέχεια αφαιρέθηκαν οι προθέσεις των κειμένων. Στη συνέχεια, οι λέξεις μετατράπηκαν στην κανονική τους μορφή. Τελικά,\n",
        "κάθε έγγραφο παρουσιάστηκε ως διάνυσμα, όπου τα χακτηριστικά του είναι λέξεις.Το βάρος κάθε λέξης είναι η συχνότητά του στο έγγραφο. Αυτό το σύνολο δεδομένων είναι\n",
        "πολύ αραιό (το 99,22% των χαρακτηριστικών είναι μηδενικά).<br/>"
      ]
    },
    {
      "cell_type": "markdown",
      "metadata": {
        "id": "G7CoErdhzdzZ"
      },
      "source": [
        "\n",
        "<h3>2. Αριθμός δειγμάτων και χαρακτηριστικών, είδος χαρακτηριστικών. Υπάρχουν μη διατεταγμένα χαρακτηριστικά και ποια είναι αυτά;</h3>\n",
        "\n",
        "<STRONG><h5>Αριθμός δειγμάτων:</h5>   1080<br/>\n",
        "<h5>Αριθμός χαρακτηριστικών:</h5> &nbsp 856 <br/>\n",
        "<h5>Είδος χαρακτηριστικών:</h5></STRONG>  \n",
        "\n",
        "Πραγματικές αριθμητικές τιμές. Τα χαρακτηριστικά συμβολίζουν λέξεις και οι εγγραφές ένα κείμενο.Το βάρος κάθε χαρακτηριστικού αφορά τη συχνότητα εμφάνισής της λέξης στο έγγραφο.\n",
        "<br/> \n",
        "<br/> \n",
        "  \n"
      ]
    },
    {
      "cell_type": "code",
      "metadata": {
        "trusted": true,
        "id": "pL38ooRuiDkB",
        "colab": {
          "base_uri": "https://localhost:8080/"
        },
        "outputId": "39e25be7-2e72-4ff1-929a-cbec44abfa2c"
      },
      "source": [
        "# Αρχικά πρέπει να γίνει upload αρχείο \"dermatology.data\",το οποίο είναι το S05 dataset\n",
        "df = pd.read_csv(\"CNAE-9.data\", header=None)\n",
        "df.head()"
      ],
      "execution_count": null,
      "outputs": [
        {
          "output_type": "execute_result",
          "data": {
            "text/html": [
              "<div>\n",
              "<style scoped>\n",
              "    .dataframe tbody tr th:only-of-type {\n",
              "        vertical-align: middle;\n",
              "    }\n",
              "\n",
              "    .dataframe tbody tr th {\n",
              "        vertical-align: top;\n",
              "    }\n",
              "\n",
              "    .dataframe thead th {\n",
              "        text-align: right;\n",
              "    }\n",
              "</style>\n",
              "<table border=\"1\" class=\"dataframe\">\n",
              "  <thead>\n",
              "    <tr style=\"text-align: right;\">\n",
              "      <th></th>\n",
              "      <th>0</th>\n",
              "      <th>1</th>\n",
              "      <th>2</th>\n",
              "      <th>3</th>\n",
              "      <th>4</th>\n",
              "      <th>5</th>\n",
              "      <th>6</th>\n",
              "      <th>7</th>\n",
              "      <th>8</th>\n",
              "      <th>9</th>\n",
              "      <th>10</th>\n",
              "      <th>11</th>\n",
              "      <th>12</th>\n",
              "      <th>13</th>\n",
              "      <th>14</th>\n",
              "      <th>15</th>\n",
              "      <th>16</th>\n",
              "      <th>17</th>\n",
              "      <th>18</th>\n",
              "      <th>19</th>\n",
              "      <th>20</th>\n",
              "      <th>21</th>\n",
              "      <th>22</th>\n",
              "      <th>23</th>\n",
              "      <th>24</th>\n",
              "      <th>25</th>\n",
              "      <th>26</th>\n",
              "      <th>27</th>\n",
              "      <th>28</th>\n",
              "      <th>29</th>\n",
              "      <th>30</th>\n",
              "      <th>31</th>\n",
              "      <th>32</th>\n",
              "      <th>33</th>\n",
              "      <th>34</th>\n",
              "      <th>35</th>\n",
              "      <th>36</th>\n",
              "      <th>37</th>\n",
              "      <th>38</th>\n",
              "      <th>39</th>\n",
              "      <th>...</th>\n",
              "      <th>817</th>\n",
              "      <th>818</th>\n",
              "      <th>819</th>\n",
              "      <th>820</th>\n",
              "      <th>821</th>\n",
              "      <th>822</th>\n",
              "      <th>823</th>\n",
              "      <th>824</th>\n",
              "      <th>825</th>\n",
              "      <th>826</th>\n",
              "      <th>827</th>\n",
              "      <th>828</th>\n",
              "      <th>829</th>\n",
              "      <th>830</th>\n",
              "      <th>831</th>\n",
              "      <th>832</th>\n",
              "      <th>833</th>\n",
              "      <th>834</th>\n",
              "      <th>835</th>\n",
              "      <th>836</th>\n",
              "      <th>837</th>\n",
              "      <th>838</th>\n",
              "      <th>839</th>\n",
              "      <th>840</th>\n",
              "      <th>841</th>\n",
              "      <th>842</th>\n",
              "      <th>843</th>\n",
              "      <th>844</th>\n",
              "      <th>845</th>\n",
              "      <th>846</th>\n",
              "      <th>847</th>\n",
              "      <th>848</th>\n",
              "      <th>849</th>\n",
              "      <th>850</th>\n",
              "      <th>851</th>\n",
              "      <th>852</th>\n",
              "      <th>853</th>\n",
              "      <th>854</th>\n",
              "      <th>855</th>\n",
              "      <th>856</th>\n",
              "    </tr>\n",
              "  </thead>\n",
              "  <tbody>\n",
              "    <tr>\n",
              "      <th>0</th>\n",
              "      <td>1</td>\n",
              "      <td>0</td>\n",
              "      <td>0</td>\n",
              "      <td>0</td>\n",
              "      <td>0</td>\n",
              "      <td>0</td>\n",
              "      <td>0</td>\n",
              "      <td>0</td>\n",
              "      <td>0</td>\n",
              "      <td>0</td>\n",
              "      <td>0</td>\n",
              "      <td>0</td>\n",
              "      <td>0</td>\n",
              "      <td>0</td>\n",
              "      <td>0</td>\n",
              "      <td>0</td>\n",
              "      <td>0</td>\n",
              "      <td>0</td>\n",
              "      <td>0</td>\n",
              "      <td>0</td>\n",
              "      <td>0</td>\n",
              "      <td>0</td>\n",
              "      <td>0</td>\n",
              "      <td>0</td>\n",
              "      <td>0</td>\n",
              "      <td>0</td>\n",
              "      <td>0</td>\n",
              "      <td>0</td>\n",
              "      <td>0</td>\n",
              "      <td>0</td>\n",
              "      <td>0</td>\n",
              "      <td>0</td>\n",
              "      <td>0</td>\n",
              "      <td>0</td>\n",
              "      <td>0</td>\n",
              "      <td>0</td>\n",
              "      <td>0</td>\n",
              "      <td>0</td>\n",
              "      <td>0</td>\n",
              "      <td>0</td>\n",
              "      <td>...</td>\n",
              "      <td>0</td>\n",
              "      <td>0</td>\n",
              "      <td>0</td>\n",
              "      <td>0</td>\n",
              "      <td>0</td>\n",
              "      <td>0</td>\n",
              "      <td>0</td>\n",
              "      <td>0</td>\n",
              "      <td>0</td>\n",
              "      <td>0</td>\n",
              "      <td>0</td>\n",
              "      <td>0</td>\n",
              "      <td>0</td>\n",
              "      <td>1</td>\n",
              "      <td>0</td>\n",
              "      <td>0</td>\n",
              "      <td>0</td>\n",
              "      <td>0</td>\n",
              "      <td>0</td>\n",
              "      <td>0</td>\n",
              "      <td>0</td>\n",
              "      <td>0</td>\n",
              "      <td>0</td>\n",
              "      <td>0</td>\n",
              "      <td>0</td>\n",
              "      <td>0</td>\n",
              "      <td>0</td>\n",
              "      <td>0</td>\n",
              "      <td>0</td>\n",
              "      <td>0</td>\n",
              "      <td>0</td>\n",
              "      <td>0</td>\n",
              "      <td>0</td>\n",
              "      <td>0</td>\n",
              "      <td>0</td>\n",
              "      <td>0</td>\n",
              "      <td>0</td>\n",
              "      <td>0</td>\n",
              "      <td>0</td>\n",
              "      <td>0</td>\n",
              "    </tr>\n",
              "    <tr>\n",
              "      <th>1</th>\n",
              "      <td>2</td>\n",
              "      <td>0</td>\n",
              "      <td>0</td>\n",
              "      <td>0</td>\n",
              "      <td>0</td>\n",
              "      <td>0</td>\n",
              "      <td>0</td>\n",
              "      <td>0</td>\n",
              "      <td>0</td>\n",
              "      <td>0</td>\n",
              "      <td>0</td>\n",
              "      <td>0</td>\n",
              "      <td>0</td>\n",
              "      <td>0</td>\n",
              "      <td>0</td>\n",
              "      <td>0</td>\n",
              "      <td>0</td>\n",
              "      <td>0</td>\n",
              "      <td>0</td>\n",
              "      <td>0</td>\n",
              "      <td>0</td>\n",
              "      <td>0</td>\n",
              "      <td>0</td>\n",
              "      <td>0</td>\n",
              "      <td>0</td>\n",
              "      <td>0</td>\n",
              "      <td>0</td>\n",
              "      <td>0</td>\n",
              "      <td>0</td>\n",
              "      <td>0</td>\n",
              "      <td>0</td>\n",
              "      <td>0</td>\n",
              "      <td>0</td>\n",
              "      <td>0</td>\n",
              "      <td>0</td>\n",
              "      <td>0</td>\n",
              "      <td>0</td>\n",
              "      <td>0</td>\n",
              "      <td>0</td>\n",
              "      <td>0</td>\n",
              "      <td>...</td>\n",
              "      <td>0</td>\n",
              "      <td>0</td>\n",
              "      <td>0</td>\n",
              "      <td>0</td>\n",
              "      <td>0</td>\n",
              "      <td>0</td>\n",
              "      <td>0</td>\n",
              "      <td>0</td>\n",
              "      <td>0</td>\n",
              "      <td>0</td>\n",
              "      <td>0</td>\n",
              "      <td>0</td>\n",
              "      <td>0</td>\n",
              "      <td>0</td>\n",
              "      <td>0</td>\n",
              "      <td>0</td>\n",
              "      <td>0</td>\n",
              "      <td>0</td>\n",
              "      <td>0</td>\n",
              "      <td>0</td>\n",
              "      <td>0</td>\n",
              "      <td>0</td>\n",
              "      <td>0</td>\n",
              "      <td>0</td>\n",
              "      <td>0</td>\n",
              "      <td>0</td>\n",
              "      <td>0</td>\n",
              "      <td>0</td>\n",
              "      <td>0</td>\n",
              "      <td>0</td>\n",
              "      <td>0</td>\n",
              "      <td>0</td>\n",
              "      <td>0</td>\n",
              "      <td>0</td>\n",
              "      <td>0</td>\n",
              "      <td>0</td>\n",
              "      <td>0</td>\n",
              "      <td>0</td>\n",
              "      <td>0</td>\n",
              "      <td>0</td>\n",
              "    </tr>\n",
              "    <tr>\n",
              "      <th>2</th>\n",
              "      <td>3</td>\n",
              "      <td>0</td>\n",
              "      <td>0</td>\n",
              "      <td>0</td>\n",
              "      <td>0</td>\n",
              "      <td>0</td>\n",
              "      <td>0</td>\n",
              "      <td>0</td>\n",
              "      <td>0</td>\n",
              "      <td>0</td>\n",
              "      <td>0</td>\n",
              "      <td>0</td>\n",
              "      <td>0</td>\n",
              "      <td>0</td>\n",
              "      <td>0</td>\n",
              "      <td>0</td>\n",
              "      <td>0</td>\n",
              "      <td>0</td>\n",
              "      <td>0</td>\n",
              "      <td>0</td>\n",
              "      <td>0</td>\n",
              "      <td>0</td>\n",
              "      <td>0</td>\n",
              "      <td>0</td>\n",
              "      <td>0</td>\n",
              "      <td>0</td>\n",
              "      <td>0</td>\n",
              "      <td>0</td>\n",
              "      <td>0</td>\n",
              "      <td>0</td>\n",
              "      <td>0</td>\n",
              "      <td>0</td>\n",
              "      <td>0</td>\n",
              "      <td>0</td>\n",
              "      <td>0</td>\n",
              "      <td>0</td>\n",
              "      <td>0</td>\n",
              "      <td>0</td>\n",
              "      <td>0</td>\n",
              "      <td>0</td>\n",
              "      <td>...</td>\n",
              "      <td>0</td>\n",
              "      <td>0</td>\n",
              "      <td>0</td>\n",
              "      <td>0</td>\n",
              "      <td>0</td>\n",
              "      <td>0</td>\n",
              "      <td>0</td>\n",
              "      <td>0</td>\n",
              "      <td>0</td>\n",
              "      <td>0</td>\n",
              "      <td>0</td>\n",
              "      <td>0</td>\n",
              "      <td>0</td>\n",
              "      <td>0</td>\n",
              "      <td>0</td>\n",
              "      <td>0</td>\n",
              "      <td>0</td>\n",
              "      <td>0</td>\n",
              "      <td>0</td>\n",
              "      <td>0</td>\n",
              "      <td>0</td>\n",
              "      <td>0</td>\n",
              "      <td>0</td>\n",
              "      <td>0</td>\n",
              "      <td>0</td>\n",
              "      <td>0</td>\n",
              "      <td>0</td>\n",
              "      <td>0</td>\n",
              "      <td>0</td>\n",
              "      <td>0</td>\n",
              "      <td>0</td>\n",
              "      <td>0</td>\n",
              "      <td>0</td>\n",
              "      <td>0</td>\n",
              "      <td>0</td>\n",
              "      <td>0</td>\n",
              "      <td>0</td>\n",
              "      <td>0</td>\n",
              "      <td>0</td>\n",
              "      <td>0</td>\n",
              "    </tr>\n",
              "    <tr>\n",
              "      <th>3</th>\n",
              "      <td>4</td>\n",
              "      <td>0</td>\n",
              "      <td>0</td>\n",
              "      <td>0</td>\n",
              "      <td>0</td>\n",
              "      <td>0</td>\n",
              "      <td>0</td>\n",
              "      <td>0</td>\n",
              "      <td>0</td>\n",
              "      <td>0</td>\n",
              "      <td>0</td>\n",
              "      <td>0</td>\n",
              "      <td>0</td>\n",
              "      <td>0</td>\n",
              "      <td>0</td>\n",
              "      <td>0</td>\n",
              "      <td>0</td>\n",
              "      <td>0</td>\n",
              "      <td>0</td>\n",
              "      <td>0</td>\n",
              "      <td>0</td>\n",
              "      <td>0</td>\n",
              "      <td>0</td>\n",
              "      <td>0</td>\n",
              "      <td>0</td>\n",
              "      <td>0</td>\n",
              "      <td>0</td>\n",
              "      <td>0</td>\n",
              "      <td>0</td>\n",
              "      <td>0</td>\n",
              "      <td>0</td>\n",
              "      <td>0</td>\n",
              "      <td>0</td>\n",
              "      <td>0</td>\n",
              "      <td>0</td>\n",
              "      <td>0</td>\n",
              "      <td>0</td>\n",
              "      <td>0</td>\n",
              "      <td>0</td>\n",
              "      <td>0</td>\n",
              "      <td>...</td>\n",
              "      <td>0</td>\n",
              "      <td>0</td>\n",
              "      <td>0</td>\n",
              "      <td>0</td>\n",
              "      <td>0</td>\n",
              "      <td>0</td>\n",
              "      <td>1</td>\n",
              "      <td>0</td>\n",
              "      <td>0</td>\n",
              "      <td>0</td>\n",
              "      <td>0</td>\n",
              "      <td>0</td>\n",
              "      <td>0</td>\n",
              "      <td>0</td>\n",
              "      <td>0</td>\n",
              "      <td>0</td>\n",
              "      <td>0</td>\n",
              "      <td>0</td>\n",
              "      <td>0</td>\n",
              "      <td>0</td>\n",
              "      <td>0</td>\n",
              "      <td>0</td>\n",
              "      <td>0</td>\n",
              "      <td>0</td>\n",
              "      <td>0</td>\n",
              "      <td>0</td>\n",
              "      <td>0</td>\n",
              "      <td>0</td>\n",
              "      <td>0</td>\n",
              "      <td>0</td>\n",
              "      <td>0</td>\n",
              "      <td>0</td>\n",
              "      <td>0</td>\n",
              "      <td>0</td>\n",
              "      <td>0</td>\n",
              "      <td>0</td>\n",
              "      <td>0</td>\n",
              "      <td>0</td>\n",
              "      <td>0</td>\n",
              "      <td>0</td>\n",
              "    </tr>\n",
              "    <tr>\n",
              "      <th>4</th>\n",
              "      <td>5</td>\n",
              "      <td>0</td>\n",
              "      <td>0</td>\n",
              "      <td>0</td>\n",
              "      <td>0</td>\n",
              "      <td>0</td>\n",
              "      <td>0</td>\n",
              "      <td>0</td>\n",
              "      <td>0</td>\n",
              "      <td>0</td>\n",
              "      <td>0</td>\n",
              "      <td>0</td>\n",
              "      <td>0</td>\n",
              "      <td>0</td>\n",
              "      <td>0</td>\n",
              "      <td>0</td>\n",
              "      <td>0</td>\n",
              "      <td>0</td>\n",
              "      <td>0</td>\n",
              "      <td>0</td>\n",
              "      <td>0</td>\n",
              "      <td>0</td>\n",
              "      <td>0</td>\n",
              "      <td>0</td>\n",
              "      <td>0</td>\n",
              "      <td>0</td>\n",
              "      <td>0</td>\n",
              "      <td>0</td>\n",
              "      <td>0</td>\n",
              "      <td>0</td>\n",
              "      <td>0</td>\n",
              "      <td>0</td>\n",
              "      <td>0</td>\n",
              "      <td>0</td>\n",
              "      <td>0</td>\n",
              "      <td>0</td>\n",
              "      <td>0</td>\n",
              "      <td>0</td>\n",
              "      <td>0</td>\n",
              "      <td>0</td>\n",
              "      <td>...</td>\n",
              "      <td>0</td>\n",
              "      <td>0</td>\n",
              "      <td>0</td>\n",
              "      <td>0</td>\n",
              "      <td>0</td>\n",
              "      <td>0</td>\n",
              "      <td>0</td>\n",
              "      <td>0</td>\n",
              "      <td>0</td>\n",
              "      <td>0</td>\n",
              "      <td>0</td>\n",
              "      <td>0</td>\n",
              "      <td>0</td>\n",
              "      <td>0</td>\n",
              "      <td>0</td>\n",
              "      <td>0</td>\n",
              "      <td>0</td>\n",
              "      <td>0</td>\n",
              "      <td>0</td>\n",
              "      <td>0</td>\n",
              "      <td>0</td>\n",
              "      <td>0</td>\n",
              "      <td>0</td>\n",
              "      <td>0</td>\n",
              "      <td>0</td>\n",
              "      <td>0</td>\n",
              "      <td>0</td>\n",
              "      <td>0</td>\n",
              "      <td>0</td>\n",
              "      <td>0</td>\n",
              "      <td>0</td>\n",
              "      <td>0</td>\n",
              "      <td>0</td>\n",
              "      <td>0</td>\n",
              "      <td>0</td>\n",
              "      <td>0</td>\n",
              "      <td>0</td>\n",
              "      <td>0</td>\n",
              "      <td>0</td>\n",
              "      <td>0</td>\n",
              "    </tr>\n",
              "  </tbody>\n",
              "</table>\n",
              "<p>5 rows × 857 columns</p>\n",
              "</div>"
            ],
            "text/plain": [
              "   0    1    2    3    4    5    6    ...  850  851  852  853  854  855  856\n",
              "0    1    0    0    0    0    0    0  ...    0    0    0    0    0    0    0\n",
              "1    2    0    0    0    0    0    0  ...    0    0    0    0    0    0    0\n",
              "2    3    0    0    0    0    0    0  ...    0    0    0    0    0    0    0\n",
              "3    4    0    0    0    0    0    0  ...    0    0    0    0    0    0    0\n",
              "4    5    0    0    0    0    0    0  ...    0    0    0    0    0    0    0\n",
              "\n",
              "[5 rows x 857 columns]"
            ]
          },
          "metadata": {
            "tags": []
          },
          "execution_count": 90
        }
      ]
    },
    {
      "cell_type": "code",
      "metadata": {
        "trusted": true,
        "id": "neY1AY-4iDkG",
        "colab": {
          "base_uri": "https://localhost:8080/"
        },
        "outputId": "ee29ef67-5c2d-4a35-9b52-b078fc1122a1"
      },
      "source": [
        "print (df.shape)\n",
        "print(\"To dataset έχει \",df.shape[0],\"δείγματα και \",df.shape[1]-1,\"χαρακτηριστικά\")"
      ],
      "execution_count": null,
      "outputs": [
        {
          "output_type": "stream",
          "text": [
            "(1080, 857)\n",
            "To dataset έχει  1080 δείγματα και  856 χαρακτηριστικά\n"
          ],
          "name": "stdout"
        }
      ]
    },
    {
      "cell_type": "markdown",
      "metadata": {
        "id": "_kqKIODjz6SZ"
      },
      "source": [
        "\n",
        "<h3>3. Υπάρχουν επικεφαλίδες; Αρίθμηση γραμμών;</h3>\n",
        "\n",
        "Δεν υπάρχουν επικεφαλίδες,ούτε αρίθμηση γραμμών."
      ]
    },
    {
      "cell_type": "markdown",
      "metadata": {
        "id": "WIe2L1jk1Iji"
      },
      "source": [
        "<h3>4. Ποιες είναι οι ετικέτες των κλάσεων και σε ποια κολώνα βρίσκονται; </h3>\n",
        "Οι κλάσεις μας βρίσκονται στην πρώτη στήλη και πρόκειται για αριθμητικές τιμές (εύρος τιμών 0-9)\n"
      ]
    },
    {
      "cell_type": "markdown",
      "metadata": {
        "id": "reDO9yin1X5M"
      },
      "source": [
        "\n",
        "<h3>5. Χρειάστηκε να κάνετε μετατροπές στα αρχεία text και ποιες? </h3>\n",
        "\n",
        "Το Dataset μας δώθηκε σε ένα αρχείο και όλες οι μεταβλητές είναι αριθμητικές,συνεπώς δε πραγματοποιήσαμε κάποια αλλαγή. \n"
      ]
    },
    {
      "cell_type": "markdown",
      "metadata": {
        "id": "-DmeUXBg1lgl"
      },
      "source": [
        "\n",
        "<h3>6. Υπάρχουν απουσιάζουσες τιμές; Πόσα είναι τα δείγματα με απουσιάζουσες τιμές και ποιο το ποσοστό τους επί του συνόλου; </h3>\n",
        "\n",
        "Δεν υπάρχουν απουσιάζουσες τιμές.\n"
      ]
    },
    {
      "cell_type": "markdown",
      "metadata": {
        "id": "zU4dYx111tMu"
      },
      "source": [
        "\n",
        "<h3>7. Ποιος είναι ο αριθμός των κλάσεων και τα ποσοστά δειγμάτων τους επί του συνόλου; Αν θεωρήσουμε ότι ένα dataset είναι μη ισορροπημένο αν μια οποιαδήποτε κλάση είναι 1.5 φορά πιο συχνή από κάποια άλλη (60%-40% σε binary datasets) εκτιμήστε την ισορροπία του dataset.</h3>\n",
        "</br>"
      ]
    },
    {
      "cell_type": "code",
      "metadata": {
        "id": "YuehefT1A_ts",
        "colab": {
          "base_uri": "https://localhost:8080/"
        },
        "outputId": "3e29f169-7600-4a94-afc7-76bb6c2b36a0"
      },
      "source": [
        "# Τα χαρακτηριστικά αποτελούνται από όλες τις κολόνες των δεδομένων εκτός της 1ης \n",
        "# η οποία αποτελεί τις ετικέτες κάθε δείγματος. \n",
        "features_df = df.iloc[:, 1:857]\n",
        "# Μετατρέπουμε τα dataframes σε numpy array\n",
        "features = features_df.values\n",
        "# Ελέγχουμε αν τα χαρακτηριστικά έχουν τη μορφή που θέλουμε\n",
        "print (\"features shape:\\n\",features.shape,\"\\n\")\n",
        "print(\"features:\\n\",features)\n",
        "# Ελέγχουμε το ποσοστό μηδενικών features\n",
        "cnt = 0\n",
        "for x in features:\n",
        "  for y in x:\n",
        "    if (y==0):\n",
        "      cnt+=1\n",
        "print(\"\\nTo ποσοστό μηδενικών features(%) είναι:\\n\")\n",
        "print(100*cnt/(1080*856))"
      ],
      "execution_count": null,
      "outputs": [
        {
          "output_type": "stream",
          "text": [
            "features shape:\n",
            " (1080, 856) \n",
            "\n",
            "features:\n",
            " [[0 0 0 ... 0 0 0]\n",
            " [0 0 0 ... 0 0 0]\n",
            " [0 0 0 ... 0 0 0]\n",
            " ...\n",
            " [0 0 0 ... 0 0 0]\n",
            " [0 0 0 ... 0 0 0]\n",
            " [0 0 0 ... 0 0 0]]\n",
            "\n",
            "To ποσοστό μηδενικών features(%) είναι:\n",
            "\n",
            "99.21761422637591\n"
          ],
          "name": "stdout"
        }
      ]
    },
    {
      "cell_type": "code",
      "metadata": {
        "id": "d06GsxPR_ie3",
        "colab": {
          "base_uri": "https://localhost:8080/"
        },
        "outputId": "d420ccf5-9063-40fa-d490-3db196474553"
      },
      "source": [
        "#----------------------------------------------------------------#\n",
        "#            Ποσοστά εμφάνισης κάθε κλάσης                       #\n",
        "#----------------------------------------------------------------#\n",
        "# Oι ταμπέλες βρίσκονται στη 1η στήλη \n",
        "target_df = df.iloc[:, [0]]\n",
        "\n",
        "# μετατρέπουμε το dataframe σε μονοδιάστατο numpy array\n",
        "target = target_df.values\n",
        "\n",
        "# Δημιουργούμε και εκτυπωνουμε ενα 2-D array με την 1η στήλη την κλάση και 2η στήλη την συχνότητα εμφάνισης\n",
        "label, frequencies = np.unique(target, return_counts=True)\n",
        "print (\"frequencies:\\n\",np.asarray((label, frequencies)).T,\"\\n\")\n",
        "# Αριθμός όλων των δειγμάτων\n",
        "total_samples = target.shape[0]\n",
        "print(\"total samples=\",total_samples,\"\\n\")\n",
        "\n",
        "# Εκτυπώνουμε ένα 2D array με 1η στήλη το όνομα της κλάσης και 2η στήλη το ποσοστό εμφάνισης της κάθε κλάσης\n",
        "percentage = (frequencies / total_samples) * 100\n",
        "print (\"percentages\\n\",np.asarray((label, percentage)).T)"
      ],
      "execution_count": null,
      "outputs": [
        {
          "output_type": "stream",
          "text": [
            "frequencies:\n",
            " [[  1 120]\n",
            " [  2 120]\n",
            " [  3 120]\n",
            " [  4 120]\n",
            " [  5 120]\n",
            " [  6 120]\n",
            " [  7 120]\n",
            " [  8 120]\n",
            " [  9 120]] \n",
            "\n",
            "total samples= 1080 \n",
            "\n",
            "percentages\n",
            " [[ 1.         11.11111111]\n",
            " [ 2.         11.11111111]\n",
            " [ 3.         11.11111111]\n",
            " [ 4.         11.11111111]\n",
            " [ 5.         11.11111111]\n",
            " [ 6.         11.11111111]\n",
            " [ 7.         11.11111111]\n",
            " [ 8.         11.11111111]\n",
            " [ 9.         11.11111111]]\n"
          ],
          "name": "stdout"
        }
      ]
    },
    {
      "cell_type": "markdown",
      "metadata": {
        "id": "bffIl9VgAViR"
      },
      "source": [
        "Παρατηρούμε πως το dataset είναι ισορροπημένο"
      ]
    },
    {
      "cell_type": "markdown",
      "metadata": {
        "id": "T5-2LtjM12P9"
      },
      "source": [
        "\n",
        "<h3>8. Διαχωρίστε σε train και test set. Εάν υπάρχουν απουσιάζουσες τιμές και μη διατεταγμένα χαρακτηριστικά διαχειριστείτε τα και αιτιολογήστε τις επιλογές σας.</h3>\n",
        "\n"
      ]
    },
    {
      "cell_type": "markdown",
      "metadata": {
        "id": "CZKhNQaxiDkh"
      },
      "source": [
        "<h3>Χωρίζουμε σε train,test data</h3>"
      ]
    },
    {
      "cell_type": "code",
      "metadata": {
        "id": "bVvxthlxiDki"
      },
      "source": [
        "from sklearn.model_selection import train_test_split\n",
        "train, test, train_labels, test_labels = train_test_split(features, target, test_size=0.3)"
      ],
      "execution_count": null,
      "outputs": []
    },
    {
      "cell_type": "markdown",
      "metadata": {
        "id": "fzCEJWraiDkm"
      },
      "source": [
        "##Β. Βaseline Classification"
      ]
    },
    {
      "cell_type": "markdown",
      "metadata": {
        "id": "jaIx4RJNqgIj"
      },
      "source": [
        "Στο σημείο αυτό κάνουμε απλή εκπαίδευση στους γνωστούς μας classifiers, dummy, gaussian naive bayes, knn και mlp.\n",
        "\n",
        "Για κάθε classifier αποθηκεύουμε σε πίνακα τις τιμές f1_micro και f1_macro, ώστε να τα απεικονίσουμε σε bar plot, και τυπώνουμε confusion matrix, f1_micro, f1_macro αλλά και classification report για να πάρουμε τις τιμές precision και recall.\n",
        "\n",
        "Kαθώς το dataset μας είναι ισορροπημένο δεν κρίνεται απαραίτητο να υλοποιήοουμε ενα Dummy classifier για κάθε κλάση,αλλά θα υλοποιήσουμε έναν για την 1η κλάση.Τα αποτελέσματα θα είναι προφανώς τα ίδια και για όλες τις υπόλοιπες."
      ]
    },
    {
      "cell_type": "markdown",
      "metadata": {
        "id": "SAnF9HhKVfc2"
      },
      "source": [
        "Aκολουθεί μια συνάρτηση η οποία θα μας βοηθήσει να εκτυπώσουμε με όμορφο τρόπο τα αποτελέσματα από τα μοντέλα μας.Το κομμάτι κώδικα προέρχεται [από το stack overflow](https://stackoverflow.com/questions/28200786/how-to-plot-scikit-learn-classification-report)"
      ]
    },
    {
      "cell_type": "code",
      "metadata": {
        "id": "LMUmYjV1Sqkh"
      },
      "source": [
        "#---------------------------------------------------------------------------------------------------------#\n",
        "# Κώδικας για την όμορφη εκτύπωση classification reports.                                                 #\n",
        "# Reference: https://stackoverflow.com/questions/28200786/how-to-plot-scikit-learn-classification-report  #\n",
        "#---------------------------------------------------------------------------------------------------------#\n",
        "\n",
        "import seaborn as sns\n",
        "\n",
        "def plot_classification_report(y_tru, y_prd, figsize=(5, 5), ax=None):\n",
        "\n",
        "    plt.figure(figsize=figsize)\n",
        "    plt.title(\"Classification Report\")\n",
        "    xticks = ['precision', 'recall', 'f1-score', 'support']\n",
        "    yticks = list(np.unique(y_tru))\n",
        "    yticks += ['avg']\n",
        "\n",
        "    rep = np.array(precision_recall_fscore_support(y_tru, y_prd)).T\n",
        "    avg = np.mean(rep, axis=0)\n",
        "    avg[-1] = np.sum(rep[:, -1])\n",
        "    rep = np.insert(rep, rep.shape[0], avg, axis=0)\n",
        "\n",
        "    sns.heatmap(rep,\n",
        "                annot=True, \n",
        "                cbar=False, \n",
        "                xticklabels=xticks, \n",
        "                yticklabels=yticks,\n",
        "                ax=ax)"
      ],
      "execution_count": null,
      "outputs": []
    },
    {
      "cell_type": "markdown",
      "metadata": {
        "id": "56VBzZPXiDkn"
      },
      "source": [
        "### Dummy Classifiers"
      ]
    },
    {
      "cell_type": "code",
      "metadata": {
        "id": "d5WyKjk4ctWQ"
      },
      "source": [
        "from sklearn.metrics import plot_confusion_matrix\n",
        "from sklearn.metrics import classification_report\n",
        "from sklearn.metrics import precision_recall_fscore_support\n",
        "from sklearn.metrics import f1_score\n",
        "from sklearn.metrics import confusion_matrix\n",
        "from sklearn.metrics import accuracy_score"
      ],
      "execution_count": null,
      "outputs": []
    },
    {
      "cell_type": "code",
      "metadata": {
        "trusted": true,
        "id": "kvUnUPIyiDko",
        "colab": {
          "base_uri": "https://localhost:8080/",
          "height": 1000
        },
        "outputId": "36a91825-2eec-46a8-94fa-ed3fc1babd36"
      },
      "source": [
        "from sklearn.dummy   import DummyClassifier\n",
        "\n",
        "print(\"<------------------------------------------------------------------------------------->\")\n",
        "\n",
        "# Απενεργοποιούμε τις προειδοποιήσεις που δεχόμαστε όταν προσπαθούμε\n",
        "# να υπολογίσουμε f1-score για με τιμές που είναι μηδέν \n",
        "# (διαίρεση με 0).\n",
        "import warnings\n",
        "warnings.filterwarnings(\"ignore\")\n",
        "\n",
        "#πίνακες που θα χρησιμέυσουν για την εκτύπωση των γραφημάτων\n",
        "f1_micro = {}\n",
        "f1_macro = {}\n",
        "\n",
        "\n",
        "##############################################################\n",
        "# Για κάθε Dummy classifier αρχικά κάνουμε fit,στη συνέχεια #\n",
        "# υπολογίζουμε τα F1 micro,F1 macro scores,καθώς και τους    #\n",
        "# Confusion Matrixes.Στη συνέχεια εκτυπώνουμε στην οθόνη τα  #\n",
        "# αποτελέσματα.Την ίδια μεθολογία θα ακολουθήσουμε και στα   #\n",
        "# υπόλοιπα μοντέλα της άσκησης (knn,GNB,MLP)                 #\n",
        "##############################################################\n",
        "\n",
        "# Dummy Strategy: Uniform \n",
        "dc_uniform = DummyClassifier(strategy=\"uniform\")\n",
        "dc_uniform.fit(train,train_labels)\n",
        "\n",
        "preds = dc_uniform.predict(test)\n",
        "\n",
        "print('\\033[1m'+\" Strategy: uniform\"+'\\033[0m'+\"\\n\")\n",
        "plot_classification_report(test_labels,preds)\n",
        "\n",
        "f1_micro['Unif']=f1_score(test_labels,preds,average='micro')\n",
        "f1_macro['Unif']=f1_score(test_labels,preds,average='macro')\n",
        "\n",
        "print(\"F1 micro \")\n",
        "print(f1_micro['Unif'],\"\\n\")\n",
        "print(\"F1 macro \")\n",
        "print(f1_macro['Unif'],\"\\n\")\n",
        "\n",
        "fig, ax = plt.subplots(figsize=(5, 5))\n",
        "plot_confusion_matrix(dc_uniform, test, test_labels,ax=ax)  \n",
        "plt.title('Confusion matrix for the Uniform')\n",
        "plt.xlabel('Predicted')\n",
        "plt.ylabel('Actual')\n",
        "plt.show()  \n",
        "\n",
        "\n",
        "print(\"\\n\\n----------------------------------------------------------\\n\\n\")\n",
        "\n",
        "\n",
        "# Strategy: Constant=1\n",
        "dc_constant1 = DummyClassifier(strategy=\"constant\",constant=1)\n",
        "dc_constant1.fit(train,train_labels)\n",
        "\n",
        "pred_C1 = dc_constant1.predict(test)\n",
        "\n",
        "print('\\033[1m'+\"Strategy: constant=1\"+'\\033[0m')\n",
        "plot_classification_report(test_labels,pred_C1)\n",
        "\n",
        "f1_micro['C1']=f1_score(test_labels,pred_C1,average='micro')\n",
        "f1_macro['C1']=f1_score(test_labels,pred_C1,average='macro')\n",
        "\n",
        "print(\"F1 micro \")\n",
        "print(f1_micro['C1'],\"\\n\")\n",
        "print(\"F1 macro \")\n",
        "print(f1_macro['C1'],\"\\n\")\n",
        "\n",
        "fig, ax = plt.subplots(figsize=(5, 5))\n",
        "plot_confusion_matrix(dc_constant1, test, test_labels,ax=ax)  \n",
        "plt.title('Confusion matrix for the Constant')\n",
        "plt.xlabel('Predicted')\n",
        "plt.ylabel('Actual')\n",
        "plt.show()  \n",
        "\n",
        "print(\"\\n\\n----------------------------------------------------------\\n\\n\")\n",
        "\n",
        "\n",
        "# Strategy: Most Frequent\n",
        "dc_most_frequent = DummyClassifier(strategy=\"most_frequent\")\n",
        "dc_most_frequent.fit(train,train_labels)\n",
        "\n",
        "pred_MF = dc_most_frequent.predict(test)\n",
        "\n",
        "print('\\033[1m'+\"Strategy: Most Frequent\"+'\\033[0m'+\"\\n\")\n",
        "plot_classification_report(test_labels,pred_MF)\n",
        "\n",
        "f1_micro['MFreq']=f1_score(test_labels,pred_MF,average='micro')\n",
        "f1_macro['MFreq']=f1_score(test_labels,pred_MF,average='macro')\n",
        "\n",
        "print(\"F1 micro \")\n",
        "print(f1_micro['MFreq'],\"\\n\")\n",
        "print(\"F1 macro \")\n",
        "print(f1_macro['MFreq'],\"\\n\")\n",
        "\n",
        "fig, ax = plt.subplots(figsize=(5,5))\n",
        "plot_confusion_matrix(dc_most_frequent, test, test_labels, ax=ax)\n",
        "plt.title('Confusion matrix for the Most Frequent')\n",
        "plt.xlabel('Predicted')\n",
        "plt.ylabel('Actual')\n",
        "plt.show()  \n",
        "\n",
        "\n",
        "print(\"\\n\\n----------------------------------------------------------\\n\\n\")\n",
        "\n",
        "\n",
        "# Strategy: Strafified\n",
        "dc_stratified = DummyClassifier(strategy=\"stratified\")\n",
        "dc_stratified.fit(train,train_labels)\n",
        "\n",
        "pred_Strat = dc_stratified.predict(test)\n",
        "\n",
        "print('\\033[1m'+\"Strategy: stratified\"+'\\033[0m'+\"\\n\")\n",
        "plot_classification_report(test_labels,pred_Strat)\n",
        "\n",
        "\n",
        "f1_micro['Strat']=f1_score(test_labels,pred_Strat,average='micro')\n",
        "f1_macro['Strat']=f1_score(test_labels,pred_Strat,average='macro')\n",
        "\n",
        "print(\"F1 micro \")\n",
        "print(f1_micro['Strat'],\"\\n\")\n",
        "print(\"F1 macro \")\n",
        "print(f1_macro['Strat'],\"\\n\")\n",
        "\n",
        "fig, ax = plt.subplots(figsize=(5, 5))\n",
        "plot_confusion_matrix(dc_stratified, test, test_labels,ax=ax)\n",
        "plt.title('Confusion matrix for the Strafified')\n",
        "plt.xlabel('Predicted')\n",
        "plt.ylabel('Actual')\n",
        "plt.show()  \n",
        "\n",
        "print(\"<------------------------------------------------------------------------------------->\")"
      ],
      "execution_count": null,
      "outputs": [
        {
          "output_type": "stream",
          "text": [
            "<------------------------------------------------------------------------------------->\n",
            "\u001b[1m Strategy: uniform\u001b[0m\n",
            "\n",
            "F1 micro \n",
            "0.14506172839506173 \n",
            "\n",
            "F1 macro \n",
            "0.14394559468893267 \n",
            "\n"
          ],
          "name": "stdout"
        },
        {
          "output_type": "display_data",
          "data": {
            "image/png": "[encoded data removed]",
            "text/plain": [
              "<Figure size 360x360 with 1 Axes>"
            ]
          },
          "metadata": {
            "tags": [],
            "needs_background": "light"
          }
        },
        {
          "output_type": "display_data",
          "data": {
            "image/png": "[encoded data removed]",
            "text/plain": [
              "<Figure size 360x360 with 2 Axes>"
            ]
          },
          "metadata": {
            "tags": [],
            "needs_background": "light"
          }
        },
        {
          "output_type": "stream",
          "text": [
            "\n",
            "\n",
            "----------------------------------------------------------\n",
            "\n",
            "\n",
            "\u001b[1mStrategy: constant=1\u001b[0m\n",
            "F1 micro \n",
            "0.11728395061728394 \n",
            "\n",
            "F1 macro \n",
            "0.023327194597912826 \n",
            "\n"
          ],
          "name": "stdout"
        },
        {
          "output_type": "display_data",
          "data": {
            "image/png": "[encoded data removed]",
            "text/plain": [
              "<Figure size 360x360 with 1 Axes>"
            ]
          },
          "metadata": {
            "tags": [],
            "needs_background": "light"
          }
        },
        {
          "output_type": "display_data",
          "data": {
            "image/png": "[encoded data removed]",
            "text/plain": [
              "<Figure size 360x360 with 2 Axes>"
            ]
          },
          "metadata": {
            "tags": [],
            "needs_background": "light"
          }
        },
        {
          "output_type": "stream",
          "text": [
            "\n",
            "\n",
            "----------------------------------------------------------\n",
            "\n",
            "\n",
            "\u001b[1mStrategy: Most Frequent\u001b[0m\n",
            "\n",
            "F1 micro \n",
            "0.09567901234567901 \n",
            "\n",
            "F1 macro \n",
            "0.019405320813771516 \n",
            "\n"
          ],
          "name": "stdout"
        },
        {
          "output_type": "display_data",
          "data": {
            "image/png": "[encoded data removed]",
            "text/plain": [
              "<Figure size 360x360 with 1 Axes>"
            ]
          },
          "metadata": {
            "tags": [],
            "needs_background": "light"
          }
        },
        {
          "output_type": "display_data",
          "data": {
            "image/png": "[encoded data removed]",
            "text/plain": [
              "<Figure size 360x360 with 2 Axes>"
            ]
          },
          "metadata": {
            "tags": [],
            "needs_background": "light"
          }
        },
        {
          "output_type": "stream",
          "text": [
            "\n",
            "\n",
            "----------------------------------------------------------\n",
            "\n",
            "\n",
            "\u001b[1mStrategy: stratified\u001b[0m\n",
            "\n",
            "F1 micro \n",
            "0.12345679012345678 \n",
            "\n",
            "F1 macro \n",
            "0.12159899023068364 \n",
            "\n"
          ],
          "name": "stdout"
        },
        {
          "output_type": "display_data",
          "data": {
            "image/png": "[encoded data removed]",
            "text/plain": [
              "<Figure size 360x360 with 1 Axes>"
            ]
          },
          "metadata": {
            "tags": [],
            "needs_background": "light"
          }
        },
        {
          "output_type": "display_data",
          "data": {
            "image/png": "[encoded data removed]",
            "text/plain": [
              "<Figure size 360x360 with 2 Axes>"
            ]
          },
          "metadata": {
            "tags": [],
            "needs_background": "light"
          }
        },
        {
          "output_type": "stream",
          "text": [
            "<------------------------------------------------------------------------------------->\n"
          ],
          "name": "stdout"
        }
      ]
    },
    {
      "cell_type": "markdown",
      "metadata": {
        "id": "oVuag-5BiDkt"
      },
      "source": [
        "### k-Nearest Neighbors Classifier (kNN)"
      ]
    },
    {
      "cell_type": "code",
      "metadata": {
        "trusted": true,
        "id": "EsZm8JACiDku",
        "colab": {
          "base_uri": "https://localhost:8080/",
          "height": 754
        },
        "outputId": "3577866c-2eca-4f3c-9fd3-1a2f45676c4c"
      },
      "source": [
        "print(\"--------------------------------------------------------------------------\")\n",
        "from sklearn import neighbors\n",
        "\n",
        "clf = neighbors.KNeighborsClassifier() \n",
        "clf.fit(train, train_labels)\n",
        "\n",
        "knn_pred = clf.predict(test)\n",
        "\n",
        "\n",
        "print('\\033[1m'+\"k Nearest Neighbors Model\"+'\\033[0m'+\"\\n\\n\")\n",
        "print(classification_report(test_labels,knn_pred))\n",
        "\n",
        "# Uncomment to print C.R. in a fancy way\n",
        "# plot_classification_report(test_labels,knn_pred)\n",
        "\n",
        "f1_micro['kΝΝ']=f1_score(test_labels,knn_pred,average='micro')\n",
        "f1_macro['kΝΝ']=f1_score(test_labels,knn_pred,average='macro')\n",
        "\n",
        "\n",
        "print(\"F1 micro\")\n",
        "print(f1_micro['kΝΝ'],\"\\n\")\n",
        "print(\"F1 macro\")\n",
        "print(f1_macro['kΝΝ'],\"\\n\")\n",
        "\n",
        "plot_confusion_matrix(clf, test, test_labels)  \n",
        "plt.title('Confusion matrix for the kNN')\n",
        "plt.xlabel('Predicted')\n",
        "plt.ylabel('Actual')\n",
        "plt.show()  \n",
        "print(\"--------------------------------------------------------------------------\")                           "
      ],
      "execution_count": null,
      "outputs": [
        {
          "output_type": "stream",
          "text": [
            "--------------------------------------------------------------------------\n",
            "\u001b[1mk Nearest Neighbors Model\u001b[0m\n",
            "\n",
            "\n",
            "              precision    recall  f1-score   support\n",
            "\n",
            "           1       0.87      1.00      0.93        34\n",
            "           2       0.86      0.97      0.91        32\n",
            "           3       0.91      0.89      0.90        45\n",
            "           4       0.83      0.74      0.78        34\n",
            "           5       0.97      0.92      0.94        37\n",
            "           6       0.95      0.57      0.71        37\n",
            "           7       0.69      0.93      0.79        27\n",
            "           8       0.83      0.97      0.89        35\n",
            "           9       0.73      0.70      0.71        43\n",
            "\n",
            "    accuracy                           0.85       324\n",
            "   macro avg       0.85      0.85      0.84       324\n",
            "weighted avg       0.85      0.85      0.84       324\n",
            "\n",
            "F1 micro\n",
            "0.845679012345679 \n",
            "\n",
            "F1 macro\n",
            "0.8424866845508534 \n",
            "\n"
          ],
          "name": "stdout"
        },
        {
          "output_type": "display_data",
          "data": {
            "image/png": "[encoded data removed]",
            "text/plain": [
              "<Figure size 432x288 with 2 Axes>"
            ]
          },
          "metadata": {
            "tags": [],
            "needs_background": "light"
          }
        },
        {
          "output_type": "stream",
          "text": [
            "--------------------------------------------------------------------------\n"
          ],
          "name": "stdout"
        }
      ]
    },
    {
      "cell_type": "markdown",
      "metadata": {
        "id": "MPu5lmg9iDk3"
      },
      "source": [
        "### Gaussian Naive Bayes\n"
      ]
    },
    {
      "cell_type": "code",
      "metadata": {
        "trusted": true,
        "id": "jo4MVpvUiDk4",
        "colab": {
          "base_uri": "https://localhost:8080/",
          "height": 788
        },
        "outputId": "6c85b65a-ca72-4d53-a932-3fc0108522bc"
      },
      "source": [
        "print(\"--------------------------------------------------------------------------\")\n",
        "\n",
        "from sklearn.naive_bayes import GaussianNB\n",
        "\n",
        "\n",
        "gnb = GaussianNB()\n",
        "gnb.fit(train,train_labels)\n",
        "\n",
        "gnb_pred = gnb.predict(test)\n",
        "\n",
        "print('\\033[1m'+\"Gaussian Naive Bayes\"+'\\033[0m'+\"\\n\\n\")\n",
        "print(classification_report(test_labels,gnb_pred),\"\\n\\n\")\n",
        "# Uncomment to print CR in a fancy way\n",
        "# plot_classification_report(test_labels,gnb_pred)\n",
        "\n",
        "f1_micro['GNB']=f1_score(test_labels,gnb_pred,average='micro')\n",
        "f1_macro['GNB']=f1_score(test_labels,gnb_pred,average='macro')\n",
        "\n",
        "print(\"F1 micro\")\n",
        "print(f1_micro['GNB'],\"\\n\")\n",
        "print(\"F1 macro\")\n",
        "print(f1_macro['GNB'],\"\\n\")\n",
        "\n",
        "plot_confusion_matrix(gnb, test, test_labels)  \n",
        "plt.title('Confusion matrix for the GNB')\n",
        "plt.xlabel('Predicted')\n",
        "plt.ylabel('Actual')\n",
        "plt.show()  \n",
        "print(\"----------------------------------------------------------------------------------\")"
      ],
      "execution_count": null,
      "outputs": [
        {
          "output_type": "stream",
          "text": [
            "--------------------------------------------------------------------------\n",
            "\u001b[1mGaussian Naive Bayes\u001b[0m\n",
            "\n",
            "\n",
            "              precision    recall  f1-score   support\n",
            "\n",
            "           1       0.97      1.00      0.99        34\n",
            "           2       0.97      1.00      0.98        32\n",
            "           3       0.81      0.96      0.88        45\n",
            "           4       0.74      0.76      0.75        34\n",
            "           5       1.00      0.95      0.97        37\n",
            "           6       1.00      0.84      0.91        37\n",
            "           7       0.96      1.00      0.98        27\n",
            "           8       0.95      1.00      0.97        35\n",
            "           9       0.95      0.81      0.88        43\n",
            "\n",
            "    accuracy                           0.92       324\n",
            "   macro avg       0.93      0.92      0.92       324\n",
            "weighted avg       0.92      0.92      0.92       324\n",
            " \n",
            "\n",
            "\n",
            "F1 micro\n",
            "0.9197530864197531 \n",
            "\n",
            "F1 macro\n",
            "0.9238137968834594 \n",
            "\n"
          ],
          "name": "stdout"
        },
        {
          "output_type": "display_data",
          "data": {
            "image/png": "[encoded data removed]",
            "text/plain": [
              "<Figure size 432x288 with 2 Axes>"
            ]
          },
          "metadata": {
            "tags": [],
            "needs_background": "light"
          }
        },
        {
          "output_type": "stream",
          "text": [
            "----------------------------------------------------------------------------------\n"
          ],
          "name": "stdout"
        }
      ]
    },
    {
      "cell_type": "markdown",
      "metadata": {
        "id": "CQLLJmMwiAox"
      },
      "source": [
        "### Support Vector Machines (SVM)"
      ]
    },
    {
      "cell_type": "code",
      "metadata": {
        "id": "20SWTAsYiItJ",
        "colab": {
          "base_uri": "https://localhost:8080/",
          "height": 973
        },
        "outputId": "ac2ca89b-7e7b-4bc8-8d6d-22638c70c7e6"
      },
      "source": [
        "from sklearn.svm import SVC\n",
        "\n",
        "print(\"--------------------------------------------------------------------------\")\n",
        "\n",
        "svc = SVC()\n",
        "\n",
        "svc.fit(train,train_labels)\n",
        "svc_pred = svc.predict(test)\n",
        "\n",
        "print('\\033[1m'+\"SVM\"+'\\033[0m'+\"\\n\\n\")\n",
        "print(classification_report(test_labels,svc_pred),\"\\n\\n\")\n",
        "\n",
        "f1_micro['SVC']=f1_score(test_labels,svc_pred,average='micro')\n",
        "f1_macro['SVC']=f1_score(test_labels,svc_pred,average='macro')\n",
        "\n",
        "print(\"F1 micro\")\n",
        "print(f1_micro['SVC'],\"\\n\")\n",
        "print(\"F1 macro \")\n",
        "print(f1_macro['SVC'],\"\\n\")\n",
        "\n",
        "plot_confusion_matrix(svc, test, test_labels)  \n",
        "plt.title('Confusion matrix for the SVC')\n",
        "plt.xlabel('Predicted')\n",
        "plt.ylabel('Actual')\n",
        "plt.show()  \n",
        "print(\"--------------------------------------------------------------------------\")"
      ],
      "execution_count": null,
      "outputs": [
        {
          "output_type": "stream",
          "text": [
            "--------------------------------------------------------------------------\n",
            "\u001b[1mSVM\u001b[0m\n",
            "\n",
            "\n",
            "              precision    recall  f1-score   support\n",
            "\n",
            "           1       1.00      1.00      1.00        32\n",
            "           2       0.87      0.97      0.92        34\n",
            "           3       0.97      0.86      0.91        43\n",
            "           4       0.94      0.77      0.85        44\n",
            "           5       0.97      1.00      0.99        36\n",
            "           6       0.84      0.87      0.86        31\n",
            "           7       1.00      0.86      0.93        36\n",
            "           8       1.00      0.97      0.98        32\n",
            "           9       0.67      0.92      0.78        36\n",
            "\n",
            "    accuracy                           0.91       324\n",
            "   macro avg       0.92      0.91      0.91       324\n",
            "weighted avg       0.92      0.91      0.91       324\n",
            " \n",
            "\n",
            "\n",
            "F1 micro\n",
            "0.9074074074074074 \n",
            "\n",
            "F1 macro \n",
            "0.9121846496974173 \n",
            "\n"
          ],
          "name": "stdout"
        },
        {
          "output_type": "display_data",
          "data": {
            "image/png": "[encoded data removed]",
            "text/plain": [
              "<Figure size 720x504 with 2 Axes>"
            ]
          },
          "metadata": {
            "tags": [],
            "needs_background": "light"
          }
        },
        {
          "output_type": "stream",
          "text": [
            "--------------------------------------------------------------------------\n"
          ],
          "name": "stdout"
        }
      ]
    },
    {
      "cell_type": "markdown",
      "metadata": {
        "id": "6coE5OpkiDk9"
      },
      "source": [
        "### Multilayer Perceptron (MLP)"
      ]
    },
    {
      "cell_type": "code",
      "metadata": {
        "trusted": true,
        "id": "EKNLFHz5iDk-",
        "colab": {
          "base_uri": "https://localhost:8080/",
          "height": 788
        },
        "outputId": "34407726-6dfb-448a-ebe2-de4d0cda75c0"
      },
      "source": [
        "print(\"--------------------------------------------------------------------------\")\n",
        "\n",
        "# ######################################################################### #\n",
        "# Θα χρησιμοποιήσουμε τον MLP ταξινομητή χωρίς να ορίσουμε τιμές,πράγμα που # \n",
        "# σημαίνει πως θα χρησιμοποηθούν οι default ρυθμίσεις υπερπαραμέτρων        #\n",
        "# ######################################################################### #\n",
        "\n",
        "from sklearn.neural_network import MLPClassifier\n",
        "\n",
        "clf = MLPClassifier()\n",
        "\n",
        "clf.fit(train,train_labels)\n",
        "mlp_pred = clf.predict(test)\n",
        "\n",
        "print('\\033[1m'+\"Multilayer Perceptron\"+'\\033[0m'+\"\\n\\n\")\n",
        "print(classification_report(test_labels,mlp_pred),\"\\n\\n\")\n",
        "\n",
        "f1_micro['MLP']=f1_score(test_labels,mlp_pred,average='micro')\n",
        "f1_macro['MLP']=f1_score(test_labels,mlp_pred,average='macro')\n",
        "\n",
        "print(\"F1 micro\")\n",
        "print(f1_micro['MLP'],\"\\n\")\n",
        "print(\"F1 macro \")\n",
        "print(f1_macro['MLP'],\"\\n\")\n",
        "\n",
        "plot_confusion_matrix(clf, test, test_labels)  \n",
        "plt.title('Confusion matrix for the MLP')\n",
        "plt.xlabel('Predicted')\n",
        "plt.ylabel('Actual')\n",
        "plt.show()  \n",
        "print(\"--------------------------------------------------------------------------\")\n",
        "\n"
      ],
      "execution_count": null,
      "outputs": [
        {
          "output_type": "stream",
          "text": [
            "--------------------------------------------------------------------------\n",
            "\u001b[1mMultilayer Perceptron\u001b[0m\n",
            "\n",
            "\n",
            "              precision    recall  f1-score   support\n",
            "\n",
            "           1       1.00      1.00      1.00        34\n",
            "           2       0.97      1.00      0.98        32\n",
            "           3       0.96      0.98      0.97        45\n",
            "           4       0.79      0.91      0.85        34\n",
            "           5       1.00      1.00      1.00        37\n",
            "           6       0.97      0.86      0.91        37\n",
            "           7       0.93      0.96      0.95        27\n",
            "           8       0.97      1.00      0.99        35\n",
            "           9       0.95      0.84      0.89        43\n",
            "\n",
            "    accuracy                           0.95       324\n",
            "   macro avg       0.95      0.95      0.95       324\n",
            "weighted avg       0.95      0.95      0.95       324\n",
            " \n",
            "\n",
            "\n",
            "F1 micro\n",
            "0.9475308641975309 \n",
            "\n",
            "F1 macro \n",
            "0.9483897846364885 \n",
            "\n"
          ],
          "name": "stdout"
        },
        {
          "output_type": "display_data",
          "data": {
            "image/png": "[encoded data removed]",
            "text/plain": [
              "<Figure size 432x288 with 2 Axes>"
            ]
          },
          "metadata": {
            "tags": [],
            "needs_background": "light"
          }
        },
        {
          "output_type": "stream",
          "text": [
            "--------------------------------------------------------------------------\n"
          ],
          "name": "stdout"
        }
      ]
    },
    {
      "cell_type": "markdown",
      "metadata": {
        "id": "OuSUsI3EiDlC"
      },
      "source": [
        "### Γραφικές παραστάσεις"
      ]
    },
    {
      "cell_type": "code",
      "metadata": {
        "trusted": true,
        "id": "L4d8eYGViDlD",
        "colab": {
          "base_uri": "https://localhost:8080/",
          "height": 871
        },
        "outputId": "0a1ecc7c-7d4b-4dfb-bae3-ff24547e1065"
      },
      "source": [
        "plt.rcParams[\"figure.figsize\"] = (10,7)\n",
        "\n",
        "\n",
        "plt.title('F1_micro scores')\n",
        "plt.bar(range(len(f1_micro)), list(f1_micro.values()), align='center')\n",
        "plt.xticks(range(len(f1_micro)), list(f1_micro.keys()))\n",
        "plt.grid(True)\n",
        "\n",
        "plt.show()\n",
        "\n",
        "plt.title('F1_macro scores')\n",
        "plt.bar(range(len(f1_macro)), list(f1_macro.values()), align='center')\n",
        "plt.xticks(range(len(f1_macro)), list(f1_macro.keys()))\n",
        "plt.grid(True)\n",
        "\n",
        "plt.show()\n"
      ],
      "execution_count": null,
      "outputs": [
        {
          "output_type": "display_data",
          "data": {
            "image/png": "[encoded data removed]",
            "text/plain": [
              "<Figure size 720x504 with 1 Axes>"
            ]
          },
          "metadata": {
            "tags": [],
            "needs_background": "light"
          }
        },
        {
          "output_type": "display_data",
          "data": {
            "image/png": "[encoded data removed]",
            "text/plain": [
              "<Figure size 720x504 with 1 Axes>"
            ]
          },
          "metadata": {
            "tags": [],
            "needs_background": "light"
          }
        }
      ]
    },
    {
      "cell_type": "markdown",
      "metadata": {
        "id": "LdcrXNCriDlI"
      },
      "source": [
        "### Σχολιασμός Αποτελεσμάτων\n",
        "Παρατηρούμε πως οι Dummy classifiers  με constant τιμές έχουν πάρα πολύ χαμηλή αποτελεσματικότητα,πράγμα που περιμέναμε μιας και κάνουμε multiclass classification.Στην καλύτερη περίπτωση φτάνουν σε αποτελεσματικότητα ίση με αυτή της συχνότερα εμφανιζόμενης κλάσης.Eντύπωση κάνει πως σε αυτό το split η κλάση C1 εμφανίζεται συχνότερα από τις υπόλοιπες και έτσι ο most frequent ταξινομητής δίνει χειρότερα αποτελέσματα από τον constant=1 ταξινομητή.\n",
        "<br/>\n",
        "\n",
        "Ο ταξινομητής με την υψηλότερα ακρίβεια είναι ο MLP ταξινομητής,ύστερα ο SVC και ο GNB.Τέλος ακολουθεί ο kNN.<br/>\n",
        "\n",
        "Σε αυτήν την άσκηση δε δίνουμε σημασία στο precision και στο recall,καθώς θεωρούμε πως όλες οι κλάσεις είναι το ίδιο σημαντικές.</br>\n",
        "\n",
        "Οι constant classifiers είχαν καλύτερη απόδοση στο f1-micro score,συγκριτικά με το f1-macro.Αυτό συμβαίνει διότι το macro score συνυπολογίζei κάθε κλάση ισάξια,ενώ στο micro score κάθε κλάση συνεισφέρει στο αποτέλεσμα σύμφωνα με το ποσοστό εμφάνισής της κάθε κλάσης.\n",
        "\n",
        "Λαμβάνοντας υπ'όψην πως δεν έχουμε προσπαθήσει ακόμα να βελτιστοποιήσουμε τα δεδομένα μας,λαμβάνουμε ικανοποιητικά πρώτα αποτελέσματα.Οι MLP,SVC και GNB ταξινομητές πετυχαίνουν πάνω από 90% ακρίβεια,ενώ ο kNN πάνω από 80%.Ο GNB συμπεριφέρεται αρκετά καλά,διότι δεν επηρεάζεται από το μεγάλο πλήθος των κλάσεων συγκριτικά με τα δεδομένα μας και οι κλάσεις είναι ανεξάρτητες μεταξύ τους.\n",
        "\n",
        "Προσπαθώντας να επιτύχουμε καλύτερα αποτελέσματα προχωρούμε σε προεπεξεργασία των δεδομένων αλλά και βελτιστοποίηση των παραμέτρων των ταξινομητών.\n",
        "\n"
      ]
    },
    {
      "cell_type": "markdown",
      "metadata": {
        "id": "cpp4pyiFiDlJ"
      },
      "source": [
        "## Γ. Βελτιστοποίηση ταξινομητών"
      ]
    },
    {
      "cell_type": "markdown",
      "metadata": {
        "id": "B8CJPsN5iDlK"
      },
      "source": [
        "### Προεπεξεργασία δεδομένων\n",
        "\n",
        "Απουσιάζουσες τιμές χαρακτηριστικών $\\to$ Δεν έχουμε πλέον απουσιάζουσες τιμές χαρακτηριστικών, άρα δεν υπάρχει κάποια βελτιστοποίηση να πραγματοποιηθεί στο συγκεκριμένο κομμάτι. <br/>\n",
        "\n",
        "Αριθμητικά και κατηγορικά χαρακτηριστικά $\\to$ Όλα μας τα χαρακτηριστικά είναι αριθμητικά, κι έτσι δεν υπάρχει κάποια τροποποίηση που πρέπει να γίνει στα δεδομένα μας.\n",
        "\n",
        "Εξισορρόπηση του dataset $\\to$ το dataset είναι ισορροπημένο.\n",
        "\n",
        "Eπιλογή χαρακτηριστικών $\\to$  μπορούμε να μειώσουμε τα χαρακτηριστικά εισόδου απορρίπτοντας χαρακτηριστικά με πολύ μικρή διακύμανση.Για να το πετύχουμε αυτό ορίζουμε ένα κατώφλι,όπου γίνονται αποδεκτά χαρακτηριστικά όπου έχουν μεγαλύτερη διακύμανση από αυτό.\n",
        "\n",
        "Η κατάρα της διαστατικότητας (Curse of dimensionality) $\\to$ Mπορούμε να κάνουμε εξαγωγή νέων χαρακτηριστικών σε ένα χώρο μικρότερων διαστάσεων. Η βασικότερη τεχνική feature extraction είναι η ανάλυση σε κύριες συνιστώσες (PCA) όπου αναλύουμε τα δεδομένα σε κύριες συνιστώσες και δουλέυουμε με τελείως νέες, γραμμικά ασυσχέτιστες μεταβλητές μικρότερης διαστατικότητας.\n",
        "\n",
        "Κανονικοποιηση $\\to$ Θα εφαρμόσουμε κανονικοποίηση στα δεδομένα μας με τη μέθοδο min-max scaler,προκειμένου να διατηρήσουμε τα μηδενικά.\n",
        "\n",
        "Ξεκινάμε με τη μείωση των διαστάσεων εισόδου."
      ]
    },
    {
      "cell_type": "markdown",
      "metadata": {
        "id": "uSgLI2bSiDlL"
      },
      "source": [
        "#### Επιλογή Χαρακτηριστικών -Selector\n"
      ]
    },
    {
      "cell_type": "code",
      "metadata": {
        "trusted": true,
        "id": "ayQp2SRBiDlM",
        "colab": {
          "base_uri": "https://localhost:8080/"
        },
        "outputId": "07a985b9-d5ee-418f-90a0-61e3cc2f4dd6"
      },
      "source": [
        "from sklearn.feature_selection import VarianceThreshold\n",
        "\n",
        "train_variance = train.var(axis=0)\n",
        "print(\"Train variance: (sorted)\\n\",sorted(train_variance),\"\\n\")\n",
        "print(\"Max variance of a label:\\n\",np.max(train_variance),\"\\n\")\n",
        "print(\"Mean:\\n\",train_variance.mean(),\"\\n\")"
      ],
      "execution_count": null,
      "outputs": [
        {
          "output_type": "stream",
          "text": [
            "Train variance: (sorted)\n",
            " [0.0, 0.0, 0.0, 0.0, 0.0, 0.0, 0.0, 0.0, 0.0, 0.0, 0.0, 0.0, 0.0, 0.0, 0.0, 0.0, 0.0, 0.0, 0.0, 0.0, 0.0, 0.0, 0.0, 0.0, 0.0, 0.0, 0.0, 0.0, 0.0, 0.0, 0.0, 0.0, 0.0, 0.0, 0.0, 0.0, 0.0, 0.0, 0.0, 0.0, 0.0, 0.0, 0.0, 0.0, 0.0, 0.0, 0.0, 0.0, 0.0, 0.0, 0.0, 0.0, 0.0, 0.0, 0.0, 0.0, 0.0, 0.0, 0.0, 0.0, 0.0, 0.0, 0.0, 0.0, 0.0, 0.0, 0.0, 0.0, 0.0, 0.0, 0.0, 0.0, 0.0, 0.0, 0.0, 0.0, 0.0, 0.0, 0.0, 0.0, 0.0, 0.0, 0.0, 0.0, 0.0, 0.0, 0.0, 0.0, 0.0, 0.0, 0.0, 0.0, 0.0, 0.0, 0.0, 0.0, 0.0, 0.0, 0.0, 0.0, 0.0, 0.0, 0.0, 0.0, 0.0, 0.0, 0.0, 0.0, 0.0, 0.0, 0.0, 0.0, 0.0, 0.0, 0.0, 0.0, 0.0, 0.0, 0.0, 0.0, 0.0, 0.0, 0.0, 0.0, 0.0, 0.0, 0.0013210016516894546, 0.0013210016516894546, 0.0013210016516894548, 0.001321001651689455, 0.001321001651689455, 0.001321001651689455, 0.0013210016516894553, 0.0013210016516894555, 0.0013210016516894555, 0.0013210016516894555, 0.0013210016516894555, 0.0013210016516894555, 0.0013210016516894555, 0.0013210016516894555, 0.0013210016516894555, 0.0013210016516894557, 0.0013210016516894557, 0.0013210016516894557, 0.0013210016516894557, 0.0013210016516894557, 0.001321001651689456, 0.001321001651689456, 0.0013210016516894561, 0.0013210016516894561, 0.0013210016516894563, 0.0013210016516894563, 0.0013210016516894563, 0.0013210016516894563, 0.0013210016516894563, 0.0013210016516894563, 0.0013210016516894566, 0.0013210016516894568, 0.0013210016516894568, 0.0013210016516894568, 0.0013210016516894568, 0.0013210016516894568, 0.0013210016516894568, 0.0013210016516894568, 0.0013210016516894574, 0.0013210016516894574, 0.0013210016516894574, 0.0013210016516894576, 0.0013210016516894576, 0.0013210016516894579, 0.0013210016516894579, 0.0013210016516894583, 0.0013210016516894585, 0.0013210016516894585, 0.0013210016516894585, 0.0013210016516894592, 0.0013210016516894594, 0.0013210016516894594, 0.0013210016516894596, 0.0013210016516894596, 0.0013210016516894596, 0.0013210016516894596, 0.0013210016516894596, 0.0013210016516894596, 0.0013210016516894598, 0.0013210016516894602, 0.0013210016516894605, 0.0013210016516894605, 0.0013210016516894605, 0.0013210016516894607, 0.001321001651689461, 0.001321001651689461, 0.0013210016516894611, 0.0013210016516894611, 0.0013210016516894611, 0.0013210016516894611, 0.0013210016516894611, 0.0013210016516894615, 0.0013210016516894618, 0.0013210016516894618, 0.0013210016516894618, 0.001321001651689462, 0.001321001651689462, 0.001321001651689462, 0.0013210016516894622, 0.0013210016516894622, 0.0013210016516894622, 0.0013210016516894622, 0.0013210016516894622, 0.0013210016516894622, 0.0013210016516894622, 0.0013210016516894624, 0.0013210016516894624, 0.0013210016516894624, 0.0013210016516894624, 0.0013210016516894624, 0.0013210016516894624, 0.0013210016516894624, 0.0013210016516894624, 0.0013210016516894624, 0.0013210016516894624, 0.0013210016516894628, 0.0013210016516894628, 0.0013210016516894628, 0.0013210016516894628, 0.0013210016516894628, 0.0013210016516894628, 0.001321001651689463, 0.001321001651689463, 0.0013210016516894633, 0.0013210016516894633, 0.0013210016516894633, 0.0013210016516894633, 0.0013210016516894633, 0.0013210016516894633, 0.0013210016516894637, 0.0013210016516894637, 0.0013210016516894637, 0.0013210016516894637, 0.0013210016516894637, 0.0013210016516894637, 0.0013210016516894641, 0.0013210016516894641, 0.0013210016516894641, 0.0013210016516894646, 0.0013210016516894646, 0.0013210016516894646, 0.0013210016516894646, 0.0013210016516894646, 0.0013210016516894648, 0.0013210016516894648, 0.0013210016516894648, 0.0013210016516894648, 0.0013210016516894648, 0.0013210016516894648, 0.0013210016516894648, 0.0013210016516894648, 0.0013210016516894652, 0.0013210016516894652, 0.0013210016516894654, 0.0013210016516894654, 0.0013210016516894657, 0.0013210016516894657, 0.0013210016516894657, 0.0013210016516894659, 0.0013210016516894663, 0.0013210016516894665, 0.0013210016516894667, 0.0013210016516894667, 0.0013210016516894672, 0.0013210016516894672, 0.0013210016516894672, 0.0013210016516894672, 0.0013210016516894672, 0.0013210016516894674, 0.0013210016516894674, 0.0013210016516894674, 0.0013210016516894674, 0.0013210016516894678, 0.0013210016516894678, 0.001321001651689468, 0.0013210016516894683, 0.0013210016516894683, 0.0013210016516894683, 0.0013210016516894685, 0.0013210016516894685, 0.001321001651689469, 0.001321001651689469, 0.001321001651689469, 0.0013210016516894691, 0.0013210016516894696, 0.0013210016516894696, 0.0013210016516894696, 0.0013210016516894698, 0.0013210016516894698, 0.0013210016516894698, 0.0013210016516894698, 0.00132100165168947, 0.00132100165168947, 0.00132100165168947, 0.00132100165168947, 0.00132100165168947, 0.0013210016516894704, 0.0013210016516894704, 0.0013210016516894704, 0.0013210016516894704, 0.0013210016516894704, 0.0013210016516894704, 0.0013210016516894704, 0.0013210016516894704, 0.0013210016516894706, 0.0013210016516894709, 0.0013210016516894709, 0.0013210016516894709, 0.0013210016516894709, 0.001321001651689471, 0.001321001651689471, 0.001321001651689471, 0.001321001651689471, 0.001321001651689471, 0.001321001651689471, 0.001321001651689471, 0.0013210016516894713, 0.0013210016516894713, 0.0013210016516894713, 0.0013210016516894715, 0.0013210016516894715, 0.0013210016516894715, 0.0013210016516894715, 0.0013210016516894715, 0.0013210016516894715, 0.0013210016516894717, 0.0013210016516894717, 0.0013210016516894717, 0.001321001651689472, 0.001321001651689472, 0.0013210016516894722, 0.0013210016516894722, 0.0013210016516894722, 0.0013210016516894722, 0.0013210016516894722, 0.0013210016516894722, 0.0013210016516894722, 0.0013210016516894724, 0.0013210016516894724, 0.0013210016516894724, 0.0013210016516894724, 0.0013210016516894724, 0.0013210016516894724, 0.0013210016516894726, 0.0013210016516894728, 0.0013210016516894728, 0.0013210016516894728, 0.0013210016516894733, 0.0013210016516894733, 0.0013210016516894733, 0.0013210016516894733, 0.0013210016516894733, 0.0013210016516894735, 0.0013210016516894737, 0.001321001651689474, 0.001321001651689474, 0.001321001651689474, 0.001321001651689474, 0.0013210016516894743, 0.0013210016516894743, 0.0013210016516894746, 0.0013210016516894746, 0.0013210016516894746, 0.0013210016516894746, 0.0013210016516894746, 0.001321001651689475, 0.001321001651689475, 0.001321001651689475, 0.001321001651689475, 0.001321001651689475, 0.001321001651689475, 0.0013210016516894752, 0.0013210016516894752, 0.0013210016516894752, 0.0013210016516894752, 0.0013210016516894752, 0.0013210016516894752, 0.0013210016516894756, 0.0013210016516894756, 0.0013210016516894756, 0.0013210016516894756, 0.0013210016516894756, 0.0013210016516894756, 0.0013210016516894759, 0.0013210016516894759, 0.0013210016516894759, 0.001321001651689476, 0.0013210016516894765, 0.0013210016516894765, 0.0013210016516894765, 0.0013210016516894765, 0.0013210016516894767, 0.0013210016516894767, 0.0013210016516894767, 0.0013210016516894767, 0.0013210016516894767, 0.0013210016516894767, 0.001321001651689477, 0.0013210016516894772, 0.0013210016516894772, 0.0013210016516894772, 0.0013210016516894772, 0.0013210016516894774, 0.0013210016516894774, 0.0013210016516894776, 0.0013210016516894776, 0.0013210016516894778, 0.001321001651689478, 0.001321001651689478, 0.0013210016516894782, 0.0013210016516894782, 0.0013210016516894782, 0.0013210016516894785, 0.0013210016516894787, 0.0013210016516894787, 0.0013210016516894787, 0.0013210016516894787, 0.0013210016516894789, 0.0013210016516894793, 0.0013210016516894793, 0.0013210016516894793, 0.0013210016516894795, 0.0013210016516894798, 0.0013210016516894798, 0.0013210016516894798, 0.0013210016516894798, 0.0013210016516894798, 0.0013210016516894798, 0.0013210016516894798, 0.0013210016516894798, 0.0013210016516894802, 0.0013210016516894802, 0.0013210016516894802, 0.0013210016516894806, 0.0013210016516894806, 0.0013210016516894806, 0.0013210016516894808, 0.0013210016516894808, 0.0013210016516894815, 0.0013210016516894815, 0.0013210016516894815, 0.0013210016516894815, 0.0013210016516894815, 0.0013210016516894815, 0.0013210016516894815, 0.0013210016516894817, 0.0013210016516894817, 0.0013210016516894817, 0.001321001651689482, 0.001321001651689482, 0.0013210016516894824, 0.0026385039612552836, 0.0026385039612552845, 0.002638503961255285, 0.0026385039612552867, 0.0026385039612552867, 0.0026385039612552867, 0.0026385039612552867, 0.0026385039612552884, 0.0026385039612552884, 0.0026385039612552884, 0.0026385039612552897, 0.0026385039612552906, 0.0026385039612552915, 0.002638503961255292, 0.0026385039612552928, 0.0026385039612552928, 0.002638503961255293, 0.002638503961255293, 0.002638503961255293, 0.002638503961255294, 0.002638503961255294, 0.002638503961255294, 0.002638503961255294, 0.0026385039612552945, 0.002638503961255295, 0.002638503961255295, 0.002638503961255296, 0.0026385039612552967, 0.002638503961255297, 0.002638503961255297, 0.0026385039612553006, 0.0026385039612553023, 0.0026385039612553023, 0.0026385039612553084, 0.002638503961255309, 0.00263850396125531, 0.00263850396125531, 0.0026385039612553105, 0.0026385039612553105, 0.0026385039612553105, 0.0026385039612553114, 0.0026385039612553114, 0.002638503961255312, 0.002638503961255312, 0.0026385039612553123, 0.002638503961255313, 0.002638503961255314, 0.002638503961255314, 0.002638503961255314, 0.0026385039612553157, 0.002638503961255316, 0.0026385039612553166, 0.0026385039612553188, 0.0026385039612553196, 0.0026385039612553196, 0.0026385039612553196, 0.00263850396125532, 0.002638503961255321, 0.0026385039612553214, 0.0026385039612553214, 0.0026385039612553214, 0.0026385039612553227, 0.002638503961255324, 0.002638503961255325, 0.002638503961255325, 0.0026385039612553266, 0.0026385039612553274, 0.0026385039612553296, 0.0026385039612553296, 0.0026385039612553305, 0.0026385039612553305, 0.0026385039612553353, 0.0026385039612553405, 0.0026385039612553405, 0.0026385039612553418, 0.0026385039612553435, 0.002638503961255344, 0.002638503961255344, 0.0026385039612553444, 0.0026385039612553452, 0.0026385039612553465, 0.002638503961255356, 0.002638503961255358, 0.0026385039612553587, 0.002638503961255361, 0.0026385039612553613, 0.002638503961255364, 0.002638503961255365, 0.002638503961255365, 0.002638503961255365, 0.002638503961255366, 0.0026385039612553695, 0.0026385039612553704, 0.002638503961255371, 0.002638503961255382, 0.0039525069286973835, 0.003952506928697386, 0.003952506928697387, 0.003952506928697387, 0.003952506928697393, 0.003952506928697395, 0.003952506928697395, 0.003952506928697396, 0.003952506928697398, 0.003952506928697399, 0.0039525069286974, 0.003952506928697401, 0.0039525069286974026, 0.0039525069286974026, 0.003952506928697403, 0.003952506928697405, 0.003952506928697407, 0.003952506928697407, 0.003952506928697409, 0.003952506928697409, 0.003952506928697413, 0.003952506928697413, 0.003952506928697414, 0.003952506928697414, 0.003952506928697416, 0.003952506928697418, 0.003952506928697418, 0.003952506928697418, 0.003952506928697422, 0.003952506928697422, 0.0039525069286974225, 0.0039525069286974225, 0.003952506928697423, 0.003952506928697423, 0.003952506928697423, 0.003952506928697425, 0.003952506928697427, 0.003952506928697428, 0.0039525069286974295, 0.0039525069286974295, 0.0039525069286974355, 0.00395250692869744, 0.00395250692869744, 0.003952506928697441, 0.0039525069286974425, 0.0039525069286974485, 0.003952506928697452, 0.003952506928697453, 0.003952506928697455, 0.003952506928697456, 0.00395250692869746, 0.00395250692869746, 0.00395250692869746, 0.00395250692869747, 0.003952506928697473, 0.003952506928697473, 0.003952506928697485, 0.003952506928697486, 0.003952506928697493, 0.0039525069286974945, 0.003952506928697502, 0.003952506928697507, 0.003952506928697508, 0.0039525069286975145, 0.00395250692869752, 0.005263010554015844, 0.005263010554015844, 0.005263010554015844, 0.005263010554015844, 0.005263010554015844, 0.005263010554015844, 0.005263010554015844, 0.005263010554015844, 0.005263010554015844, 0.005263010554015844, 0.005263010554015844, 0.005263010554015844, 0.005263010554015844, 0.005263010554015844, 0.005263010554015844, 0.005263010554015844, 0.005263010554015844, 0.005263010554015844, 0.005263010554015844, 0.005263010554015844, 0.005263010554015844, 0.005263010554015844, 0.005263010554015844, 0.005263010554015844, 0.005263010554015844, 0.005263010554015844, 0.005263010554015844, 0.005263010554015844, 0.0052840066067578245, 0.00528400660675785, 0.005284006606757859, 0.005284006606757863, 0.005284006606757876, 0.005284006606757915, 0.006570014837210526, 0.006570014837210546, 0.006570014837210548, 0.006570014837210566, 0.006570014837210589, 0.006570014837210592, 0.006570014837210623, 0.00657001483721063, 0.006570014837210635, 0.006570014837210637, 0.006570014837210637, 0.006570014837210653, 0.006570014837210656, 0.006570014837210658, 0.006570014837210666, 0.006570014837210683, 0.006570014837210691, 0.0065980095742001294, 0.006598009574200151, 0.006598009574200157, 0.006598009574200173, 0.006598009574200214, 0.007873519778281591, 0.007873519778281603, 0.007873519778281603, 0.007873519778281603, 0.007873519778281605, 0.00787351977828161, 0.00787351977828161, 0.00787351977828161, 0.007873519778281613, 0.007873519778281617, 0.007873519778281622, 0.007873519778281634, 0.007873519778281634, 0.007873519778281643, 0.007873519778281646, 0.00787351977828165, 0.007873519778281657, 0.00787351977828166, 0.00787351977828166, 0.007873519778281666, 0.007873519778281672, 0.007873519778281676, 0.007873519778281683, 0.007873519778281686, 0.007873519778281693, 0.00790851319951854, 0.007908513199518592, 0.007908513199518645, 0.007908513199518729, 0.009173525377229048, 0.00917352537722905, 0.00917352537722905, 0.00917352537722905, 0.009173525377229052, 0.009173525377229052, 0.009173525377229052, 0.009173525377229052, 0.009173525377229052, 0.009173525377229052, 0.009173525377229054, 0.009173525377229054, 0.009173525377229054, 0.009173525377229055, 0.009173525377229055, 0.009173525377229055, 0.009173525377229055, 0.009173525377229055, 0.009173525377229057, 0.009173525377229057, 0.009173525377229059, 0.00921551748271307, 0.009215517482713074, 0.00921551748271314, 0.00921551748271315, 0.010470031634052794, 0.010470031634052794, 0.010470031634052794, 0.010470031634052794, 0.010470031634052794, 0.010470031634052794, 0.010470031634052794, 0.010470031634052794, 0.010470031634052794, 0.010470031634052794, 0.010470031634052794, 0.010470031634052794, 0.01051902242378422, 0.011763038548752804, 0.011763038548752804, 0.011763038548752805, 0.011763038548752805, 0.011763038548752805, 0.011763038548752805, 0.011763038548752805, 0.011763038548752805, 0.01176303854875281, 0.011819028022731722, 0.011819028022731728, 0.01181902802273174, 0.011819028022731926, 0.011889014865205383, 0.013052546121329186, 0.013052546121329186, 0.01305254612132924, 0.013052546121329394, 0.013052546121329415, 0.01311553427955544, 0.01311553427955544, 0.014338554351781925, 0.014338554351781926, 0.014338554351781944, 0.014338554351781971, 0.01433855435178198, 0.01440854119425545, 0.014408541194255454, 0.014506522773718424, 0.015621063240110929, 0.015621063240110936, 0.0156980487668318, 0.015698048766832087, 0.015761036925058088, 0.016900072786315973, 0.016900072786316046, 0.018175582990397697, 0.018175582990397728, 0.01826656588561344, 0.01944759385235554, 0.019545575431818427, 0.020716105372190007, 0.02071610537219001, 0.02071610537219001, 0.020912068531115838, 0.02198111754990058, 0.02198111754990065, 0.022275062288289776, 0.02336160801769266, 0.023466588281402988, 0.024500643878950467, 0.024500643878950498, 0.024626620195403338, 0.02462662019540336, 0.024626620195403473, 0.025755158030290125, 0.025888133030990072, 0.02611209092690568, 0.027006172839506536, 0.027272122840906195, 0.027272122840906195, 0.02738410178886367, 0.028253688306598468, 0.028400660675792628, 0.028400660675792704, 0.028757593572408268, 0.030738221214412033, 0.030738221214412192, 0.030899190952100794, 0.03089919095210098, 0.033544693597603426, 0.034438775510203856, 0.03443877551020387, 0.03443877551020388, 0.03462074130063513, 0.03566529492455401, 0.037084278155706564, 0.0383107975700565, 0.040753338372386705, 0.043181881806220374, 0.04360180286106183, 0.046546499258139654, 0.04847288709722568, 0.04892605190224241, 0.049443954536547235, 0.05038352789675534, 0.05133534895439677, 0.05183750454914495, 0.05246913580246908, 0.054813695025335556, 0.05598072562358229, 0.056288667730465966, 0.05628866773046617, 0.05686255983875088, 0.06061385459533568, 0.06241951513115613, 0.06705439377397143, 0.0685871056241425, 0.07119586517734616, 0.07123260826964486, 0.07426303854875206, 0.07463396881386396, 0.07988823101257049, 0.09026203073822217, 0.1025587189608368, 0.10284391534391414, 0.10302588113434775, 0.10518322555359626, 0.1307004283194773, 0.13233637076229823, 0.1561318972033244, 0.1677304666722651, 0.1836104812295314, 0.22651941435010312, 0.24841829736009582, 0.3805464572660329] \n",
            "\n",
            "Max variance of a label:\n",
            " 0.3805464572660329 \n",
            "\n",
            "Mean:\n",
            " 0.008215339277898004 \n",
            "\n"
          ],
          "name": "stdout"
        }
      ]
    },
    {
      "cell_type": "markdown",
      "metadata": {
        "id": "FL--W3r1iDlQ"
      },
      "source": [
        "Παρατηρούμε πως πολλά χαρακτηριστικά έχουν μηδενική ή εξαιρετικά χαμηλή διακύμανση."
      ]
    },
    {
      "cell_type": "markdown",
      "metadata": {
        "id": "7f2YJHdUiDlX"
      },
      "source": [
        "#### Kανονικοποίηση χαρακτηριστικών."
      ]
    },
    {
      "cell_type": "markdown",
      "metadata": {
        "id": "DdzzMr-tiDlY"
      },
      "source": [
        "Χαρακτηριστικά με πολύ μεγάλες διαφορές στις τιμές τους μπορούν να προκαλέσουν προβλήματα στην εκπαίδευση.Η κανονικοποίηση μετασχηματίζει τις τιμές των χαρακτηριστικών ώστε να αμβλυνθούν αυτές οι διαφορές και μπορεί να γίνει με 2 τρόπους: Διαιρώντας με τη διαφορά μεγίστου-ελαχίστου (feature scaling) οπότε οι τιμές όλων των χαρακτηριστικών κλιμακώνονται γραμμικά στο διάστημα [0,1] ή με το standard score του κάθε χαρακτηριστικού, που κάνει το χαρακτηριστικό να έχει μέση τιμή μηδέν και διακύμανση μονάδα. H μετατροπή σε standard score είναι απαραίτητη σε πολλούς ταξινομητές για να συμπεριφερθούν σωστά. Επίσης είναι πιο ανθεκτική από την min-max σε σποραδικές τιμές που είναι πολύ μακριά απο τη μέση τιμή και τις υπόλοιπες τιμές του χαρακτηριστικού. Από την άλλη, η κλιμάκωση στο [0,1] είναι λιγότερο ευαίσθητη σε μικρές αποκλίσεις και επίσης σε αραιά διανύσματα διατηρεί τις μηδενικές τιμές.\n",
        "\n",
        "Συνεπώς θα εφαρμόσουμε κλιμάκωση στο [0,1] χρησιμοποιώντας τη μέθοδο MinMaxScaler."
      ]
    },
    {
      "cell_type": "markdown",
      "metadata": {
        "id": "IPT4QiFhiDlj"
      },
      "source": [
        "#### Μείωση της διαστατικότητας με εξαγωγή χαρακτηριστικών \n"
      ]
    },
    {
      "cell_type": "markdown",
      "metadata": {
        "id": "9wf6_x1IiDll"
      },
      "source": [
        "Θα εφαρμόσυμε την τεχνική Principal Components Analysis (PCA) για μείωση των διαστάσεων των δεδομένων μας."
      ]
    },
    {
      "cell_type": "code",
      "metadata": {
        "id": "q0aIIIU-Lo2h"
      },
      "source": [
        "from sklearn.decomposition import PCA"
      ],
      "execution_count": null,
      "outputs": []
    },
    {
      "cell_type": "code",
      "metadata": {
        "trusted": true,
        "id": "hKKbxPM3iDlm",
        "colab": {
          "base_uri": "https://localhost:8080/"
        },
        "outputId": "f16ebe16-6cbe-406a-90d8-8b5d796b6d8b"
      },
      "source": [
        "n = 70\n",
        "pca = PCA(n_components=n)\n",
        "\n",
        "trainPCA = pca.fit_transform(train)\n",
        "testPCA = pca.transform(test)\n",
        "\n",
        "print(trainPCA.shape)"
      ],
      "execution_count": null,
      "outputs": [
        {
          "output_type": "stream",
          "text": [
            "(756, 70)\n"
          ],
          "name": "stdout"
        }
      ]
    },
    {
      "cell_type": "code",
      "metadata": {
        "trusted": true,
        "id": "FtbLpwXeiDlu",
        "colab": {
          "base_uri": "https://localhost:8080/",
          "height": 592
        },
        "outputId": "f8e9dcaa-6219-4f74-e1af-8184940c24ad"
      },
      "source": [
        "evar = pca.explained_variance_ratio_\n",
        "cum_evar = np.cumsum(evar)\n",
        "print(cum_evar)\n",
        "plt.figure(1, figsize=(6, 6))\n",
        "plt.xlabel(\"Principal Component number\")\n",
        "plt.ylabel('Cumulative Variance')\n",
        "plt.plot(cum_evar, linewidth=2)\n",
        "plt.show()"
      ],
      "execution_count": null,
      "outputs": [
        {
          "output_type": "stream",
          "text": [
            "[0.07575095 0.14130254 0.19067853 0.2258205  0.25758919 0.28831292\n",
            " 0.31390594 0.33821686 0.35805471 0.37621457 0.39164533 0.40658032\n",
            " 0.42070559 0.43376888 0.44641602 0.45843681 0.46990452 0.48074581\n",
            " 0.49082318 0.50075132 0.5101861  0.51889743 0.52723261 0.53538887\n",
            " 0.54323666 0.5507583  0.55820736 0.56538606 0.57251187 0.57953164\n",
            " 0.58620573 0.59259648 0.59885364 0.60500023 0.61096553 0.61666997\n",
            " 0.62226577 0.62773208 0.63307594 0.63827857 0.64341307 0.6483932\n",
            " 0.65328773 0.65812237 0.66283499 0.66739938 0.67187269 0.67630058\n",
            " 0.6806283  0.68492145 0.689039   0.6930961  0.69701911 0.70090829\n",
            " 0.70469797 0.70841391 0.71204114 0.71563703 0.71915989 0.72267116\n",
            " 0.72608348 0.72946264 0.73271842 0.73591465 0.73906842 0.74215492\n",
            " 0.74522245 0.74822467 0.75113541 0.75404199]\n"
          ],
          "name": "stdout"
        },
        {
          "output_type": "display_data",
          "data": {
            "image/png": "[encoded data removed]",
            "text/plain": [
              "<Figure size 432x432 with 1 Axes>"
            ]
          },
          "metadata": {
            "tags": [],
            "needs_background": "light"
          }
        }
      ]
    },
    {
      "cell_type": "markdown",
      "metadata": {
        "id": "5YjpVNgviDly"
      },
      "source": [
        "Από το γράφημα παρατηρούμε πως με 70 συνιστώσες περιγράφουμε το μεγαλύτερο κομμάτι της διακύμανσης του dataset.Παρακάτω θα πειραμαιστούμε στο GridSearchCV αναζητώντας μία καλή τιμή κύριων συνιστωσών."
      ]
    },
    {
      "cell_type": "markdown",
      "metadata": {
        "id": "nmP8wA5YiDl0"
      },
      "source": [
        "### Hyperparameter tuning"
      ]
    },
    {
      "cell_type": "markdown",
      "metadata": {
        "id": "SG7VC1vHiDl0"
      },
      "source": [
        "Για το κούρδισμα υπερπαραμέτρων θα εφαρμόσουμε 5-fold cross validation με τη μέθοδο gridsearchCV που κάνει μαζί και gridsearch μαζί.Στη συνέχεια πειραματιζόμαστε με την αρχιτεκτονική του pipeline και τέλος αξιολογούμε τα καλύτερα αποτελέσματα συγκριτικά με αυτά που είχαμε πριν τη βελτιστοποίηση."
      ]
    },
    {
      "cell_type": "code",
      "metadata": {
        "id": "pszJyQm1J46G"
      },
      "source": [
        "# Συνάρτηση όπου εφαρμόζει GridSearchCV.\n",
        "def grid_search(train, test, train_labels, test_labels, steps, grid_params, score):\n",
        "  pipe = Pipeline(steps , memory = 'tmp')\n",
        "  estimator = GridSearchCV(pipe, grid_params, cv=5,scoring=score ,n_jobs=-1,verbose=1)\n",
        "  start_time = time.time()\n",
        "  estimator.fit(X_train, y_train)\n",
        "  preds = estimator.predict(X_test)\n",
        "  ttime =  time.time() - start_time\n",
        "  return preds, ttime, estimator.best_estimator_"
      ],
      "execution_count": null,
      "outputs": []
    },
    {
      "cell_type": "markdown",
      "metadata": {
        "id": "vItCUZ8ZiDl1"
      },
      "source": [
        "#### kNN Tuning"
      ]
    },
    {
      "cell_type": "code",
      "metadata": {
        "id": "Ad_H7QR9nmJ0"
      },
      "source": [
        "# Aρχικοποιούμε τους εκτιμητές (μετασχηματιστές και ταξινομητή) χωρίς παραμέτρους\n",
        "selector =VarianceThreshold()\n",
        "#pca = PCA()\n",
        "\n",
        "vthreshold = [0, 0.001, 0.002, 0.005, 0.01]\n",
        "#n_components = [10, 20, 25, 30]\n",
        "k = [1, 3, 5, 7, 11, 15, 19]\n",
        "## 'uniform': Ομοιόμορφη ζύγιση γειτονων\n",
        "## 'distance': Κοντινότεροι γείτονες επηρεάζουν περισσότερο\n",
        "weights_options = ['uniform', 'distance']\n",
        "metric_options = ['euclidean', 'manhattan', 'chebyshev', 'minkowski', 'hamming'] #default minkowski\n"
      ],
      "execution_count": null,
      "outputs": []
    },
    {
      "cell_type": "code",
      "metadata": {
        "id": "8a16zb2CriyA"
      },
      "source": [
        "pipe = Pipeline(steps=[('selector', selector), ('kNN', clf)], memory = 'tmp')"
      ],
      "execution_count": null,
      "outputs": []
    },
    {
      "cell_type": "markdown",
      "metadata": {
        "id": "HGJ5NtqaDa1Z"
      },
      "source": [
        "Eπιλέγουμε n_jobs=-1 για να χρησιοποιήσουμε ολους τους πυρήνες και verbose=1, για έλεγχο της προόδου μας"
      ]
    },
    {
      "cell_type": "code",
      "metadata": {
        "id": "aKpyWcHln2dw"
      },
      "source": [
        "# 5 fold validation\n",
        "estimator = GridSearchCV(pipe, dict(selector__threshold=vthreshold, kNN__n_neighbors=k, kNN__weights=weights_options, kNN__metric=metric_options), cv=5, scoring='f1_micro', n_jobs=-1, verbose=1)"
      ],
      "execution_count": null,
      "outputs": []
    },
    {
      "cell_type": "markdown",
      "metadata": {
        "id": "2TOVb69DsLRD"
      },
      "source": [
        "Το GridSearchCV είναι επίσης ένας estimator με fit και predict. "
      ]
    },
    {
      "cell_type": "code",
      "metadata": {
        "id": "FP-L7SlfsK9H",
        "colab": {
          "base_uri": "https://localhost:8080/"
        },
        "outputId": "f5ba74d8-a086-4bd0-d5cd-be986b415817"
      },
      "source": [
        "start_time = time.time()\n",
        "estimator.fit(train, train_labels)\n",
        "print(\"Συνολικός χρόνος fit και predict: %s seconds\" % (time.time() - start_time))\n",
        "preds = estimator.predict(test)\n",
        "print (classification_report(test_labels, preds))"
      ],
      "execution_count": null,
      "outputs": [
        {
          "output_type": "stream",
          "text": [
            "Fitting 5 folds for each of 350 candidates, totalling 1750 fits\n"
          ],
          "name": "stdout"
        },
        {
          "output_type": "stream",
          "text": [
            "[Parallel(n_jobs=-1)]: Using backend LokyBackend with 2 concurrent workers.\n",
            "[Parallel(n_jobs=-1)]: Done  46 tasks      | elapsed:    5.8s\n",
            "[Parallel(n_jobs=-1)]: Done 196 tasks      | elapsed:   19.8s\n",
            "[Parallel(n_jobs=-1)]: Done 446 tasks      | elapsed:   43.3s\n",
            "[Parallel(n_jobs=-1)]: Done 796 tasks      | elapsed:  1.3min\n",
            "[Parallel(n_jobs=-1)]: Done 1246 tasks      | elapsed:  2.0min\n",
            "[Parallel(n_jobs=-1)]: Done 1750 out of 1750 | elapsed:  2.8min finished\n"
          ],
          "name": "stderr"
        },
        {
          "output_type": "stream",
          "text": [
            "Συνολικός χρόνος fit και predict: 168.03073811531067 seconds\n",
            "              precision    recall  f1-score   support\n",
            "\n",
            "           1       0.78      1.00      0.87        38\n",
            "           2       0.92      0.94      0.93        36\n",
            "           3       0.96      0.79      0.87        34\n",
            "           4       0.96      0.62      0.75        39\n",
            "           5       0.97      0.97      0.97        31\n",
            "           6       0.79      0.91      0.85        34\n",
            "           7       0.89      0.89      0.89        35\n",
            "           8       0.95      0.97      0.96        40\n",
            "           9       0.77      0.81      0.79        37\n",
            "\n",
            "    accuracy                           0.88       324\n",
            "   macro avg       0.89      0.88      0.88       324\n",
            "weighted avg       0.89      0.88      0.87       324\n",
            "\n"
          ],
          "name": "stdout"
        }
      ]
    },
    {
      "cell_type": "code",
      "metadata": {
        "id": "Kba-qpcYsgm9",
        "colab": {
          "base_uri": "https://localhost:8080/"
        },
        "outputId": "10072b56-b955-4832-fd8b-42771ff9e00f"
      },
      "source": [
        "print (estimator.best_estimator_)\n",
        "print (estimator.best_params_)"
      ],
      "execution_count": null,
      "outputs": [
        {
          "output_type": "stream",
          "text": [
            "Pipeline(memory='tmp',\n",
            "         steps=[('selector', VarianceThreshold(threshold=0)),\n",
            "                ('kNN',\n",
            "                 KNeighborsClassifier(metric='manhattan', n_jobs=-1,\n",
            "                                      n_neighbors=15, weights='distance'))])\n",
            "{'kNN__metric': 'manhattan', 'kNN__n_neighbors': 15, 'kNN__weights': 'distance', 'selector__threshold': 0}\n"
          ],
          "name": "stdout"
        }
      ]
    },
    {
      "cell_type": "markdown",
      "metadata": {
        "id": "EJ9GmcnNAILD"
      },
      "source": [
        "Bλέπουμε πως το Variance Threshold δεν βοηθά τον kNN.Θα προχωρήσουμε σε 2η αναζήτηση μήπως βελτιώσουμε το accuracy μέσω της PCA τεχνικής"
      ]
    },
    {
      "cell_type": "markdown",
      "metadata": {
        "id": "NydN7DMb8hrz"
      },
      "source": [
        "##### 2nd search for kNN"
      ]
    },
    {
      "cell_type": "code",
      "metadata": {
        "id": "xC4pegTudFsX"
      },
      "source": [
        "selector =VarianceThreshold()\n",
        "pca = PCA()\n",
        "\n",
        "vthreshold = [0]\n",
        "n_components = [50,100,120,140,160,180,200,220,240,260,279]\n",
        "k = [ 7,9, 10,11,12,13, 14,15,16, 20]\n",
        "\n",
        "weights_options = ['distance']\n",
        "metric_options = ['euclidean','manhattan'] \n",
        "pipe = Pipeline(steps=[('selector', selector),('pca',pca),('kNN', clf)], memory = 'tmp')"
      ],
      "execution_count": null,
      "outputs": []
    },
    {
      "cell_type": "code",
      "metadata": {
        "id": "1HMxfz-Idc-f"
      },
      "source": [
        "estimator = GridSearchCV(pipe, dict(selector__threshold=vthreshold, kNN__n_neighbors=k,kNN__weights=weights_options, kNN__metric=metric_options, pca__n_components=n_components), cv=5, scoring='f1_micro', n_jobs=-1)"
      ],
      "execution_count": null,
      "outputs": []
    },
    {
      "cell_type": "code",
      "metadata": {
        "id": "4vDsYUvKdhM9",
        "colab": {
          "base_uri": "https://localhost:8080/"
        },
        "outputId": "727d09a9-437e-4a82-8f2f-d0f797e86e83"
      },
      "source": [
        "start_time = time.time()\n",
        "estimator.fit(train, train_labels)\n",
        "total_time = (time.time() - start_time)\n",
        "\n",
        "print(\"Συνολικός χρόνος fit και predict: %s seconds\" % (time.time() - start_time))\n",
        "\n",
        "print (classification_report(test_labels, preds))"
      ],
      "execution_count": null,
      "outputs": [
        {
          "output_type": "stream",
          "text": [
            "Συνολικός χρόνος fit και predict: 80.41015100479126 seconds\n",
            "              precision    recall  f1-score   support\n",
            "\n",
            "           1       0.78      1.00      0.87        38\n",
            "           2       0.92      0.94      0.93        36\n",
            "           3       0.96      0.79      0.87        34\n",
            "           4       0.96      0.62      0.75        39\n",
            "           5       0.97      0.97      0.97        31\n",
            "           6       0.79      0.91      0.85        34\n",
            "           7       0.89      0.89      0.89        35\n",
            "           8       0.95      0.97      0.96        40\n",
            "           9       0.77      0.81      0.79        37\n",
            "\n",
            "    accuracy                           0.88       324\n",
            "   macro avg       0.89      0.88      0.88       324\n",
            "weighted avg       0.89      0.88      0.87       324\n",
            "\n"
          ],
          "name": "stdout"
        }
      ]
    },
    {
      "cell_type": "code",
      "metadata": {
        "id": "o8YO9VqR-3Q9",
        "colab": {
          "base_uri": "https://localhost:8080/"
        },
        "outputId": "9de47dbb-2f92-4e09-99bf-1407887f1c44"
      },
      "source": [
        "print (estimator.best_estimator_)\n",
        "print (estimator.best_params_)"
      ],
      "execution_count": null,
      "outputs": [
        {
          "output_type": "stream",
          "text": [
            "Pipeline(memory='tmp',\n",
            "         steps=[('selector', VarianceThreshold(threshold=0)),\n",
            "                ('pca', PCA(n_components=220)),\n",
            "                ('kNN',\n",
            "                 KNeighborsClassifier(metric='manhattan', n_jobs=-1,\n",
            "                                      n_neighbors=13, weights='distance'))])\n",
            "{'kNN__metric': 'manhattan', 'kNN__n_neighbors': 13, 'kNN__weights': 'distance', 'pca__n_components': 220, 'selector__threshold': 0}\n"
          ],
          "name": "stdout"
        }
      ]
    },
    {
      "cell_type": "markdown",
      "metadata": {
        "id": "b5opj5mV_GLj"
      },
      "source": [
        "Παρά το progressive search δεν καταφέραμε να βελτιώσουμε την απόδοση.Καταλήξαμε σε άλλο τοπικό μέγιστο με το ίδιο accuracy.Όμως δεν εκτιμουμε πως υπάρχουν πολλά περιθώρια βελτίωσης,συνεπώς δεν έχει νόημα περαιτέρω αναζητήση"
      ]
    },
    {
      "cell_type": "markdown",
      "metadata": {
        "id": "AP60C8ak_msl"
      },
      "source": [
        "#### MLP Tuning"
      ]
    },
    {
      "cell_type": "markdown",
      "metadata": {
        "id": "T6kKlqdIIvnX"
      },
      "source": [
        "Aρχικά ορίζουμε το μοντέλο και μερικές τιμές παραμέτρων για να χρησιμοποιηθούν στο GridSearchCV.Για περισσότερες πληροφορίες πάνω σε αυτές τις παραμέτρους παραμπέπουμε στο [documentation](https://scikit-learn.org/stable/modules/generated/sklearn.neural_network.MLPClassifier.html)"
      ]
    },
    {
      "cell_type": "code",
      "metadata": {
        "id": "ceuYQgxzI8e4"
      },
      "source": [
        "hidden_layer_sizes = [4, 8, 12, 16, 20]\n",
        "activations = ['logistic', 'tanh', 'relu']\n",
        "solvers = ['lbfgs', 'sgd', 'adam']\n",
        "max_iters = [50, 100, 200, 300]\n",
        "learning_rates = ['constant', 'invscaling', 'adaptive']\n",
        "alphas = [0.01, 0.001, 0.0001]"
      ],
      "execution_count": null,
      "outputs": []
    },
    {
      "cell_type": "markdown",
      "metadata": {
        "id": "37nnv6SMWssQ"
      },
      "source": [
        "##### Xωρίς προεργασία δεδομένων"
      ]
    },
    {
      "cell_type": "markdown",
      "metadata": {
        "id": "jZxg9MxDSf7L"
      },
      "source": [
        "Aρχικά δοκιμάζουμε να κάνουμε βελτιστοποίηση υπερπαραμέτρων χωρίς προεργασία των δεδομένων,προκειμένου να δούμε στην πράξη τα οφέλη της προεργασίας δεδομένων"
      ]
    },
    {
      "cell_type": "code",
      "metadata": {
        "id": "Zh4068aXKkGz"
      },
      "source": [
        "model=[('mlp', MLPClassifier())]\n",
        "grid_params = {}\n",
        "grid_params['mlp__hidden_layer_sizes'] = hidden_layer_sizes\n",
        "grid_params['mlp__activation'] = activations\n",
        "grid_params['mlp__solver'] = solvers\n",
        "grid_params['mlp__max_iter'] = max_iters\n",
        "grid_params['mlp__learning_rate'] = learning_rates\n",
        "grid_params['mlp__alpha'] = alphas\n",
        "\n",
        "preds_micro, ttime_micro, best_micro = grid_search(train, test, train_labels, test_labels, model, grid_params, 'f1_micro')\n",
        "\n",
        "preds_macro, ttime_macro, best_macro = grid_search(train, test, train_labels, test_labels, model, grid_params, 'f1_macro')"
      ],
      "execution_count": null,
      "outputs": []
    },
    {
      "cell_type": "code",
      "metadata": {
        "id": "EmXUkvnQ9F4N"
      },
      "source": [
        "mlp_f1_micro_opt = f1_score(test_labels, preds_micro, average=\"micro\")\n",
        "mlp_f1_macro_opt = f1_score(test_labels, preds_macro, average=\"macro\")"
      ],
      "execution_count": null,
      "outputs": []
    },
    {
      "cell_type": "code",
      "metadata": {
        "id": "Y-zz4NZu9TGF",
        "colab": {
          "base_uri": "https://localhost:8080/"
        },
        "outputId": "8f9f9b56-e418-47b3-ea92-9a7747818810"
      },
      "source": [
        "print('\\033[1m'+\"MLP πριν την προεργασία δεδομένων\"+'\\033[0m'+'\\n')\n",
        "print('---------------------------------------------------------------------------------------')\n",
        "\n",
        "\n",
        "print('F1 micro: %f' %mlp_f1_micro_opt)\n",
        "print('Χρόνος για fit και predict: %f' %ttime_micro)\n",
        "print('Καλύτερο μοντέλο στο σκορ f1-micro:')\n",
        "print(best_micro)\n",
        "\n",
        "\n",
        "print('F1 macro: %f' %mlp_f1_macro_opt)\n",
        "print('Χρόνος για fit και predict: %f' %ttime_macro)\n",
        "print('Καλύτερο μοντέλο στο σκορ f1-macro:')\n",
        "print(best_macro)\n",
        "print('---------------------------------------------------------------------------------------')"
      ],
      "execution_count": null,
      "outputs": [
        {
          "output_type": "stream",
          "text": [
            "\u001b[1mMLP πριν την προεργασία δεδομένων\u001b[0m\n",
            "\n",
            "---------------------------------------------------------------------------------------\n",
            "F1 micro: 0.950617\n",
            "Χρόνος για fit και predict: 4531.720156\n",
            "Καλύτερο μοντέλο στο σκορ f1-micro:\n",
            "Pipeline(memory='tmp',\n",
            "         steps=[('mlp',\n",
            "                 MLPClassifier(alpha=0.001, hidden_layer_sizes=20,\n",
            "                               learning_rate='adaptive', max_iter=300))])\n",
            "F1 macro: 0.955964\n",
            "Χρόνος για fit και predict: 4533.838627\n",
            "Καλύτερο μοντέλο στο σκορ f1-macro:\n",
            "Pipeline(memory='tmp',\n",
            "         steps=[('mlp',\n",
            "                 MLPClassifier(alpha=0.001, hidden_layer_sizes=20,\n",
            "                               learning_rate='adaptive'))])\n",
            "---------------------------------------------------------------------------------------\n"
          ],
          "name": "stdout"
        }
      ]
    },
    {
      "cell_type": "markdown",
      "metadata": {
        "id": "-zFcoTrYW5OF"
      },
      "source": [
        "##### Με επιλογή χαρακτηριστικών"
      ]
    },
    {
      "cell_type": "markdown",
      "metadata": {
        "id": "tlW1ilVUDPc4"
      },
      "source": [
        "Καθώς απο την προηγούμενη αναζήτηση βρήκαμε κάποιες καλές τιμές/παραμέτρους μπορούμε να προσπαθήσουμε να τις βελτιστοποιήσουμε (progressive search). Έτσι επιλέγουμε 'learning rate = adaptive' και 'alpha = 0.001'."
      ]
    },
    {
      "cell_type": "code",
      "metadata": {
        "id": "DQjIscxD_F0v",
        "colab": {
          "base_uri": "https://localhost:8080/"
        },
        "outputId": "713f7b8f-d0b9-4ac2-f5f0-b0de3b273fd8"
      },
      "source": [
        "#-----------------------------------------------------------------------#\n",
        "#   Pipeline:  Feature selection -> MLP                                 #\n",
        "#-----------------------------------------------------------------------#\n",
        "\n",
        "hidden_layer_sizes = [ 20, 30 ]\n",
        "activations = ['logistic', 'tanh', 'relu']\n",
        "solvers = ['lbfgs', 'sgd', 'adam']\n",
        "max_iters = [20,30]\n",
        "learning_rates = [ 'adaptive']\n",
        "alphas = [0.001]\n",
        "vthreshold = [0.0, 0.01, 0.1] #προσαρμόζουμε τις τιμές μας στο variance που παρατηρήσαμε\n",
        "\n",
        "\n",
        "pipe = [('selector', selector), ('mlp', MLPClassifier())]\n",
        "grid_params = {'mlp__hidden_layer_sizes':hidden_layer_sizes,\n",
        "               'mlp__activation':activations,\n",
        "               'mlp__solver':solvers,\n",
        "               'mlp__max_iter':max_iters,\n",
        "               'mlp__learning_rate':learning_rates,\n",
        "               'mlp__alpha':alphas,\n",
        "               'selector__threshold':vthreshold\n",
        "               }\n",
        "\n",
        "preds_micro, ttime_micro, best_micro = grid_search(train, test, train_labels, test_labels, pipe, grid_params, 'f1_micro')\n",
        "preds_macro, ttime_macro, best_macro = grid_search(train, test, train_labels, test_labels, pipe, grid_params, 'f1_macro')"
      ],
      "execution_count": null,
      "outputs": [
        {
          "output_type": "stream",
          "text": [
            "Fitting 5 folds for each of 108 candidates, totalling 540 fits\n"
          ],
          "name": "stdout"
        },
        {
          "output_type": "stream",
          "text": [
            "[Parallel(n_jobs=-1)]: Using backend LokyBackend with 2 concurrent workers.\n",
            "[Parallel(n_jobs=-1)]: Done  74 tasks      | elapsed:    6.3s\n",
            "[Parallel(n_jobs=-1)]: Done 374 tasks      | elapsed:   35.2s\n",
            "[Parallel(n_jobs=-1)]: Done 537 out of 540 | elapsed:   51.2s remaining:    0.3s\n",
            "[Parallel(n_jobs=-1)]: Done 540 out of 540 | elapsed:   51.3s finished\n"
          ],
          "name": "stderr"
        },
        {
          "output_type": "stream",
          "text": [
            "Fitting 5 folds for each of 108 candidates, totalling 540 fits\n"
          ],
          "name": "stdout"
        },
        {
          "output_type": "stream",
          "text": [
            "[Parallel(n_jobs=-1)]: Using backend LokyBackend with 2 concurrent workers.\n",
            "[Parallel(n_jobs=-1)]: Done  74 tasks      | elapsed:    6.5s\n",
            "[Parallel(n_jobs=-1)]: Done 374 tasks      | elapsed:   35.3s\n",
            "[Parallel(n_jobs=-1)]: Done 537 out of 540 | elapsed:   51.3s remaining:    0.3s\n",
            "[Parallel(n_jobs=-1)]: Done 540 out of 540 | elapsed:   51.4s finished\n"
          ],
          "name": "stderr"
        }
      ]
    },
    {
      "cell_type": "code",
      "metadata": {
        "id": "Pv8oZghYE5Po",
        "colab": {
          "base_uri": "https://localhost:8080/"
        },
        "outputId": "2d222346-34a8-47bb-eeb3-910995dd5f44"
      },
      "source": [
        "mlp_f1_micro_opt_sel = f1_score(test_labels, preds_micro, average=\"micro\")\n",
        "mlp_f1_macro_opt_sel = f1_score(test_labels, preds_macro, average=\"macro\")\n",
        "\n",
        "print('\\033[1m'+\"MLP με επιλογή χαρακτηριστικών μέσω κατωφλίου\"+'\\033[0m'+'\\n')\n",
        "print('---------------------------------------------------------------------------------------')\n",
        "\n",
        "\n",
        "print('F1 micro: %f' %mlp_f1_micro_opt)\n",
        "print('Χρόνος για fit και predict: %f' %ttime_micro)\n",
        "print('Καλύτερο μοντέλο στο σκορ f1-micro:')\n",
        "print(best_micro)\n",
        "\n",
        "\n",
        "print('F1 macro: %f' %mlp_f1_macro_opt)\n",
        "print('Χρόνος για fit και predict: %f' %ttime_macro)\n",
        "print('Καλύτερο μοντέλο στο σκορ f1-macro:')\n",
        "print(best_macro)\n",
        "print('---------------------------------------------------------------------------------------')"
      ],
      "execution_count": null,
      "outputs": [
        {
          "output_type": "stream",
          "text": [
            "\u001b[1mMLP με επιλογή χαρακτηριστικών μέσω κατωφλίου\u001b[0m\n",
            "\n",
            "---------------------------------------------------------------------------------------\n",
            "F1 micro: 0.950617\n",
            "Χρόνος για fit και predict: 53.323138\n",
            "Καλύτερο μοντέλο στο σκορ f1-micro:\n",
            "Pipeline(memory='tmp',\n",
            "         steps=[('selector', VarianceThreshold()),\n",
            "                ('mlp',\n",
            "                 MLPClassifier(activation='tanh', alpha=0.001,\n",
            "                               hidden_layer_sizes=20, learning_rate='adaptive',\n",
            "                               max_iter=30, solver='lbfgs'))])\n",
            "F1 macro: 0.955964\n",
            "Χρόνος για fit και predict: 52.624823\n",
            "Καλύτερο μοντέλο στο σκορ f1-macro:\n",
            "Pipeline(memory='tmp',\n",
            "         steps=[('selector', VarianceThreshold()),\n",
            "                ('mlp',\n",
            "                 MLPClassifier(activation='tanh', alpha=0.001,\n",
            "                               hidden_layer_sizes=30, learning_rate='adaptive',\n",
            "                               max_iter=20, solver='lbfgs'))])\n",
            "---------------------------------------------------------------------------------------\n"
          ],
          "name": "stdout"
        }
      ]
    },
    {
      "cell_type": "markdown",
      "metadata": {
        "id": "ZLHOJINsGDGZ"
      },
      "source": [
        "Παρατηρούμε πως δεν βελτιώθηκαν τα αποτελέσματά μας,συνεπώς δεν υπάρχει λόγος να χρησιμοποιήσουμε κατώφλι στην επιλογή χαρακτηριστικών"
      ]
    },
    {
      "cell_type": "markdown",
      "metadata": {
        "id": "HzxsMUIeGzs0"
      },
      "source": [
        "##### Κανονικοποίηση"
      ]
    },
    {
      "cell_type": "code",
      "metadata": {
        "id": "2jThuIjWGjNI",
        "colab": {
          "base_uri": "https://localhost:8080/"
        },
        "outputId": "8de342e3-c5bd-454d-f738-7005bbc08b38"
      },
      "source": [
        "#-----------------------------------------------------------------------#\n",
        "#   Pipeline:  normalization -> MLP                                 #\n",
        "#-----------------------------------------------------------------------#\n",
        "\n",
        "hidden_layer_sizes = [ 20, 30 ]\n",
        "activations = ['logistic', 'tanh', 'relu']\n",
        "solvers = ['lbfgs', 'sgd', 'adam']\n",
        "max_iters = [20,30]\n",
        "learning_rates = [ 'adaptive']\n",
        "alphas = [0.001]\n",
        "\n",
        "\n",
        "pipe = [('scaler', MinMaxScaler()), ('mlp', MLPClassifier())]\n",
        "\n",
        "grid_params = {'mlp__hidden_layer_sizes':hidden_layer_sizes,\n",
        "               'mlp__activation':activations,\n",
        "               'mlp__solver':solvers,\n",
        "               'mlp__max_iter':max_iters,\n",
        "               'mlp__learning_rate':learning_rates,\n",
        "               'mlp__alpha':alphas}\n",
        "\n",
        "\n",
        "preds_micro, ttime_micro, best_micro = grid_search(train, test, train_labels, test_labels, pipe, grid_params, 'f1_micro')\n",
        "preds_macro, ttime_macro, best_macro = grid_search(train, test, train_labels, test_labels, pipe, grid_params, 'f1_macro')"
      ],
      "execution_count": null,
      "outputs": [
        {
          "output_type": "stream",
          "text": [
            "Fitting 5 folds for each of 36 candidates, totalling 180 fits\n"
          ],
          "name": "stdout"
        },
        {
          "output_type": "stream",
          "text": [
            "[Parallel(n_jobs=-1)]: Using backend LokyBackend with 2 concurrent workers.\n",
            "[Parallel(n_jobs=-1)]: Done  46 tasks      | elapsed:    7.9s\n",
            "[Parallel(n_jobs=-1)]: Done 180 out of 180 | elapsed:   28.4s finished\n"
          ],
          "name": "stderr"
        },
        {
          "output_type": "stream",
          "text": [
            "Fitting 5 folds for each of 36 candidates, totalling 180 fits\n"
          ],
          "name": "stdout"
        },
        {
          "output_type": "stream",
          "text": [
            "[Parallel(n_jobs=-1)]: Using backend LokyBackend with 2 concurrent workers.\n",
            "[Parallel(n_jobs=-1)]: Done  46 tasks      | elapsed:    6.6s\n",
            "[Parallel(n_jobs=-1)]: Done 180 out of 180 | elapsed:   26.9s finished\n"
          ],
          "name": "stderr"
        }
      ]
    },
    {
      "cell_type": "code",
      "metadata": {
        "id": "KdA-IYqZGjNP",
        "colab": {
          "base_uri": "https://localhost:8080/"
        },
        "outputId": "c8260f49-013b-4add-8fd4-12900d01c7e1"
      },
      "source": [
        "mlp_f1_micro_opt_sel = f1_score(test_labels, preds_micro, average=\"micro\")\n",
        "mlp_f1_macro_opt_sel = f1_score(test_labels, preds_macro, average=\"macro\")\n",
        "\n",
        "print('\\033[1m'+\"MLP με Μin-Max scaler\"+'\\033[0m'+'\\n')\n",
        "print('---------------------------------------------------------------------------------------')\n",
        "\n",
        "\n",
        "print('F1 micro: %f' %mlp_f1_micro_opt)\n",
        "print('Χρόνος για fit και predict: %f' %ttime_micro)\n",
        "print('Καλύτερο μοντέλο στο σκορ f1-micro:')\n",
        "print(best_micro)\n",
        "\n",
        "\n",
        "print('F1 macro: %f' %mlp_f1_macro_opt)\n",
        "print('Χρόνος για fit και predict: %f' %ttime_macro)\n",
        "print('Καλύτερο μοντέλο στο σκορ f1-macro:')\n",
        "print(best_macro)\n",
        "print('---------------------------------------------------------------------------------------')"
      ],
      "execution_count": null,
      "outputs": [
        {
          "output_type": "stream",
          "text": [
            "\u001b[1mMLP με Μin-Max scaler\u001b[0m\n",
            "\n",
            "---------------------------------------------------------------------------------------\n",
            "F1 micro: 0.950617\n",
            "Χρόνος για fit και predict: 28.759223\n",
            "Καλύτερο μοντέλο στο σκορ f1-micro:\n",
            "Pipeline(memory='tmp',\n",
            "         steps=[('scaler', MinMaxScaler()),\n",
            "                ('mlp',\n",
            "                 MLPClassifier(activation='tanh', alpha=0.001,\n",
            "                               hidden_layer_sizes=30, learning_rate='adaptive',\n",
            "                               max_iter=20, solver='lbfgs'))])\n",
            "F1 macro: 0.955964\n",
            "Χρόνος για fit και predict: 27.598255\n",
            "Καλύτερο μοντέλο στο σκορ f1-macro:\n",
            "Pipeline(memory='tmp',\n",
            "         steps=[('scaler', MinMaxScaler()),\n",
            "                ('mlp',\n",
            "                 MLPClassifier(activation='tanh', alpha=0.001,\n",
            "                               hidden_layer_sizes=20, learning_rate='adaptive',\n",
            "                               max_iter=20, solver='lbfgs'))])\n",
            "---------------------------------------------------------------------------------------\n"
          ],
          "name": "stdout"
        }
      ]
    },
    {
      "cell_type": "markdown",
      "metadata": {
        "id": "BeZnRWRIIcSv"
      },
      "source": [
        "Και πάλι παρατηρούμε ακριβώς τα ίδια αποτελέσματα.Φαίνεται πως βρισκόμαστε σε τοπικό (ή ολικό) μέγιστο.Εφαρμόζουμε και την τεχνική ανάλυσης σε κύριες συνιστώσες σε συνδυασμό με την κανονικοποίηση."
      ]
    },
    {
      "cell_type": "markdown",
      "metadata": {
        "id": "aRRxqc_0Iv7n"
      },
      "source": [
        "##### Κανονικοποίηση + PCA"
      ]
    },
    {
      "cell_type": "code",
      "metadata": {
        "id": "crRnY2VfI3ZE",
        "colab": {
          "base_uri": "https://localhost:8080/"
        },
        "outputId": "56548a95-8979-4293-eb18-b0f1c34930b3"
      },
      "source": [
        "#-----------------------------------------------------------------------#\n",
        "#   Pipeline:  Normalization-> PCA -> MLP                                 #\n",
        "#-----------------------------------------------------------------------#\n",
        "n_components = [40, 50, 60, 70, 80]\n",
        "pipe = [('scaler', MinMaxScaler()),('pca', PCA()), ('mlp', MLPClassifier())]\n",
        "\n",
        "grid_params['pca__n_components'] = n_components\n",
        "\n",
        "preds_micro, ttime_micro, best_micro = grid_search(train, test, train_labels, test_labels, pipe, grid_params, 'f1_micro')\n",
        "preds_macro, ttime_macro, best_macro = grid_search(train, test, train_labels, test_labels, pipe, grid_params, 'f1_macro')"
      ],
      "execution_count": null,
      "outputs": [
        {
          "output_type": "stream",
          "text": [
            "Fitting 5 folds for each of 180 candidates, totalling 900 fits\n"
          ],
          "name": "stdout"
        },
        {
          "output_type": "stream",
          "text": [
            "[Parallel(n_jobs=-1)]: Using backend LokyBackend with 2 concurrent workers.\n",
            "[Parallel(n_jobs=-1)]: Done  46 tasks      | elapsed:    5.4s\n",
            "[Parallel(n_jobs=-1)]: Done 196 tasks      | elapsed:   15.3s\n",
            "[Parallel(n_jobs=-1)]: Done 576 tasks      | elapsed:   41.7s\n",
            "[Parallel(n_jobs=-1)]: Done 900 out of 900 | elapsed:  1.1min finished\n"
          ],
          "name": "stderr"
        },
        {
          "output_type": "stream",
          "text": [
            "Fitting 5 folds for each of 180 candidates, totalling 900 fits\n"
          ],
          "name": "stdout"
        },
        {
          "output_type": "stream",
          "text": [
            "[Parallel(n_jobs=-1)]: Using backend LokyBackend with 2 concurrent workers.\n",
            "[Parallel(n_jobs=-1)]: Done  88 tasks      | elapsed:    4.8s\n",
            "[Parallel(n_jobs=-1)]: Done 388 tasks      | elapsed:   24.7s\n",
            "[Parallel(n_jobs=-1)]: Done 888 tasks      | elapsed:   58.4s\n",
            "[Parallel(n_jobs=-1)]: Done 900 out of 900 | elapsed:   59.4s finished\n"
          ],
          "name": "stderr"
        }
      ]
    },
    {
      "cell_type": "code",
      "metadata": {
        "id": "wh1ASVNjJK0k",
        "colab": {
          "base_uri": "https://localhost:8080/"
        },
        "outputId": "dabdfe31-711f-49ef-d8c3-b09cd6b38c24"
      },
      "source": [
        "mlp_f1_micro_opt_sel = f1_score(test_labels, preds_micro, average=\"micro\")\n",
        "mlp_f1_macro_opt_sel = f1_score(test_labels, preds_macro, average=\"macro\")\n",
        "\n",
        "print('\\033[1m'+\"MLP με Μin-Max scaler και PCA\"+'\\033[0m'+'\\n')\n",
        "print('---------------------------------------------------------------------------------------')\n",
        "\n",
        "\n",
        "print('F1 micro: %f' %mlp_f1_micro_opt)\n",
        "print('Χρόνος για fit και predict: %f' %ttime_micro)\n",
        "print('Καλύτερο μοντέλο στο σκορ f1-micro:')\n",
        "print(best_micro)\n",
        "\n",
        "\n",
        "print('F1 macro: %f' %mlp_f1_macro_opt)\n",
        "print('Χρόνος για fit και predict: %f' %ttime_macro)\n",
        "print('Καλύτερο μοντέλο στο σκορ f1-macro:')\n",
        "print(best_macro)\n",
        "print('---------------------------------------------------------------------------------------')"
      ],
      "execution_count": null,
      "outputs": [
        {
          "output_type": "stream",
          "text": [
            "\u001b[1mMLP με Μin-Max scaler και PCA\u001b[0m\n",
            "\n",
            "---------------------------------------------------------------------------------------\n",
            "F1 micro: 0.950617\n",
            "Χρόνος για fit και predict: 63.527445\n",
            "Καλύτερο μοντέλο στο σκορ f1-micro:\n",
            "Pipeline(memory='tmp',\n",
            "         steps=[('scaler', MinMaxScaler()), ('pca', PCA(n_components=70)),\n",
            "                ('mlp',\n",
            "                 MLPClassifier(alpha=0.001, hidden_layer_sizes=30,\n",
            "                               learning_rate='adaptive', max_iter=20,\n",
            "                               solver='lbfgs'))])\n",
            "F1 macro: 0.955964\n",
            "Χρόνος για fit και predict: 59.785499\n",
            "Καλύτερο μοντέλο στο σκορ f1-macro:\n",
            "Pipeline(memory='tmp',\n",
            "         steps=[('scaler', MinMaxScaler()), ('pca', PCA(n_components=80)),\n",
            "                ('mlp',\n",
            "                 MLPClassifier(activation='tanh', alpha=0.001,\n",
            "                               hidden_layer_sizes=20, learning_rate='adaptive',\n",
            "                               max_iter=20, solver='lbfgs'))])\n",
            "---------------------------------------------------------------------------------------\n"
          ],
          "name": "stdout"
        }
      ]
    },
    {
      "cell_type": "markdown",
      "metadata": {
        "id": "ijvCZMLWLHip"
      },
      "source": [
        "##### Aποτελέσματα στο MLP"
      ]
    },
    {
      "cell_type": "markdown",
      "metadata": {
        "id": "_B55RTeMLRTR"
      },
      "source": [
        "Παρά τις προσπάθειές μας για βελτιστοποίηση της αρχιτεκτονικής,δεν καταφέραμε καλύτερα αποτελέσματα από αυτά που πετύχαμε μετά την αρχική βελτιστοποίηση υπερ-παραμέτρων πριν την προεργασία δεδομένων.Αυτή η παραδοχή μας αποδεικνύει την αρχική μας υπόθεση,πως δηλαδή έχουμε πέσει σε ένα τοπικό (ή ολικό) μέγιστο της συνάρτησης και πως παρά τις προσπάθειές μας για βελτιστοποίηση είναι αδύνατο για κοντινές τιμές των παραμέτρων από αυτές που έχουμε επιλέξει να επιφέρουμε καλύτερα αποτελέσματα."
      ]
    },
    {
      "cell_type": "markdown",
      "metadata": {
        "id": "KdzyKts9iDmI"
      },
      "source": [
        "Καναμε μερικές δοκιμές χωρίς τη χρήση των διάφορων μέσων προεπεξεργασίας δεδομένων χρησιμοποιώντας στα αντίστοιχα πεδία τις βέλτιστες τιμές που προέκυψαν από το cross validation. Από τις τιμές των f1 όπου προέκυψαν καταλήγουμε στα εξής συμπεράσματα: Η χρήση selector βελτιώνει τα αποτελέματα όπως αναφέρθηκε και νωρίτερα, όμοια και η χρήση PCA, μιας και με 70 συνιστώσες κρατάμε πιθανότατα όλο το ποσοστό πληροφορίας που απαιτείται για να έχουμε βέλτιστα αποτελέσματα. Σημαντική διαφορά παρατηρείται με τη χρήση και με scaler, ενώ και η χρήση του oversampling δίνει καλύτερο αποτέλεσμα της μετρικής f1 macro και ίδιο αποτέλεσμα στη μετρική f1 micro. "
      ]
    },
    {
      "cell_type": "markdown",
      "metadata": {
        "id": "ObL6nDZ_MmF7"
      },
      "source": [
        "#### SVM Tuning"
      ]
    },
    {
      "cell_type": "markdown",
      "metadata": {
        "id": "7zhZPwc0Xwpb"
      },
      "source": [
        "##### Linear Kernel "
      ]
    },
    {
      "cell_type": "markdown",
      "metadata": {
        "id": "rkiq2uEIQeqb"
      },
      "source": [
        "<h5>1st Search</h5>"
      ]
    },
    {
      "cell_type": "code",
      "metadata": {
        "id": "zTfBuqr1XiIN",
        "colab": {
          "base_uri": "https://localhost:8080/"
        },
        "outputId": "a8073f9d-0f0f-4bd5-ff60-10a15512cac1"
      },
      "source": [
        "#---------------------------------------------------------------------#\n",
        "# Yπερπαραμέτρoι του SVC για βελτιστοποίηση: loss, tol, C             #\n",
        "#---------------------------------------------------------------------#\n",
        "svc = LinearSVC()\n",
        "scaler = MinMaxScaler()\n",
        "selector = VarianceThreshold()\n",
        "pca = PCA()\n",
        "\n",
        "LinearSVC_param = {\n",
        "              'linearsvc__C': [1, 5, 10],\n",
        "              'linearsvc__tol': [0.0001, 0.0005, 0.001, 0.005],\n",
        "              'linearsvc__loss':['hinge', 'squared_hinge'],\n",
        "              'pca__n_components': [60, 70, 80],\n",
        "              'linearsvc__multi_class':['ovr', 'crammer_singer']\n",
        "              }\n",
        "\n",
        "pipe = make_pipeline(scaler,pca,svc)\n",
        "\n",
        "linearsvc_macro = GridSearchCV(pipe, LinearSVC_param, cv=5, scoring='f1_macro',n_jobs=-1, verbose=1)\n",
        "linearsvc_micro = GridSearchCV(pipe, LinearSVC_param, cv=5, scoring='f1_micro', n_jobs=-1, verbose=1)\n",
        "%time linearsvc_macro.fit(train, train_labels)\n",
        "%time linearsvc_micro.fit(train, train_labels)"
      ],
      "execution_count": null,
      "outputs": [
        {
          "output_type": "stream",
          "text": [
            "Fitting 5 folds for each of 144 candidates, totalling 720 fits\n"
          ],
          "name": "stdout"
        },
        {
          "output_type": "stream",
          "text": [
            "[Parallel(n_jobs=-1)]: Using backend LokyBackend with 2 concurrent workers.\n",
            "[Parallel(n_jobs=-1)]: Done  46 tasks      | elapsed:    5.9s\n",
            "[Parallel(n_jobs=-1)]: Done 196 tasks      | elapsed:   23.0s\n",
            "[Parallel(n_jobs=-1)]: Done 446 tasks      | elapsed:  1.0min\n",
            "[Parallel(n_jobs=-1)]: Done 720 out of 720 | elapsed:  1.8min finished\n"
          ],
          "name": "stderr"
        },
        {
          "output_type": "stream",
          "text": [
            "CPU times: user 3.36 s, sys: 461 ms, total: 3.82 s\n",
            "Wall time: 1min 50s\n",
            "Fitting 5 folds for each of 144 candidates, totalling 720 fits\n"
          ],
          "name": "stdout"
        },
        {
          "output_type": "stream",
          "text": [
            "[Parallel(n_jobs=-1)]: Using backend LokyBackend with 2 concurrent workers.\n",
            "[Parallel(n_jobs=-1)]: Done  46 tasks      | elapsed:    4.6s\n",
            "[Parallel(n_jobs=-1)]: Done 196 tasks      | elapsed:   21.5s\n",
            "[Parallel(n_jobs=-1)]: Done 446 tasks      | elapsed:   56.4s\n",
            "[Parallel(n_jobs=-1)]: Done 720 out of 720 | elapsed:  1.8min finished\n"
          ],
          "name": "stderr"
        },
        {
          "output_type": "stream",
          "text": [
            "CPU times: user 3.27 s, sys: 276 ms, total: 3.55 s\n",
            "Wall time: 1min 48s\n"
          ],
          "name": "stdout"
        },
        {
          "output_type": "execute_result",
          "data": {
            "text/plain": [
              "GridSearchCV(cv=5,\n",
              "             estimator=Pipeline(steps=[('minmaxscaler', MinMaxScaler()),\n",
              "                                       ('pca', PCA()),\n",
              "                                       ('linearsvc', LinearSVC())]),\n",
              "             n_jobs=-1,\n",
              "             param_grid={'linearsvc__C': [1, 5, 10],\n",
              "                         'linearsvc__loss': ['hinge', 'squared_hinge'],\n",
              "                         'linearsvc__multi_class': ['ovr', 'crammer_singer'],\n",
              "                         'linearsvc__tol': [0.0001, 0.0005, 0.001, 0.005],\n",
              "                         'pca__n_components': [60, 70, 80]},\n",
              "             scoring='f1_micro', verbose=1)"
            ]
          },
          "metadata": {
            "tags": []
          },
          "execution_count": 93
        }
      ]
    },
    {
      "cell_type": "code",
      "metadata": {
        "colab": {
          "base_uri": "https://localhost:8080/"
        },
        "id": "K6lnqU9FDphB",
        "outputId": "fd650076-bac9-450a-e024-2b15e491a1fd"
      },
      "source": [
        "preds_micro = linearsvc_micro.predict(test) \n",
        "preds_macro = linearsvc_macro.predict(test)\n",
        "LinearSVC_f1_micro_opt = f1_score(test_labels, preds_micro, average=\"micro\")\n",
        "LinearSVC_f1_macro_opt = f1_score(test_labels, preds_macro, average=\"macro\")\n",
        "\n",
        "print('\\033[1m'+\"F1-micro:\"+'\\033[0m'+'\\n')\n",
        "print('---------------------------------------------------------------------------------------')\n",
        "print('F1 micro: %f' %LinearSVC_f1_micro_opt)\n",
        "print('Καλύτερο μοντέλο στο σκορ f1-micro:')\n",
        "print(linearsvc_micro.best_estimator_)\n",
        "print(\"Best parameters = \",linearsvc_micro.best_params_)\n",
        "print('---------------------------------------------------------------------------------------')\n",
        "print('\\033[1m'+\"\\n\\nF1-macro:\"+'\\033[0m'+'\\n')\n",
        "print('---------------------------------------------------------------------------------------')\n",
        "print('F1 macro: %f' %LinearSVC_f1_macro_opt)\n",
        "print('Καλύτερο μοντέλο στο σκορ f1-macro:')\n",
        "print(linearsvc_macro.best_estimator_)\n",
        "print(\"Best parameters = \",linearsvc_macro.best_params_)\n",
        "print('---------------------------------------------------------------------------------------')"
      ],
      "execution_count": null,
      "outputs": [
        {
          "output_type": "stream",
          "text": [
            "\u001b[1mF1-micro:\u001b[0m\n",
            "\n",
            "---------------------------------------------------------------------------------------\n",
            "F1 micro: 0.938272\n",
            "Καλύτερο μοντέλο στο σκορ f1-micro:\n",
            "Pipeline(steps=[('minmaxscaler', MinMaxScaler()), ('pca', PCA(n_components=80)),\n",
            "                ('linearsvc', LinearSVC(C=1, tol=0.005))])\n",
            "Best parameters =  {'linearsvc__C': 1, 'linearsvc__loss': 'squared_hinge', 'linearsvc__multi_class': 'ovr', 'linearsvc__tol': 0.005, 'pca__n_components': 80}\n",
            "---------------------------------------------------------------------------------------\n",
            "\u001b[1m\n",
            "\n",
            "F1-macro:\u001b[0m\n",
            "\n",
            "---------------------------------------------------------------------------------------\n",
            "F1 macro: 0.934861\n",
            "Καλύτερο μοντέλο στο σκορ f1-macro:\n",
            "Pipeline(steps=[('minmaxscaler', MinMaxScaler()), ('pca', PCA(n_components=80)),\n",
            "                ('linearsvc', LinearSVC(C=1))])\n",
            "Best parameters =  {'linearsvc__C': 1, 'linearsvc__loss': 'squared_hinge', 'linearsvc__multi_class': 'ovr', 'linearsvc__tol': 0.0001, 'pca__n_components': 80}\n",
            "---------------------------------------------------------------------------------------\n"
          ],
          "name": "stdout"
        }
      ]
    },
    {
      "cell_type": "markdown",
      "metadata": {
        "id": "iriuN7EjQUz8"
      },
      "source": [
        "<h5>Progressive Search (2nd)</h5>"
      ]
    },
    {
      "cell_type": "code",
      "metadata": {
        "colab": {
          "base_uri": "https://localhost:8080/"
        },
        "id": "CGzoIgvIQT6-",
        "outputId": "3a96e785-ba83-4ac6-e395-884c5e0e9749"
      },
      "source": [
        "LinearSVC_param = {\n",
        "              'linearsvc__C': [1, 2, 3],\n",
        "              'linearsvc__tol': [ 0.0005, 0.00075, 0.001, 0.0015],\n",
        "              'linearsvc__loss':['hinge', 'squared_hinge'],\n",
        "              'pca__n_components': [80,85,90,95],\n",
        "              'linearsvc__multi_class':['ovr', 'crammer_singer']\n",
        "              }\n",
        "\n",
        "pipe = make_pipeline(scaler,pca,svc)\n",
        "\n",
        "linearsvc_macro = GridSearchCV(pipe, LinearSVC_param, cv=5, scoring='f1_macro',n_jobs=-1, verbose=1)\n",
        "linearsvc_micro = GridSearchCV(pipe, LinearSVC_param, cv=5, scoring='f1_micro', n_jobs=-1, verbose=1)\n",
        "%time linearsvc_macro.fit(train, train_labels)\n",
        "%time linearsvc_micro.fit(train, train_labels)"
      ],
      "execution_count": null,
      "outputs": [
        {
          "output_type": "stream",
          "text": [
            "Fitting 5 folds for each of 192 candidates, totalling 960 fits\n"
          ],
          "name": "stdout"
        },
        {
          "output_type": "stream",
          "text": [
            "[Parallel(n_jobs=-1)]: Using backend LokyBackend with 2 concurrent workers.\n",
            "[Parallel(n_jobs=-1)]: Done  46 tasks      | elapsed:    4.8s\n",
            "[Parallel(n_jobs=-1)]: Done 196 tasks      | elapsed:   22.0s\n",
            "[Parallel(n_jobs=-1)]: Done 446 tasks      | elapsed:   53.3s\n",
            "[Parallel(n_jobs=-1)]: Done 796 tasks      | elapsed:  1.7min\n",
            "[Parallel(n_jobs=-1)]: Done 960 out of 960 | elapsed:  2.1min finished\n"
          ],
          "name": "stderr"
        },
        {
          "output_type": "stream",
          "text": [
            "CPU times: user 4.45 s, sys: 490 ms, total: 4.94 s\n",
            "Wall time: 2min 3s\n",
            "Fitting 5 folds for each of 192 candidates, totalling 960 fits\n"
          ],
          "name": "stdout"
        },
        {
          "output_type": "stream",
          "text": [
            "[Parallel(n_jobs=-1)]: Using backend LokyBackend with 2 concurrent workers.\n",
            "[Parallel(n_jobs=-1)]: Done  88 tasks      | elapsed:    9.4s\n",
            "[Parallel(n_jobs=-1)]: Done 388 tasks      | elapsed:   44.1s\n",
            "[Parallel(n_jobs=-1)]: Done 888 tasks      | elapsed:  1.8min\n",
            "[Parallel(n_jobs=-1)]: Done 960 out of 960 | elapsed:  2.0min finished\n"
          ],
          "name": "stderr"
        },
        {
          "output_type": "stream",
          "text": [
            "CPU times: user 3.18 s, sys: 287 ms, total: 3.47 s\n",
            "Wall time: 2min 1s\n"
          ],
          "name": "stdout"
        },
        {
          "output_type": "execute_result",
          "data": {
            "text/plain": [
              "GridSearchCV(cv=5,\n",
              "             estimator=Pipeline(steps=[('minmaxscaler', MinMaxScaler()),\n",
              "                                       ('pca', PCA()),\n",
              "                                       ('linearsvc', LinearSVC())]),\n",
              "             n_jobs=-1,\n",
              "             param_grid={'linearsvc__C': [1, 2, 3],\n",
              "                         'linearsvc__loss': ['hinge', 'squared_hinge'],\n",
              "                         'linearsvc__multi_class': ['ovr', 'crammer_singer'],\n",
              "                         'linearsvc__tol': [0.0005, 0.00075, 0.001, 0.0015],\n",
              "                         'pca__n_components': [80, 85, 90, 95]},\n",
              "             scoring='f1_micro', verbose=1)"
            ]
          },
          "metadata": {
            "tags": []
          },
          "execution_count": 95
        }
      ]
    },
    {
      "cell_type": "code",
      "metadata": {
        "colab": {
          "base_uri": "https://localhost:8080/",
          "height": 530
        },
        "id": "YQkilKrIRw-I",
        "outputId": "17037872-04c2-40c7-e554-d6793706be70"
      },
      "source": [
        "preds_micro = linearsvc_micro.predict(test) \n",
        "preds_macro = linearsvc_macro.predict(test)\n",
        "LinearSVC_f1_micro_opt = f1_score(test_labels, preds_micro, average=\"micro\")\n",
        "LinearSVC_f1_macro_opt = f1_score(test_labels, preds_macro, average=\"macro\")\n",
        "\n",
        "print('\\033[1m'+\"F1-micro:\"+'\\033[0m'+'\\n')\n",
        "print('---------------------------------------------------------------------------------------')\n",
        "print('F1 micro: %f' %LinearSVC_f1_micro_opt)\n",
        "print('Καλύτερο μοντέλο στο σκορ f1-micro:')\n",
        "print(linearsvc_micro.best_estimator_)\n",
        "print(\"Best parameters = \",linearsvc_micro.best_params_)\n",
        "plot_classification_report(test_labels,preds_micro)\n",
        " \n",
        "print('---------------------------------------------------------------------------------------')"
      ],
      "execution_count": null,
      "outputs": [
        {
          "output_type": "stream",
          "text": [
            "\u001b[1mF1-micro:\u001b[0m\n",
            "\n",
            "---------------------------------------------------------------------------------------\n",
            "F1 micro: 0.947531\n",
            "Καλύτερο μοντέλο στο σκορ f1-micro:\n",
            "Pipeline(steps=[('minmaxscaler', MinMaxScaler()), ('pca', PCA(n_components=95)),\n",
            "                ('linearsvc', LinearSVC(C=1, tol=0.0015))])\n",
            "Best parameters =  {'linearsvc__C': 1, 'linearsvc__loss': 'squared_hinge', 'linearsvc__multi_class': 'ovr', 'linearsvc__tol': 0.0015, 'pca__n_components': 95}\n"
          ],
          "name": "stdout"
        },
        {
          "output_type": "display_data",
          "data": {
            "image/png": "[encoded data removed]",
            "text/plain": [
              "<Figure size 360x360 with 1 Axes>"
            ]
          },
          "metadata": {
            "tags": [],
            "needs_background": "light"
          }
        },
        {
          "output_type": "stream",
          "text": [
            "---------------------------------------------------------------------------------------\n"
          ],
          "name": "stdout"
        }
      ]
    },
    {
      "cell_type": "code",
      "metadata": {
        "colab": {
          "base_uri": "https://localhost:8080/",
          "height": 565
        },
        "id": "ChDQ5nxqS-SZ",
        "outputId": "56ff56f6-5e26-4913-8ef1-9f82f2eed976"
      },
      "source": [
        "print('\\033[1m'+\"\\n\\nF1-macro:\"+'\\033[0m'+'\\n')\n",
        "print('---------------------------------------------------------------------------------------')\n",
        "print('F1 macro: %f' %LinearSVC_f1_macro_opt)\n",
        "print('Καλύτερο μοντέλο στο σκορ f1-macro:')\n",
        "print(linearsvc_macro.best_estimator_)\n",
        "print(\"Best parameters = \",linearsvc_macro.best_params_)\n",
        "plot_classification_report(test_labels,preds_macro)\n",
        "\n",
        "print('---------------------------------------------------------------------------------------')"
      ],
      "execution_count": null,
      "outputs": [
        {
          "output_type": "stream",
          "text": [
            "\u001b[1m\n",
            "\n",
            "F1-macro:\u001b[0m\n",
            "\n",
            "---------------------------------------------------------------------------------------\n",
            "F1 macro: 0.943645\n",
            "Καλύτερο μοντέλο στο σκορ f1-macro:\n",
            "Pipeline(steps=[('minmaxscaler', MinMaxScaler()), ('pca', PCA(n_components=85)),\n",
            "                ('linearsvc', LinearSVC(C=1, tol=0.001))])\n",
            "Best parameters =  {'linearsvc__C': 1, 'linearsvc__loss': 'squared_hinge', 'linearsvc__multi_class': 'ovr', 'linearsvc__tol': 0.001, 'pca__n_components': 85}\n"
          ],
          "name": "stdout"
        },
        {
          "output_type": "display_data",
          "data": {
            "image/png": "[encoded data removed]",
            "text/plain": [
              "<Figure size 360x360 with 1 Axes>"
            ]
          },
          "metadata": {
            "tags": [],
            "needs_background": "light"
          }
        },
        {
          "output_type": "stream",
          "text": [
            "---------------------------------------------------------------------------------------\n"
          ],
          "name": "stdout"
        }
      ]
    },
    {
      "cell_type": "markdown",
      "metadata": {
        "id": "dejjhCftXzUk"
      },
      "source": [
        "##### Other Kernels"
      ]
    },
    {
      "cell_type": "markdown",
      "metadata": {
        "id": "v8SplplI16d1"
      },
      "source": [
        "<h5>1st Search</h5>"
      ]
    },
    {
      "cell_type": "code",
      "metadata": {
        "id": "ZsQvXCJ6m604",
        "colab": {
          "base_uri": "https://localhost:8080/"
        },
        "outputId": "e5658185-24f2-4f2f-b430-dc148e6ab97c"
      },
      "source": [
        "svc = SVC(class_weight=None)\n",
        "\n",
        "param_grid = {'pca__n_components': [65, 70, 75],\n",
        "              'svc__kernel': ['poly', 'rbf', 'sigmoid', 'precomputed'],\n",
        "              'svc__C': [1, 5, 10, 50],\n",
        "              'svc__gamma': [0.0001, 0.0005, 0.001, 0.005],\n",
        "              'svc__degree':[1,3,5,7],              \n",
        "              }\n",
        "\n",
        "\n",
        "pipe = Pipeline(steps=[('selector', selector),('scaler',scaler),('pca',pca),('SVC', svc)], memory = 'tmp')\n",
        "pipe = make_pipeline(scaler,pca,svc)\n",
        "\n",
        "linearsvc_macro = GridSearchCV(pipe, param_grid, cv=5, scoring='f1_macro',n_jobs=-1, verbose=1)\n",
        "linearsvc_micro = GridSearchCV(pipe, param_grid, cv=5, scoring='f1_micro', n_jobs=-1, verbose=1)\n",
        "%time linearsvc_macro.fit(train, train_labels)\n",
        "%time linearsvc_micro.fit(train, train_labels)"
      ],
      "execution_count": null,
      "outputs": [
        {
          "output_type": "stream",
          "text": [
            "Fitting 5 folds for each of 768 candidates, totalling 3840 fits\n"
          ],
          "name": "stdout"
        },
        {
          "output_type": "stream",
          "text": [
            "[Parallel(n_jobs=-1)]: Using backend LokyBackend with 2 concurrent workers.\n",
            "[Parallel(n_jobs=-1)]: Done  46 tasks      | elapsed:    5.9s\n",
            "[Parallel(n_jobs=-1)]: Done 196 tasks      | elapsed:   21.0s\n",
            "[Parallel(n_jobs=-1)]: Done 446 tasks      | elapsed:   45.9s\n",
            "[Parallel(n_jobs=-1)]: Done 796 tasks      | elapsed:  1.3min\n",
            "[Parallel(n_jobs=-1)]: Done 1246 tasks      | elapsed:  2.1min\n",
            "[Parallel(n_jobs=-1)]: Done 1796 tasks      | elapsed:  3.0min\n",
            "[Parallel(n_jobs=-1)]: Done 2446 tasks      | elapsed:  4.1min\n",
            "[Parallel(n_jobs=-1)]: Done 3196 tasks      | elapsed:  5.4min\n",
            "[Parallel(n_jobs=-1)]: Done 3840 out of 3840 | elapsed:  6.5min finished\n"
          ],
          "name": "stderr"
        },
        {
          "output_type": "stream",
          "text": [
            "CPU times: user 17.6 s, sys: 1.12 s, total: 18.7 s\n",
            "Wall time: 6min 32s\n",
            "Fitting 5 folds for each of 768 candidates, totalling 3840 fits\n"
          ],
          "name": "stdout"
        },
        {
          "output_type": "stream",
          "text": [
            "[Parallel(n_jobs=-1)]: Using backend LokyBackend with 2 concurrent workers.\n",
            "[Parallel(n_jobs=-1)]: Done  46 tasks      | elapsed:    4.7s\n",
            "[Parallel(n_jobs=-1)]: Done 196 tasks      | elapsed:   19.8s\n",
            "[Parallel(n_jobs=-1)]: Done 446 tasks      | elapsed:   45.2s\n",
            "[Parallel(n_jobs=-1)]: Done 796 tasks      | elapsed:  1.3min\n",
            "[Parallel(n_jobs=-1)]: Done 1246 tasks      | elapsed:  2.0min\n",
            "[Parallel(n_jobs=-1)]: Done 1796 tasks      | elapsed:  3.0min\n",
            "[Parallel(n_jobs=-1)]: Done 2446 tasks      | elapsed:  4.1min\n",
            "[Parallel(n_jobs=-1)]: Done 3196 tasks      | elapsed:  5.4min\n",
            "[Parallel(n_jobs=-1)]: Done 3840 out of 3840 | elapsed:  6.6min finished\n"
          ],
          "name": "stderr"
        },
        {
          "output_type": "stream",
          "text": [
            "CPU times: user 17.4 s, sys: 1.11 s, total: 18.5 s\n",
            "Wall time: 6min 34s\n"
          ],
          "name": "stdout"
        },
        {
          "output_type": "execute_result",
          "data": {
            "text/plain": [
              "GridSearchCV(cv=5,\n",
              "             estimator=Pipeline(steps=[('minmaxscaler', MinMaxScaler()),\n",
              "                                       ('pca', PCA()), ('svc', SVC())]),\n",
              "             n_jobs=-1,\n",
              "             param_grid={'pca__n_components': [65, 70, 75],\n",
              "                         'svc__C': [1, 5, 10, 50], 'svc__degree': [1, 3, 5, 7],\n",
              "                         'svc__gamma': [0.0001, 0.0005, 0.001, 0.005],\n",
              "                         'svc__kernel': ['poly', 'rbf', 'sigmoid',\n",
              "                                         'precomputed']},\n",
              "             scoring='f1_micro', verbose=1)"
            ]
          },
          "metadata": {
            "tags": []
          },
          "execution_count": 133
        }
      ]
    },
    {
      "cell_type": "code",
      "metadata": {
        "colab": {
          "base_uri": "https://localhost:8080/"
        },
        "id": "k6kFpu7CnPcL",
        "outputId": "2ae2ff53-53b5-4473-f421-0675ad13ecdf"
      },
      "source": [
        "preds_micro = linearsvc_micro.predict(test) \n",
        "preds_macro = linearsvc_macro.predict(test)\n",
        "LinearSVC_f1_micro_opt = f1_score(test_labels, preds_micro, average=\"micro\")\n",
        "LinearSVC_f1_macro_opt = f1_score(test_labels, preds_macro, average=\"macro\")\n",
        "\n",
        "print('\\033[1m'+\"F1-micro\"+'\\033[0m'+'\\n')\n",
        "print('---------------------------------------------------------------------------------------')\n",
        "print('\\nF1 micro: %f' %LinearSVC_f1_micro_opt)\n",
        "print('\\nΚαλύτερο μοντέλο στο σκορ f1-micro:')\n",
        "print(linearsvc_micro.best_estimator_)\n",
        "print(\"\\nBest parameters = \",linearsvc_micro.best_params_)\n",
        "print(classification_report(test_labels,preds_micro),\"\\n\\n\")\n",
        "\n",
        "print('---------------------------------------------------------------------------------------')\n",
        "\n",
        "print('\\033[1m'+\"\\n\\nF1-macro:\"+'\\033[0m'+'\\n')\n",
        "print('---------------------------------------------------------------------------------------')\n",
        "print('\\n\\nF1 macro %f' %LinearSVC_f1_macro_opt)\n",
        "print('\\nΚαλύτερο μοντέλο στο σκορ f1-macro:')\n",
        "print(linearsvc_macro.best_estimator_)\n",
        "print(\"\\nBest parameters = \",linearsvc_macro.best_params_)\n",
        "print(classification_report(test_labels,preds_macro),\"\\n\\n\")\n",
        "\n",
        "print('---------------------------------------------------------------------------------------')"
      ],
      "execution_count": null,
      "outputs": [
        {
          "output_type": "stream",
          "text": [
            "\u001b[1mF1-micro\u001b[0m\n",
            "\n",
            "---------------------------------------------------------------------------------------\n",
            "\n",
            "F1 micro: 0.904321\n",
            "\n",
            "Καλύτερο μοντέλο στο σκορ f1-micro:\n",
            "Pipeline(steps=[('minmaxscaler', MinMaxScaler()), ('pca', PCA(n_components=70)),\n",
            "                ('svc', SVC(C=50, degree=1, gamma=0.005))])\n",
            "\n",
            "Best parameters =  {'pca__n_components': 70, 'svc__C': 50, 'svc__degree': 1, 'svc__gamma': 0.005, 'svc__kernel': 'rbf'}\n",
            "              precision    recall  f1-score   support\n",
            "\n",
            "           1       1.00      0.93      0.96        42\n",
            "           2       0.81      0.97      0.88        35\n",
            "           3       0.94      0.92      0.93        37\n",
            "           4       0.78      0.94      0.85        33\n",
            "           5       1.00      1.00      1.00        37\n",
            "           6       0.96      0.73      0.83        37\n",
            "           7       0.96      0.81      0.88        32\n",
            "           8       1.00      0.91      0.95        32\n",
            "           9       0.78      0.92      0.85        39\n",
            "\n",
            "    accuracy                           0.90       324\n",
            "   macro avg       0.92      0.90      0.90       324\n",
            "weighted avg       0.92      0.90      0.91       324\n",
            " \n",
            "\n",
            "\n",
            "---------------------------------------------------------------------------------------\n",
            "\u001b[1m\n",
            "\n",
            "F1-macro:\u001b[0m\n",
            "\n",
            "---------------------------------------------------------------------------------------\n",
            "\n",
            "\n",
            "F1 macro 0.904090\n",
            "\n",
            "Καλύτερο μοντέλο στο σκορ f1-macro:\n",
            "Pipeline(steps=[('minmaxscaler', MinMaxScaler()), ('pca', PCA(n_components=70)),\n",
            "                ('svc', SVC(C=50, degree=7, gamma=0.005))])\n",
            "\n",
            "Best parameters =  {'pca__n_components': 70, 'svc__C': 50, 'svc__degree': 7, 'svc__gamma': 0.005, 'svc__kernel': 'rbf'}\n",
            "              precision    recall  f1-score   support\n",
            "\n",
            "           1       1.00      0.93      0.96        42\n",
            "           2       0.83      0.97      0.89        35\n",
            "           3       0.92      0.92      0.92        37\n",
            "           4       0.74      0.94      0.83        33\n",
            "           5       1.00      1.00      1.00        37\n",
            "           6       0.96      0.73      0.83        37\n",
            "           7       0.96      0.81      0.88        32\n",
            "           8       1.00      0.94      0.97        32\n",
            "           9       0.81      0.90      0.85        39\n",
            "\n",
            "    accuracy                           0.90       324\n",
            "   macro avg       0.91      0.90      0.90       324\n",
            "weighted avg       0.92      0.90      0.91       324\n",
            " \n",
            "\n",
            "\n",
            "---------------------------------------------------------------------------------------\n"
          ],
          "name": "stdout"
        }
      ]
    },
    {
      "cell_type": "markdown",
      "metadata": {
        "id": "URfxybxE2CMf"
      },
      "source": [
        "<h5>2nd Search (Progressive)</h5>"
      ]
    },
    {
      "cell_type": "code",
      "metadata": {
        "colab": {
          "base_uri": "https://localhost:8080/"
        },
        "id": "dB2mAXN62J2A",
        "outputId": "be78a34e-86dc-41c5-a3c0-89a3e8db9512"
      },
      "source": [
        "svc = SVC(class_weight=None)\n",
        "\n",
        "param_grid = {'pca__n_components': [65, 70, 75],\n",
        "              'svc__kernel': ['poly', 'rbf', 'sigmoid', 'precomputed'],\n",
        "              'svc__C': [ 50,55,60,70],\n",
        "              'svc__gamma': [ 0.005, 0.01, 0.015],\n",
        "              'svc__degree':[1,2,7,9,11],              \n",
        "              }\n",
        "\n",
        "\n",
        "pipe = Pipeline(steps=[('selector', selector),('scaler',scaler),('pca',pca),('SVC', svc)], memory = 'tmp')\n",
        "pipe = make_pipeline(scaler,pca,svc)\n",
        "\n",
        "linearsvc_macro = GridSearchCV(pipe, param_grid, cv=5, scoring='f1_macro',n_jobs=-1, verbose=1)\n",
        "linearsvc_micro = GridSearchCV(pipe, param_grid, cv=5, scoring='f1_micro', n_jobs=-1, verbose=1)\n",
        "%time linearsvc_macro.fit(train, train_labels)\n",
        "%time linearsvc_micro.fit(train, train_labels)"
      ],
      "execution_count": null,
      "outputs": [
        {
          "output_type": "stream",
          "text": [
            "Fitting 5 folds for each of 720 candidates, totalling 3600 fits\n"
          ],
          "name": "stdout"
        },
        {
          "output_type": "stream",
          "text": [
            "[Parallel(n_jobs=-1)]: Using backend LokyBackend with 2 concurrent workers.\n",
            "[Parallel(n_jobs=-1)]: Done  46 tasks      | elapsed:    5.0s\n",
            "[Parallel(n_jobs=-1)]: Done 196 tasks      | elapsed:   17.5s\n",
            "[Parallel(n_jobs=-1)]: Done 446 tasks      | elapsed:   37.8s\n",
            "[Parallel(n_jobs=-1)]: Done 796 tasks      | elapsed:  1.1min\n",
            "[Parallel(n_jobs=-1)]: Done 1246 tasks      | elapsed:  1.7min\n",
            "[Parallel(n_jobs=-1)]: Done 1796 tasks      | elapsed:  2.5min\n",
            "[Parallel(n_jobs=-1)]: Done 2446 tasks      | elapsed:  3.4min\n",
            "[Parallel(n_jobs=-1)]: Done 3196 tasks      | elapsed:  4.5min\n",
            "[Parallel(n_jobs=-1)]: Done 3600 out of 3600 | elapsed:  5.1min finished\n"
          ],
          "name": "stderr"
        },
        {
          "output_type": "stream",
          "text": [
            "CPU times: user 16 s, sys: 1.03 s, total: 17 s\n",
            "Wall time: 5min 6s\n",
            "Fitting 5 folds for each of 720 candidates, totalling 3600 fits\n"
          ],
          "name": "stdout"
        },
        {
          "output_type": "stream",
          "text": [
            "[Parallel(n_jobs=-1)]: Using backend LokyBackend with 2 concurrent workers.\n",
            "[Parallel(n_jobs=-1)]: Done  88 tasks      | elapsed:    7.0s\n",
            "[Parallel(n_jobs=-1)]: Done 388 tasks      | elapsed:   30.9s\n",
            "[Parallel(n_jobs=-1)]: Done 888 tasks      | elapsed:  1.2min\n",
            "[Parallel(n_jobs=-1)]: Done 1588 tasks      | elapsed:  2.1min\n",
            "[Parallel(n_jobs=-1)]: Done 2488 tasks      | elapsed:  3.4min\n",
            "[Parallel(n_jobs=-1)]: Done 3588 tasks      | elapsed:  5.0min\n",
            "[Parallel(n_jobs=-1)]: Done 3600 out of 3600 | elapsed:  5.0min finished\n"
          ],
          "name": "stderr"
        },
        {
          "output_type": "stream",
          "text": [
            "CPU times: user 11.4 s, sys: 755 ms, total: 12.1 s\n",
            "Wall time: 5min\n"
          ],
          "name": "stdout"
        },
        {
          "output_type": "execute_result",
          "data": {
            "text/plain": [
              "GridSearchCV(cv=5,\n",
              "             estimator=Pipeline(steps=[('minmaxscaler', MinMaxScaler()),\n",
              "                                       ('pca', PCA()), ('svc', SVC())]),\n",
              "             n_jobs=-1,\n",
              "             param_grid={'pca__n_components': [65, 70, 75],\n",
              "                         'svc__C': [50, 55, 60, 70],\n",
              "                         'svc__degree': [1, 2, 7, 9, 11],\n",
              "                         'svc__gamma': [0.005, 0.01, 0.015],\n",
              "                         'svc__kernel': ['poly', 'rbf', 'sigmoid',\n",
              "                                         'precomputed']},\n",
              "             scoring='f1_micro', verbose=1)"
            ]
          },
          "metadata": {
            "tags": []
          },
          "execution_count": 114
        }
      ]
    },
    {
      "cell_type": "code",
      "metadata": {
        "colab": {
          "base_uri": "https://localhost:8080/"
        },
        "id": "ft1mxvq02J2D",
        "outputId": "112a7a71-0ab3-4e04-a34e-43eb40bf0fd0"
      },
      "source": [
        "preds_micro = linearsvc_micro.predict(test) \n",
        "preds_macro = linearsvc_macro.predict(test)\n",
        "LinearSVC_f1_micro_opt = f1_score(test_labels, preds_micro, average=\"micro\")\n",
        "LinearSVC_f1_macro_opt = f1_score(test_labels, preds_macro, average=\"macro\")\n",
        "\n",
        "print('\\033[1m'+\"F1-micro\"+'\\033[0m'+'\\n')\n",
        "print('---------------------------------------------------------------------------------------')\n",
        "print('\\nF1 micro: %f' %LinearSVC_f1_micro_opt)\n",
        "print('\\nΚαλύτερο μοντέλο στο σκορ f1-micro:')\n",
        "print(linearsvc_micro.best_estimator_)\n",
        "print(\"\\nBest parameters = \",linearsvc_micro.best_params_)\n",
        "print(classification_report(test_labels,preds_micro),\"\\n\\n\")\n",
        "\n",
        "print('---------------------------------------------------------------------------------------')\n",
        "\n",
        "print('\\033[1m'+\"\\n\\nF1-macro:\"+'\\033[0m'+'\\n')\n",
        "print('---------------------------------------------------------------------------------------')\n",
        "print('\\n\\nF1 macro %f' %LinearSVC_f1_macro_opt)\n",
        "print('\\nΚαλύτερο μοντέλο στο σκορ f1-macro:')\n",
        "print(linearsvc_macro.best_estimator_)\n",
        "print(\"\\nBest parameters = \",linearsvc_macro.best_params_)\n",
        "print(classification_report(test_labels,preds_macro),\"\\n\\n\")\n",
        "\n",
        "print('---------------------------------------------------------------------------------------')"
      ],
      "execution_count": null,
      "outputs": [
        {
          "output_type": "stream",
          "text": [
            "\u001b[1mF1-micro\u001b[0m\n",
            "\n",
            "---------------------------------------------------------------------------------------\n",
            "\n",
            "F1 micro: 0.904321\n",
            "\n",
            "Καλύτερο μοντέλο στο σκορ f1-micro:\n",
            "Pipeline(steps=[('minmaxscaler', MinMaxScaler()), ('pca', PCA(n_components=75)),\n",
            "                ('svc', SVC(C=70, degree=9, gamma=0.015))])\n",
            "\n",
            "Best parameters =  {'pca__n_components': 75, 'svc__C': 70, 'svc__degree': 9, 'svc__gamma': 0.015, 'svc__kernel': 'rbf'}\n",
            "              precision    recall  f1-score   support\n",
            "\n",
            "           1       0.98      0.98      0.98        42\n",
            "           2       0.97      0.94      0.96        35\n",
            "           3       0.87      0.89      0.88        37\n",
            "           4       0.78      0.88      0.83        33\n",
            "           5       1.00      1.00      1.00        37\n",
            "           6       0.90      0.76      0.82        37\n",
            "           7       1.00      0.91      0.95        32\n",
            "           8       0.94      0.91      0.92        32\n",
            "           9       0.76      0.87      0.81        39\n",
            "\n",
            "    accuracy                           0.90       324\n",
            "   macro avg       0.91      0.90      0.91       324\n",
            "weighted avg       0.91      0.90      0.91       324\n",
            " \n",
            "\n",
            "\n",
            "---------------------------------------------------------------------------------------\n",
            "\u001b[1m\n",
            "\n",
            "F1-macro:\u001b[0m\n",
            "\n",
            "---------------------------------------------------------------------------------------\n",
            "\n",
            "\n",
            "F1 macro 0.922909\n",
            "\n",
            "Καλύτερο μοντέλο στο σκορ f1-macro:\n",
            "Pipeline(steps=[('minmaxscaler', MinMaxScaler()), ('pca', PCA(n_components=70)),\n",
            "                ('svc', SVC(C=70, degree=1, gamma=0.015))])\n",
            "\n",
            "Best parameters =  {'pca__n_components': 70, 'svc__C': 70, 'svc__degree': 1, 'svc__gamma': 0.015, 'svc__kernel': 'rbf'}\n",
            "              precision    recall  f1-score   support\n",
            "\n",
            "           1       1.00      0.98      0.99        42\n",
            "           2       0.89      0.94      0.92        35\n",
            "           3       0.92      0.89      0.90        37\n",
            "           4       0.83      0.91      0.87        33\n",
            "           5       1.00      1.00      1.00        37\n",
            "           6       0.94      0.81      0.87        37\n",
            "           7       1.00      0.91      0.95        32\n",
            "           8       0.94      0.97      0.95        32\n",
            "           9       0.81      0.90      0.85        39\n",
            "\n",
            "    accuracy                           0.92       324\n",
            "   macro avg       0.93      0.92      0.92       324\n",
            "weighted avg       0.93      0.92      0.92       324\n",
            " \n",
            "\n",
            "\n",
            "---------------------------------------------------------------------------------------\n"
          ],
          "name": "stdout"
        }
      ]
    },
    {
      "cell_type": "markdown",
      "metadata": {
        "id": "8jHfktop_shW"
      },
      "source": [
        "#### Σχολιασμός"
      ]
    },
    {
      "cell_type": "markdown",
      "metadata": {
        "id": "oEqluGgQ4BzB"
      },
      "source": [
        "Βλέπουμε πως τα αποτελέσματά μας βελτιώθηκαν σημαντικά σε όλα τα μοντέλα χρησιμοποιώντας την μέθοδο GridSearchCV. Το γεγονός αυτό μας δείχνει τη σημαντικότητα βελτιστοποίησης των υπερπαραμέτρων των μοντέλων μας καθώς και την ανάγκη εύρεσης της βέλτιστης αρχιτεκτονικής στο pipeline της εκτέλεσης μιας διεργασίας machine learning.\n",
        "\n"
      ]
    }
  ]
}